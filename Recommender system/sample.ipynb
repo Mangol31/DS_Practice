{
 "metadata": {
  "language_info": {
   "codemirror_mode": {
    "name": "ipython",
    "version": 3
   },
   "file_extension": ".py",
   "mimetype": "text/x-python",
   "name": "python",
   "nbconvert_exporter": "python",
   "pygments_lexer": "ipython3",
   "version": "3.8.5-final"
  },
  "orig_nbformat": 2,
  "kernelspec": {
   "name": "python3",
   "display_name": "Python 3"
  }
 },
 "nbformat": 4,
 "nbformat_minor": 2,
 "cells": [
  {
   "cell_type": "code",
   "execution_count": 1,
   "metadata": {},
   "outputs": [],
   "source": [
    "import numpy as np\n",
    "import pandas as pd\n",
    "import time\n",
    "import nmslib\n",
    "import scipy.sparse as sparse\n",
    "from lightfm import LightFM\n",
    "from lightfm.cross_validation import random_train_test_split\n",
    "from lightfm.evaluation import precision_at_k, recall_at_k\n",
    "pd.set_option('display.max_rows', 60)\n",
    "pd.set_option('display.max_columns', 100)\n",
    "#Содержит рейтинги, отсортированные по времени\n",
    "ratings = pd.read_csv('./data/ratings.csv')\n",
    "#содержит теги/полки/жанры, назначенные пользователями книгам. Теги в этом файле представлены их идентификаторами. Они сортируются по _goodreads_book_id_ по возрастанию и _count_ по убыванию\n",
    "book_tags = pd.read_csv(\"./data/book_tags.csv\")\n",
    "#Содержит метаданные для каждой книги (идентификаторы goodreads, авторы, название, средний рейтинг и т. д.).\n",
    "books = pd.read_csv(\"./data/books.csv\")\n",
    "#Здесь каждому тегу/полке присваивается идентификатор. **tags.csv** переводит идентификаторы тегов в имена.\n",
    "tags_dirty = pd.read_csv(\"./data/tags.csv\")\n",
    "#Почищенный tags.csv. Содержит около 500 наиболее популярных тегов + вручную сгруппированные оставшиеся теги.\n",
    "tags = pd.read_csv(\"./data/tags_cleaned.xls\")\n",
    "#Содержит идентификаторы книг, помеченных \"для чтения\" каждым пользователем, в виде пар _user_id,book_id_, отсортированных по времени. Существует около миллиона пар\n",
    "to_read = pd.read_csv(\"./data/to_read.csv\")\n"
   ]
  },
  {
   "cell_type": "code",
   "execution_count": 2,
   "metadata": {},
   "outputs": [
    {
     "output_type": "execute_result",
     "data": {
      "text/plain": [
       "   book_id  goodreads_book_id  best_book_id  work_id  books_count       isbn  \\\n",
       "0        1            2767052       2767052  2792775          272  439023483   \n",
       "1        2                  3             3  4640799          491  439554934   \n",
       "2        3              41865         41865  3212258          226  316015849   \n",
       "3        4               2657          2657  3275794          487   61120081   \n",
       "4        5               4671          4671   245494         1356  743273567   \n",
       "\n",
       "         isbn13                      authors  original_publication_year  \\\n",
       "0  9.780439e+12              Suzanne Collins                     2008.0   \n",
       "1  9.780440e+12  J.K. Rowling, Mary GrandPré                     1997.0   \n",
       "2  9.780316e+12              Stephenie Meyer                     2005.0   \n",
       "3  9.780061e+12                   Harper Lee                     1960.0   \n",
       "4  9.780743e+12          F. Scott Fitzgerald                     1925.0   \n",
       "\n",
       "                             original_title  \\\n",
       "0                          The Hunger Games   \n",
       "1  Harry Potter and the Philosopher's Stone   \n",
       "2                                  Twilight   \n",
       "3                     To Kill a Mockingbird   \n",
       "4                          The Great Gatsby   \n",
       "\n",
       "                                               title language_code  \\\n",
       "0            The Hunger Games (The Hunger Games, #1)           eng   \n",
       "1  Harry Potter and the Sorcerer's Stone (Harry P...           eng   \n",
       "2                            Twilight (Twilight, #1)         en-US   \n",
       "3                              To Kill a Mockingbird           eng   \n",
       "4                                   The Great Gatsby           eng   \n",
       "\n",
       "   average_rating  ratings_count  work_ratings_count  work_text_reviews_count  \\\n",
       "0            4.34        4780653             4942365                   155254   \n",
       "1            4.44        4602479             4800065                    75867   \n",
       "2            3.57        3866839             3916824                    95009   \n",
       "3            4.25        3198671             3340896                    72586   \n",
       "4            3.89        2683664             2773745                    51992   \n",
       "\n",
       "   ratings_1  ratings_2  ratings_3  ratings_4  ratings_5  \\\n",
       "0      66715     127936     560092    1481305    2706317   \n",
       "1      75504     101676     455024    1156318    3011543   \n",
       "2     456191     436802     793319     875073    1355439   \n",
       "3      60427     117415     446835    1001952    1714267   \n",
       "4      86236     197621     606158     936012     947718   \n",
       "\n",
       "                                           image_url  \\\n",
       "0  https://images.gr-assets.com/books/1447303603m...   \n",
       "1  https://images.gr-assets.com/books/1474154022m...   \n",
       "2  https://images.gr-assets.com/books/1361039443m...   \n",
       "3  https://images.gr-assets.com/books/1361975680m...   \n",
       "4  https://images.gr-assets.com/books/1490528560m...   \n",
       "\n",
       "                                     small_image_url  \n",
       "0  https://images.gr-assets.com/books/1447303603s...  \n",
       "1  https://images.gr-assets.com/books/1474154022s...  \n",
       "2  https://images.gr-assets.com/books/1361039443s...  \n",
       "3  https://images.gr-assets.com/books/1361975680s...  \n",
       "4  https://images.gr-assets.com/books/1490528560s...  "
      ],
      "text/html": "<div>\n<style scoped>\n    .dataframe tbody tr th:only-of-type {\n        vertical-align: middle;\n    }\n\n    .dataframe tbody tr th {\n        vertical-align: top;\n    }\n\n    .dataframe thead th {\n        text-align: right;\n    }\n</style>\n<table border=\"1\" class=\"dataframe\">\n  <thead>\n    <tr style=\"text-align: right;\">\n      <th></th>\n      <th>book_id</th>\n      <th>goodreads_book_id</th>\n      <th>best_book_id</th>\n      <th>work_id</th>\n      <th>books_count</th>\n      <th>isbn</th>\n      <th>isbn13</th>\n      <th>authors</th>\n      <th>original_publication_year</th>\n      <th>original_title</th>\n      <th>title</th>\n      <th>language_code</th>\n      <th>average_rating</th>\n      <th>ratings_count</th>\n      <th>work_ratings_count</th>\n      <th>work_text_reviews_count</th>\n      <th>ratings_1</th>\n      <th>ratings_2</th>\n      <th>ratings_3</th>\n      <th>ratings_4</th>\n      <th>ratings_5</th>\n      <th>image_url</th>\n      <th>small_image_url</th>\n    </tr>\n  </thead>\n  <tbody>\n    <tr>\n      <th>0</th>\n      <td>1</td>\n      <td>2767052</td>\n      <td>2767052</td>\n      <td>2792775</td>\n      <td>272</td>\n      <td>439023483</td>\n      <td>9.780439e+12</td>\n      <td>Suzanne Collins</td>\n      <td>2008.0</td>\n      <td>The Hunger Games</td>\n      <td>The Hunger Games (The Hunger Games, #1)</td>\n      <td>eng</td>\n      <td>4.34</td>\n      <td>4780653</td>\n      <td>4942365</td>\n      <td>155254</td>\n      <td>66715</td>\n      <td>127936</td>\n      <td>560092</td>\n      <td>1481305</td>\n      <td>2706317</td>\n      <td>https://images.gr-assets.com/books/1447303603m...</td>\n      <td>https://images.gr-assets.com/books/1447303603s...</td>\n    </tr>\n    <tr>\n      <th>1</th>\n      <td>2</td>\n      <td>3</td>\n      <td>3</td>\n      <td>4640799</td>\n      <td>491</td>\n      <td>439554934</td>\n      <td>9.780440e+12</td>\n      <td>J.K. Rowling, Mary GrandPré</td>\n      <td>1997.0</td>\n      <td>Harry Potter and the Philosopher's Stone</td>\n      <td>Harry Potter and the Sorcerer's Stone (Harry P...</td>\n      <td>eng</td>\n      <td>4.44</td>\n      <td>4602479</td>\n      <td>4800065</td>\n      <td>75867</td>\n      <td>75504</td>\n      <td>101676</td>\n      <td>455024</td>\n      <td>1156318</td>\n      <td>3011543</td>\n      <td>https://images.gr-assets.com/books/1474154022m...</td>\n      <td>https://images.gr-assets.com/books/1474154022s...</td>\n    </tr>\n    <tr>\n      <th>2</th>\n      <td>3</td>\n      <td>41865</td>\n      <td>41865</td>\n      <td>3212258</td>\n      <td>226</td>\n      <td>316015849</td>\n      <td>9.780316e+12</td>\n      <td>Stephenie Meyer</td>\n      <td>2005.0</td>\n      <td>Twilight</td>\n      <td>Twilight (Twilight, #1)</td>\n      <td>en-US</td>\n      <td>3.57</td>\n      <td>3866839</td>\n      <td>3916824</td>\n      <td>95009</td>\n      <td>456191</td>\n      <td>436802</td>\n      <td>793319</td>\n      <td>875073</td>\n      <td>1355439</td>\n      <td>https://images.gr-assets.com/books/1361039443m...</td>\n      <td>https://images.gr-assets.com/books/1361039443s...</td>\n    </tr>\n    <tr>\n      <th>3</th>\n      <td>4</td>\n      <td>2657</td>\n      <td>2657</td>\n      <td>3275794</td>\n      <td>487</td>\n      <td>61120081</td>\n      <td>9.780061e+12</td>\n      <td>Harper Lee</td>\n      <td>1960.0</td>\n      <td>To Kill a Mockingbird</td>\n      <td>To Kill a Mockingbird</td>\n      <td>eng</td>\n      <td>4.25</td>\n      <td>3198671</td>\n      <td>3340896</td>\n      <td>72586</td>\n      <td>60427</td>\n      <td>117415</td>\n      <td>446835</td>\n      <td>1001952</td>\n      <td>1714267</td>\n      <td>https://images.gr-assets.com/books/1361975680m...</td>\n      <td>https://images.gr-assets.com/books/1361975680s...</td>\n    </tr>\n    <tr>\n      <th>4</th>\n      <td>5</td>\n      <td>4671</td>\n      <td>4671</td>\n      <td>245494</td>\n      <td>1356</td>\n      <td>743273567</td>\n      <td>9.780743e+12</td>\n      <td>F. Scott Fitzgerald</td>\n      <td>1925.0</td>\n      <td>The Great Gatsby</td>\n      <td>The Great Gatsby</td>\n      <td>eng</td>\n      <td>3.89</td>\n      <td>2683664</td>\n      <td>2773745</td>\n      <td>51992</td>\n      <td>86236</td>\n      <td>197621</td>\n      <td>606158</td>\n      <td>936012</td>\n      <td>947718</td>\n      <td>https://images.gr-assets.com/books/1490528560m...</td>\n      <td>https://images.gr-assets.com/books/1490528560s...</td>\n    </tr>\n  </tbody>\n</table>\n</div>"
     },
     "metadata": {},
     "execution_count": 2
    }
   ],
   "source": [
    "pd.set_option('display.max_rows', 60)\n",
    "pd.set_option('display.max_columns', 100)\n",
    "books.head(5)"
   ]
  },
  {
   "cell_type": "code",
   "execution_count": 3,
   "metadata": {},
   "outputs": [
    {
     "output_type": "execute_result",
     "data": {
      "text/plain": [
       "   goodreads_book_id  tag_id   count\n",
       "0                  1   30574  167697\n",
       "1                  1   11305   37174\n",
       "2                  1   11557   34173"
      ],
      "text/html": "<div>\n<style scoped>\n    .dataframe tbody tr th:only-of-type {\n        vertical-align: middle;\n    }\n\n    .dataframe tbody tr th {\n        vertical-align: top;\n    }\n\n    .dataframe thead th {\n        text-align: right;\n    }\n</style>\n<table border=\"1\" class=\"dataframe\">\n  <thead>\n    <tr style=\"text-align: right;\">\n      <th></th>\n      <th>goodreads_book_id</th>\n      <th>tag_id</th>\n      <th>count</th>\n    </tr>\n  </thead>\n  <tbody>\n    <tr>\n      <th>0</th>\n      <td>1</td>\n      <td>30574</td>\n      <td>167697</td>\n    </tr>\n    <tr>\n      <th>1</th>\n      <td>1</td>\n      <td>11305</td>\n      <td>37174</td>\n    </tr>\n    <tr>\n      <th>2</th>\n      <td>1</td>\n      <td>11557</td>\n      <td>34173</td>\n    </tr>\n  </tbody>\n</table>\n</div>"
     },
     "metadata": {},
     "execution_count": 3
    }
   ],
   "source": [
    "book_tags.head(3)"
   ]
  },
  {
   "cell_type": "code",
   "execution_count": 4,
   "metadata": {},
   "outputs": [],
   "source": [
    "#Если мы посмотрим на датафрейм tags и на датафрейм books, то заметим, что у нас есть goodreads_book_id — от сервиса goodreads, и просто book_id — который привязан к нашей таблице. Создадим словарь, с помощью которого по book_id мы сможем находить id книги. \n",
    "mapper = dict(zip(books.goodreads_book_id,books.book_id))"
   ]
  },
  {
   "cell_type": "code",
   "execution_count": 5,
   "metadata": {},
   "outputs": [],
   "source": [
    "#Теперь применим этот словарь, чтобы добавить id книги в dataframe book_tags. \n",
    "book_tags = book_tags[book_tags.tag_id.isin(tags.tag_id)]\n",
    "book_tags['id'] = book_tags.goodreads_book_id.apply(lambda x: mapper[x])"
   ]
  },
  {
   "cell_type": "code",
   "execution_count": 6,
   "metadata": {},
   "outputs": [
    {
     "output_type": "execute_result",
     "data": {
      "text/plain": [
       "   goodreads_book_id  tag_id  count  id\n",
       "1                  1   11305  37174  27\n",
       "4                  1   33114  12716  27\n",
       "5                  1   11743   9954  27"
      ],
      "text/html": "<div>\n<style scoped>\n    .dataframe tbody tr th:only-of-type {\n        vertical-align: middle;\n    }\n\n    .dataframe tbody tr th {\n        vertical-align: top;\n    }\n\n    .dataframe thead th {\n        text-align: right;\n    }\n</style>\n<table border=\"1\" class=\"dataframe\">\n  <thead>\n    <tr style=\"text-align: right;\">\n      <th></th>\n      <th>goodreads_book_id</th>\n      <th>tag_id</th>\n      <th>count</th>\n      <th>id</th>\n    </tr>\n  </thead>\n  <tbody>\n    <tr>\n      <th>1</th>\n      <td>1</td>\n      <td>11305</td>\n      <td>37174</td>\n      <td>27</td>\n    </tr>\n    <tr>\n      <th>4</th>\n      <td>1</td>\n      <td>33114</td>\n      <td>12716</td>\n      <td>27</td>\n    </tr>\n    <tr>\n      <th>5</th>\n      <td>1</td>\n      <td>11743</td>\n      <td>9954</td>\n      <td>27</td>\n    </tr>\n  </tbody>\n</table>\n</div>"
     },
     "metadata": {},
     "execution_count": 6
    }
   ],
   "source": [
    "book_tags.head(3)"
   ]
  },
  {
   "cell_type": "code",
   "execution_count": 7,
   "metadata": {},
   "outputs": [],
   "source": [
    "#Чтобы работать с моделями в библиотеке LightFm, нам нужно создать разреженные матрицы. Мы будем хранить данные в формате COO (координатный формат представления данных). Вместо хранения всех значений, которые включают нулевые значения, мы будем хранить только ненулевые значения. В COO данные представлены в виде (строка, столбец, значение).\n",
    "ratings_coo = sparse.coo_matrix((ratings.rating,(ratings.user_id,ratings.book_id)))\n",
    "feature_ratings  = sparse.coo_matrix(([1]*len(book_tags),(book_tags.id,book_tags.tag_id)))"
   ]
  },
  {
   "source": [
    "Далее объявляем вспомогательные константы для обучения модели. "
   ],
   "cell_type": "markdown",
   "metadata": {}
  },
  {
   "cell_type": "code",
   "execution_count": 8,
   "metadata": {},
   "outputs": [],
   "source": [
    "#число потоков нашего процессора\n",
    "NUM_THREADS = 8 \n",
    "\n",
    "#число параметров вектора \n",
    "NUM_COMPONENTS = 30 \n",
    "\n",
    "#число эпох обучения\n",
    "NUM_EPOCHS = 10 "
   ]
  },
  {
   "source": [
    "На этапе создания модели мы используем библиотеку LightFM, чтобы сделать матричное разложение (ALS) наших рейтингов книг и получить два набора векторов. "
   ],
   "cell_type": "markdown",
   "metadata": {}
  },
  {
   "cell_type": "code",
   "execution_count": 9,
   "metadata": {},
   "outputs": [
    {
     "output_type": "stream",
     "name": "stdout",
     "text": [
      "--- 59.14856697718302 minutes ---\n"
     ]
    }
   ],
   "source": [
    "start_time = time.time()\n",
    "#Создаём модель\n",
    "model = LightFM(learning_rate=0.05, loss='warp', no_components=NUM_COMPONENTS)\n",
    " \n",
    "#Разбиваем наш датасет на обучающую и тестовую выборки\n",
    "train,test = random_train_test_split(ratings_coo, test_percentage=0.2, random_state=None)\n",
    "\n",
    "#Обучаем модель\n",
    "model = model.fit(train, epochs=NUM_EPOCHS, num_threads=NUM_THREADS,item_features =feature_ratings)\n",
    "#Первый набор отвечает векторному представлению пользователя, а второй набор соответствует векторному представлению книг. \n",
    "print(\"--- %s minutes ---\" % ((time.time() - start_time)/60))\n"
   ]
  },
  {
   "cell_type": "code",
   "execution_count": 18,
   "metadata": {},
   "outputs": [],
   "source": []
  },
  {
   "cell_type": "code",
   "execution_count": 19,
   "metadata": {},
   "outputs": [],
   "source": []
  },
  {
   "cell_type": "code",
   "execution_count": 10,
   "metadata": {},
   "outputs": [
    {
     "output_type": "stream",
     "name": "stdout",
     "text": [
      "0.037625123577989 0.08164308\n"
     ]
    }
   ],
   "source": [
    "start_time1 = time.time()\n",
    "#Тестируем нашу модель\n",
    "prec_score = precision_at_k(\n",
    "                     model,\n",
    "                     test,\n",
    "                     num_threads=NUM_THREADS,\n",
    "                     k=10,\n",
    "                     item_features=feature_ratings).mean()\n",
    " \n",
    "recall_at_k = recall_at_k(model,\n",
    "                     test,\n",
    "                     num_threads=NUM_THREADS,\n",
    "                     k=10,\n",
    "                     item_features=feature_ratings).mean()\n",
    "\n",
    "print(recall_at_k,prec_score)"
   ]
  },
  {
   "cell_type": "code",
   "execution_count": 11,
   "metadata": {},
   "outputs": [
    {
     "output_type": "stream",
     "name": "stdout",
     "text": [
      "--- 15.826706779003143 minutes ---\n"
     ]
    }
   ],
   "source": [
    " print(\"--- %s minutes ---\" % ((time.time() - start_time1)/60))"
   ]
  },
  {
   "cell_type": "code",
   "execution_count": 12,
   "metadata": {},
   "outputs": [],
   "source": [
    "# Достаём эбмеддинги\n",
    "\n",
    "item_biases, item_embeddings = model.get_item_representations(features=feature_ratings)"
   ]
  },
  {
   "source": [
    "Мы получили эмбеддинги — что делать с ними дальше? Эмбеддинги нам нужны, чтобы давать предсказание к каждой книге, а точнее искать наиболее похожие. Но как быстро найти среди 10 000 книг наиболее похожую? На помощь нам приходит метод ближайших соседей, approximate k-nn, который реализован в библиотеке nmslib.  \n",
    "\n",
    "Вместо того, чтобы перебирать все вершины, мы можем очень быстро обходить граф."
   ],
   "cell_type": "markdown",
   "metadata": {}
  },
  {
   "cell_type": "code",
   "execution_count": 13,
   "metadata": {},
   "outputs": [],
   "source": [
    "#Создаём наш граф для поиска\n",
    "nms_idx = nmslib.init(method='hnsw', space='cosinesimil')\n",
    " \n",
    "#Начинаем добавлять наши книги в граф\n",
    "nms_idx.addDataPointBatch(item_embeddings)\n",
    "nms_idx.createIndex(print_progress=True)"
   ]
  },
  {
   "cell_type": "code",
   "execution_count": 14,
   "metadata": {},
   "outputs": [],
   "source": [
    "#Далее давайте напишем вспомогательную функцию, чтобы осуществлять поиск с помощью nmslib.\n",
    "def nearest_books_nms(book_id, index, n=10):\n",
    "    nn = index.knnQuery(item_embeddings[book_id], k=n)\n",
    "    return nn"
   ]
  },
  {
   "source": [
    "Давайте попробуем написать рекомендации к какой-нибудь книге. Например, к роману «1984» Джорджа Оруэлла."
   ],
   "cell_type": "markdown",
   "metadata": {}
  },
  {
   "cell_type": "code",
   "execution_count": 15,
   "metadata": {},
   "outputs": [
    {
     "output_type": "execute_result",
     "data": {
      "text/plain": [
       "     book_id  goodreads_book_id  best_book_id  work_id  books_count  \\\n",
       "845      846               5472          5472  2966408           51   \n",
       "\n",
       "          isbn        isbn13                              authors  \\\n",
       "845  151010269  9.780151e+12  George Orwell, Christopher Hitchens   \n",
       "\n",
       "     original_publication_year       original_title               title  \\\n",
       "845                     1950.0   Animal Farm & 1984  Animal Farm / 1984   \n",
       "\n",
       "    language_code  average_rating  ratings_count  work_ratings_count  \\\n",
       "845           eng            4.26         116197              118761   \n",
       "\n",
       "     work_text_reviews_count  ratings_1  ratings_2  ratings_3  ratings_4  \\\n",
       "845                     1293       1212       3276      16511      40583   \n",
       "\n",
       "     ratings_5                                          image_url  \\\n",
       "845      57179  https://images.gr-assets.com/books/1327959366m...   \n",
       "\n",
       "                                       small_image_url  \n",
       "845  https://images.gr-assets.com/books/1327959366s...  "
      ],
      "text/html": "<div>\n<style scoped>\n    .dataframe tbody tr th:only-of-type {\n        vertical-align: middle;\n    }\n\n    .dataframe tbody tr th {\n        vertical-align: top;\n    }\n\n    .dataframe thead th {\n        text-align: right;\n    }\n</style>\n<table border=\"1\" class=\"dataframe\">\n  <thead>\n    <tr style=\"text-align: right;\">\n      <th></th>\n      <th>book_id</th>\n      <th>goodreads_book_id</th>\n      <th>best_book_id</th>\n      <th>work_id</th>\n      <th>books_count</th>\n      <th>isbn</th>\n      <th>isbn13</th>\n      <th>authors</th>\n      <th>original_publication_year</th>\n      <th>original_title</th>\n      <th>title</th>\n      <th>language_code</th>\n      <th>average_rating</th>\n      <th>ratings_count</th>\n      <th>work_ratings_count</th>\n      <th>work_text_reviews_count</th>\n      <th>ratings_1</th>\n      <th>ratings_2</th>\n      <th>ratings_3</th>\n      <th>ratings_4</th>\n      <th>ratings_5</th>\n      <th>image_url</th>\n      <th>small_image_url</th>\n    </tr>\n  </thead>\n  <tbody>\n    <tr>\n      <th>845</th>\n      <td>846</td>\n      <td>5472</td>\n      <td>5472</td>\n      <td>2966408</td>\n      <td>51</td>\n      <td>151010269</td>\n      <td>9.780151e+12</td>\n      <td>George Orwell, Christopher Hitchens</td>\n      <td>1950.0</td>\n      <td>Animal Farm &amp; 1984</td>\n      <td>Animal Farm / 1984</td>\n      <td>eng</td>\n      <td>4.26</td>\n      <td>116197</td>\n      <td>118761</td>\n      <td>1293</td>\n      <td>1212</td>\n      <td>3276</td>\n      <td>16511</td>\n      <td>40583</td>\n      <td>57179</td>\n      <td>https://images.gr-assets.com/books/1327959366m...</td>\n      <td>https://images.gr-assets.com/books/1327959366s...</td>\n    </tr>\n  </tbody>\n</table>\n</div>"
     },
     "metadata": {},
     "execution_count": 15
    }
   ],
   "source": [
    "books[books.original_title.str.find('1984')>=0].head(2)"
   ]
  },
  {
   "cell_type": "code",
   "execution_count": 16,
   "metadata": {},
   "outputs": [],
   "source": [
    "# Ищем похожие книги.\n",
    "nbm = nearest_books_nms(846,nms_idx)[0]"
   ]
  },
  {
   "cell_type": "code",
   "execution_count": 17,
   "metadata": {},
   "outputs": [
    {
     "output_type": "execute_result",
     "data": {
      "text/plain": [
       "      book_id  goodreads_book_id  best_book_id   work_id  books_count  \\\n",
       "13         14               7613          7613   2207778          896   \n",
       "47         48               4381          4381   1272463          507   \n",
       "54         55               5129          5129   3204877          515   \n",
       "374       375               1852          1852   3252320         1384   \n",
       "845       846               5472          5472   2966408           51   \n",
       "902       903                667           667    287946          460   \n",
       "934       935              43035         43035   2949952         1085   \n",
       "4591     4592              90192         90192   1483780          636   \n",
       "8139     8140               5481          5481  16335101           80   \n",
       "\n",
       "           isbn        isbn13                                authors  \\\n",
       "13    452284244  9.780452e+12                          George Orwell   \n",
       "47    307347974  9.780307e+12                           Ray Bradbury   \n",
       "54     60929871  9.780061e+12                          Aldous Huxley   \n",
       "374   439227143  9.780439e+12                            Jack London   \n",
       "845   151010269  9.780151e+12    George Orwell, Christopher Hitchens   \n",
       "902   452281253  9.780452e+12                               Ayn Rand   \n",
       "934   439236193  9.780439e+12                            Jack London   \n",
       "4591  393924769  9.780394e+12  Nathaniel Hawthorne, Robert S. Levine   \n",
       "8139   60898526  9.780061e+12                          Aldous Huxley   \n",
       "\n",
       "      original_publication_year                 original_title  \\\n",
       "13                       1945.0     Animal Farm: A Fairy Story   \n",
       "47                       1953.0                 Fahrenheit 451   \n",
       "54                       1932.0                Brave New World   \n",
       "374                      1903.0           The Call of the Wild   \n",
       "845                      1950.0             Animal Farm & 1984   \n",
       "902                      1938.0                         Anthem   \n",
       "934                      1906.0                     White Fang   \n",
       "4591                     1851.0  The House of the Seven Gables   \n",
       "8139                     1958.0     Brave New World Revisited    \n",
       "\n",
       "                              title language_code  average_rating  \\\n",
       "13                      Animal Farm           eng            3.87   \n",
       "47                   Fahrenheit 451           spa            3.97   \n",
       "54                  Brave New World           eng            3.97   \n",
       "374            The Call of the Wild           eng            3.83   \n",
       "845              Animal Farm / 1984           eng            4.26   \n",
       "902                          Anthem           eng            3.62   \n",
       "934                      White Fang           eng            3.94   \n",
       "4591  The House of the Seven Gables           eng            3.45   \n",
       "8139     Brave New World Revisited          en-US            3.93   \n",
       "\n",
       "      ratings_count  work_ratings_count  work_text_reviews_count  ratings_1  \\\n",
       "13          1881700             1982987                    35472      66854   \n",
       "47           570498             1176240                    30694      28366   \n",
       "54          1022601             1079135                    20095      26367   \n",
       "374          223932              248795                     6770       6366   \n",
       "845          116197              118761                     1293       1212   \n",
       "902           95620              106766                     7096       6095   \n",
       "934          100223              114519                     3017       1823   \n",
       "4591          23797               28715                     1651       1373   \n",
       "8139          11073               12286                      714        231   \n",
       "\n",
       "      ratings_2  ratings_3  ratings_4  ratings_5  \\\n",
       "13       135147     433432     698642     648912   \n",
       "47        64289     238242     426292     419051   \n",
       "54        60328     219895     389379     383166   \n",
       "374       16636      62853      90382      72558   \n",
       "845        3276      16511      40583      57179   \n",
       "902       10982      27984      34074      27631   \n",
       "934        5850      27264      42175      37407   \n",
       "4591       3640       9601       8899       5202   \n",
       "8139        691       2765       4567       4032   \n",
       "\n",
       "                                              image_url  \\\n",
       "13    https://images.gr-assets.com/books/1424037542m...   \n",
       "47    https://images.gr-assets.com/books/1351643740m...   \n",
       "54    https://images.gr-assets.com/books/1487389574m...   \n",
       "374   https://images.gr-assets.com/books/1452291694m...   \n",
       "845   https://images.gr-assets.com/books/1327959366m...   \n",
       "902   https://s.gr-assets.com/assets/nophoto/book/11...   \n",
       "934   https://images.gr-assets.com/books/1475878443m...   \n",
       "4591  https://s.gr-assets.com/assets/nophoto/book/11...   \n",
       "8139  https://images.gr-assets.com/books/1410136964m...   \n",
       "\n",
       "                                        small_image_url  \n",
       "13    https://images.gr-assets.com/books/1424037542s...  \n",
       "47    https://images.gr-assets.com/books/1351643740s...  \n",
       "54    https://images.gr-assets.com/books/1487389574s...  \n",
       "374   https://images.gr-assets.com/books/1452291694s...  \n",
       "845   https://images.gr-assets.com/books/1327959366s...  \n",
       "902   https://s.gr-assets.com/assets/nophoto/book/50...  \n",
       "934   https://images.gr-assets.com/books/1475878443s...  \n",
       "4591  https://s.gr-assets.com/assets/nophoto/book/50...  \n",
       "8139  https://images.gr-assets.com/books/1410136964s...  "
      ],
      "text/html": "<div>\n<style scoped>\n    .dataframe tbody tr th:only-of-type {\n        vertical-align: middle;\n    }\n\n    .dataframe tbody tr th {\n        vertical-align: top;\n    }\n\n    .dataframe thead th {\n        text-align: right;\n    }\n</style>\n<table border=\"1\" class=\"dataframe\">\n  <thead>\n    <tr style=\"text-align: right;\">\n      <th></th>\n      <th>book_id</th>\n      <th>goodreads_book_id</th>\n      <th>best_book_id</th>\n      <th>work_id</th>\n      <th>books_count</th>\n      <th>isbn</th>\n      <th>isbn13</th>\n      <th>authors</th>\n      <th>original_publication_year</th>\n      <th>original_title</th>\n      <th>title</th>\n      <th>language_code</th>\n      <th>average_rating</th>\n      <th>ratings_count</th>\n      <th>work_ratings_count</th>\n      <th>work_text_reviews_count</th>\n      <th>ratings_1</th>\n      <th>ratings_2</th>\n      <th>ratings_3</th>\n      <th>ratings_4</th>\n      <th>ratings_5</th>\n      <th>image_url</th>\n      <th>small_image_url</th>\n    </tr>\n  </thead>\n  <tbody>\n    <tr>\n      <th>13</th>\n      <td>14</td>\n      <td>7613</td>\n      <td>7613</td>\n      <td>2207778</td>\n      <td>896</td>\n      <td>452284244</td>\n      <td>9.780452e+12</td>\n      <td>George Orwell</td>\n      <td>1945.0</td>\n      <td>Animal Farm: A Fairy Story</td>\n      <td>Animal Farm</td>\n      <td>eng</td>\n      <td>3.87</td>\n      <td>1881700</td>\n      <td>1982987</td>\n      <td>35472</td>\n      <td>66854</td>\n      <td>135147</td>\n      <td>433432</td>\n      <td>698642</td>\n      <td>648912</td>\n      <td>https://images.gr-assets.com/books/1424037542m...</td>\n      <td>https://images.gr-assets.com/books/1424037542s...</td>\n    </tr>\n    <tr>\n      <th>47</th>\n      <td>48</td>\n      <td>4381</td>\n      <td>4381</td>\n      <td>1272463</td>\n      <td>507</td>\n      <td>307347974</td>\n      <td>9.780307e+12</td>\n      <td>Ray Bradbury</td>\n      <td>1953.0</td>\n      <td>Fahrenheit 451</td>\n      <td>Fahrenheit 451</td>\n      <td>spa</td>\n      <td>3.97</td>\n      <td>570498</td>\n      <td>1176240</td>\n      <td>30694</td>\n      <td>28366</td>\n      <td>64289</td>\n      <td>238242</td>\n      <td>426292</td>\n      <td>419051</td>\n      <td>https://images.gr-assets.com/books/1351643740m...</td>\n      <td>https://images.gr-assets.com/books/1351643740s...</td>\n    </tr>\n    <tr>\n      <th>54</th>\n      <td>55</td>\n      <td>5129</td>\n      <td>5129</td>\n      <td>3204877</td>\n      <td>515</td>\n      <td>60929871</td>\n      <td>9.780061e+12</td>\n      <td>Aldous Huxley</td>\n      <td>1932.0</td>\n      <td>Brave New World</td>\n      <td>Brave New World</td>\n      <td>eng</td>\n      <td>3.97</td>\n      <td>1022601</td>\n      <td>1079135</td>\n      <td>20095</td>\n      <td>26367</td>\n      <td>60328</td>\n      <td>219895</td>\n      <td>389379</td>\n      <td>383166</td>\n      <td>https://images.gr-assets.com/books/1487389574m...</td>\n      <td>https://images.gr-assets.com/books/1487389574s...</td>\n    </tr>\n    <tr>\n      <th>374</th>\n      <td>375</td>\n      <td>1852</td>\n      <td>1852</td>\n      <td>3252320</td>\n      <td>1384</td>\n      <td>439227143</td>\n      <td>9.780439e+12</td>\n      <td>Jack London</td>\n      <td>1903.0</td>\n      <td>The Call of the Wild</td>\n      <td>The Call of the Wild</td>\n      <td>eng</td>\n      <td>3.83</td>\n      <td>223932</td>\n      <td>248795</td>\n      <td>6770</td>\n      <td>6366</td>\n      <td>16636</td>\n      <td>62853</td>\n      <td>90382</td>\n      <td>72558</td>\n      <td>https://images.gr-assets.com/books/1452291694m...</td>\n      <td>https://images.gr-assets.com/books/1452291694s...</td>\n    </tr>\n    <tr>\n      <th>845</th>\n      <td>846</td>\n      <td>5472</td>\n      <td>5472</td>\n      <td>2966408</td>\n      <td>51</td>\n      <td>151010269</td>\n      <td>9.780151e+12</td>\n      <td>George Orwell, Christopher Hitchens</td>\n      <td>1950.0</td>\n      <td>Animal Farm &amp; 1984</td>\n      <td>Animal Farm / 1984</td>\n      <td>eng</td>\n      <td>4.26</td>\n      <td>116197</td>\n      <td>118761</td>\n      <td>1293</td>\n      <td>1212</td>\n      <td>3276</td>\n      <td>16511</td>\n      <td>40583</td>\n      <td>57179</td>\n      <td>https://images.gr-assets.com/books/1327959366m...</td>\n      <td>https://images.gr-assets.com/books/1327959366s...</td>\n    </tr>\n    <tr>\n      <th>902</th>\n      <td>903</td>\n      <td>667</td>\n      <td>667</td>\n      <td>287946</td>\n      <td>460</td>\n      <td>452281253</td>\n      <td>9.780452e+12</td>\n      <td>Ayn Rand</td>\n      <td>1938.0</td>\n      <td>Anthem</td>\n      <td>Anthem</td>\n      <td>eng</td>\n      <td>3.62</td>\n      <td>95620</td>\n      <td>106766</td>\n      <td>7096</td>\n      <td>6095</td>\n      <td>10982</td>\n      <td>27984</td>\n      <td>34074</td>\n      <td>27631</td>\n      <td>https://s.gr-assets.com/assets/nophoto/book/11...</td>\n      <td>https://s.gr-assets.com/assets/nophoto/book/50...</td>\n    </tr>\n    <tr>\n      <th>934</th>\n      <td>935</td>\n      <td>43035</td>\n      <td>43035</td>\n      <td>2949952</td>\n      <td>1085</td>\n      <td>439236193</td>\n      <td>9.780439e+12</td>\n      <td>Jack London</td>\n      <td>1906.0</td>\n      <td>White Fang</td>\n      <td>White Fang</td>\n      <td>eng</td>\n      <td>3.94</td>\n      <td>100223</td>\n      <td>114519</td>\n      <td>3017</td>\n      <td>1823</td>\n      <td>5850</td>\n      <td>27264</td>\n      <td>42175</td>\n      <td>37407</td>\n      <td>https://images.gr-assets.com/books/1475878443m...</td>\n      <td>https://images.gr-assets.com/books/1475878443s...</td>\n    </tr>\n    <tr>\n      <th>4591</th>\n      <td>4592</td>\n      <td>90192</td>\n      <td>90192</td>\n      <td>1483780</td>\n      <td>636</td>\n      <td>393924769</td>\n      <td>9.780394e+12</td>\n      <td>Nathaniel Hawthorne, Robert S. Levine</td>\n      <td>1851.0</td>\n      <td>The House of the Seven Gables</td>\n      <td>The House of the Seven Gables</td>\n      <td>eng</td>\n      <td>3.45</td>\n      <td>23797</td>\n      <td>28715</td>\n      <td>1651</td>\n      <td>1373</td>\n      <td>3640</td>\n      <td>9601</td>\n      <td>8899</td>\n      <td>5202</td>\n      <td>https://s.gr-assets.com/assets/nophoto/book/11...</td>\n      <td>https://s.gr-assets.com/assets/nophoto/book/50...</td>\n    </tr>\n    <tr>\n      <th>8139</th>\n      <td>8140</td>\n      <td>5481</td>\n      <td>5481</td>\n      <td>16335101</td>\n      <td>80</td>\n      <td>60898526</td>\n      <td>9.780061e+12</td>\n      <td>Aldous Huxley</td>\n      <td>1958.0</td>\n      <td>Brave New World Revisited</td>\n      <td>Brave New World Revisited</td>\n      <td>en-US</td>\n      <td>3.93</td>\n      <td>11073</td>\n      <td>12286</td>\n      <td>714</td>\n      <td>231</td>\n      <td>691</td>\n      <td>2765</td>\n      <td>4567</td>\n      <td>4032</td>\n      <td>https://images.gr-assets.com/books/1410136964m...</td>\n      <td>https://images.gr-assets.com/books/1410136964s...</td>\n    </tr>\n  </tbody>\n</table>\n</div>"
     },
     "metadata": {},
     "execution_count": 17
    }
   ],
   "source": [
    "books[books.book_id.isin(nbm)]"
   ]
  },
  {
   "source": [
    "Найдите рекомендации для книги Thomas Harris, The Silence of the Lambs. Какие книги присутствуют в списке рекомендаций?"
   ],
   "cell_type": "markdown",
   "metadata": {}
  },
  {
   "cell_type": "code",
   "execution_count": 18,
   "metadata": {},
   "outputs": [
    {
     "output_type": "execute_result",
     "data": {
      "text/plain": [
       "     book_id  goodreads_book_id  best_book_id  work_id  books_count      isbn  \\\n",
       "208      209              23807         23807    22533          187  99446782   \n",
       "\n",
       "           isbn13        authors  original_publication_year  \\\n",
       "208  9.780099e+12  Thomas Harris                     1988.0   \n",
       "\n",
       "               original_title  \\\n",
       "208  The Silence of the Lambs   \n",
       "\n",
       "                                               title language_code  \\\n",
       "208  The Silence of the Lambs  (Hannibal Lecter, #2)           eng   \n",
       "\n",
       "     average_rating  ratings_count  work_ratings_count  \\\n",
       "208            4.14         351107              366112   \n",
       "\n",
       "     work_text_reviews_count  ratings_1  ratings_2  ratings_3  ratings_4  \\\n",
       "208                     3866      10268      12845      55427     123652   \n",
       "\n",
       "     ratings_5                                          image_url  \\\n",
       "208     163920  https://images.gr-assets.com/books/1390426249m...   \n",
       "\n",
       "                                       small_image_url  \n",
       "208  https://images.gr-assets.com/books/1390426249s...  "
      ],
      "text/html": "<div>\n<style scoped>\n    .dataframe tbody tr th:only-of-type {\n        vertical-align: middle;\n    }\n\n    .dataframe tbody tr th {\n        vertical-align: top;\n    }\n\n    .dataframe thead th {\n        text-align: right;\n    }\n</style>\n<table border=\"1\" class=\"dataframe\">\n  <thead>\n    <tr style=\"text-align: right;\">\n      <th></th>\n      <th>book_id</th>\n      <th>goodreads_book_id</th>\n      <th>best_book_id</th>\n      <th>work_id</th>\n      <th>books_count</th>\n      <th>isbn</th>\n      <th>isbn13</th>\n      <th>authors</th>\n      <th>original_publication_year</th>\n      <th>original_title</th>\n      <th>title</th>\n      <th>language_code</th>\n      <th>average_rating</th>\n      <th>ratings_count</th>\n      <th>work_ratings_count</th>\n      <th>work_text_reviews_count</th>\n      <th>ratings_1</th>\n      <th>ratings_2</th>\n      <th>ratings_3</th>\n      <th>ratings_4</th>\n      <th>ratings_5</th>\n      <th>image_url</th>\n      <th>small_image_url</th>\n    </tr>\n  </thead>\n  <tbody>\n    <tr>\n      <th>208</th>\n      <td>209</td>\n      <td>23807</td>\n      <td>23807</td>\n      <td>22533</td>\n      <td>187</td>\n      <td>99446782</td>\n      <td>9.780099e+12</td>\n      <td>Thomas Harris</td>\n      <td>1988.0</td>\n      <td>The Silence of the Lambs</td>\n      <td>The Silence of the Lambs  (Hannibal Lecter, #2)</td>\n      <td>eng</td>\n      <td>4.14</td>\n      <td>351107</td>\n      <td>366112</td>\n      <td>3866</td>\n      <td>10268</td>\n      <td>12845</td>\n      <td>55427</td>\n      <td>123652</td>\n      <td>163920</td>\n      <td>https://images.gr-assets.com/books/1390426249m...</td>\n      <td>https://images.gr-assets.com/books/1390426249s...</td>\n    </tr>\n  </tbody>\n</table>\n</div>"
     },
     "metadata": {},
     "execution_count": 18
    }
   ],
   "source": [
    "books[books.original_title.str.find('The Silence of the Lambs')>=0].head(2)"
   ]
  },
  {
   "cell_type": "code",
   "execution_count": 19,
   "metadata": {},
   "outputs": [
    {
     "output_type": "execute_result",
     "data": {
      "text/plain": [
       "      book_id  goodreads_book_id  best_book_id  work_id  books_count  \\\n",
       "208       209              23807         23807    22533          187   \n",
       "430       431              28877         28877   925503          191   \n",
       "767       768              21686         21686  1234227          134   \n",
       "1801     1802              32418         32418  2992500          132   \n",
       "3405     3406              18402         18402  2164481           77   \n",
       "4421     4422              32416         32416    46673           94   \n",
       "5312     5313              21727         21727   593515           46   \n",
       "6112     6113               7663          7663  2651727           57   \n",
       "6495     6496             767307        767307  1441588           49   \n",
       "\n",
       "            isbn        isbn13                           authors  \\\n",
       "208     99446782  9.780099e+12                     Thomas Harris   \n",
       "430    525945563  9.780526e+12                     Thomas Harris   \n",
       "767   038073186X  9.780381e+12                     Dennis Lehane   \n",
       "1801    99297701  9.780099e+12                     Thomas Harris   \n",
       "3405  034549038X  9.780345e+12                     Matthew Pearl   \n",
       "4421   385339410  9.780385e+12                     Thomas Harris   \n",
       "5312   307279952  9.780307e+12                    Scott B. Smith   \n",
       "6112   451210638  9.780451e+12  Jeffery Hudson, Michael Crichton   \n",
       "6495   345427637  9.780345e+12                        Caleb Carr   \n",
       "\n",
       "      original_publication_year            original_title  \\\n",
       "208                      1988.0  The Silence of the Lambs   \n",
       "430                      1981.0                Red Dragon   \n",
       "767                      2003.0            Shutter Island   \n",
       "1801                     1999.0                  Hannibal   \n",
       "3405                     2003.0            The Dante Club   \n",
       "4421                     2006.0           Hannibal Rising   \n",
       "5312                     1993.0             A Simple Plan   \n",
       "6112                     1968.0            A Case of Need   \n",
       "6495                     1997.0     The Angel of Darkness   \n",
       "\n",
       "                                                title language_code  \\\n",
       "208   The Silence of the Lambs  (Hannibal Lecter, #2)           eng   \n",
       "430                  Red Dragon (Hannibal Lecter, #1)           eng   \n",
       "767                                    Shutter Island           eng   \n",
       "1801                   Hannibal (Hannibal Lecter, #3)           eng   \n",
       "3405                                   The Dante Club         en-US   \n",
       "4421            Hannibal Rising (Hannibal Lecter, #4)         en-US   \n",
       "5312                                    A Simple Plan           NaN   \n",
       "6112                                   A Case of Need         en-US   \n",
       "6495  The Angel of Darkness (Dr. Laszlo Kreizler, #2)         en-US   \n",
       "\n",
       "      average_rating  ratings_count  work_ratings_count  \\\n",
       "208             4.14         351107              366112   \n",
       "430             4.01         194013              205433   \n",
       "767             4.07         113718              124032   \n",
       "1801            3.72          57569               63555   \n",
       "3405            3.38          31035               33728   \n",
       "4421            3.44          22767               25973   \n",
       "5312            3.91          18628               19650   \n",
       "6112            3.60          14109               16047   \n",
       "6495            3.94          16343               17727   \n",
       "\n",
       "      work_text_reviews_count  ratings_1  ratings_2  ratings_3  ratings_4  \\\n",
       "208                      3866      10268      12845      55427     123652   \n",
       "430                      3309       3012       7790      43235      80662   \n",
       "767                      6990       1636       4727      22089      49875   \n",
       "1801                     2098       2166       5811      17220      20844   \n",
       "3405                     2206       1822       4320      11905      10640   \n",
       "4421                     1317       1468       3733       8087       7174   \n",
       "5312                      986        478       1086       4239       7690   \n",
       "6112                      563        291       1448       5632       5664   \n",
       "6495                      883        120        775       4246       7431   \n",
       "\n",
       "      ratings_5                                          image_url  \\\n",
       "208      163920  https://images.gr-assets.com/books/1390426249m...   \n",
       "430       70734  https://s.gr-assets.com/assets/nophoto/book/11...   \n",
       "767       45705  https://images.gr-assets.com/books/1329269081m...   \n",
       "1801      17514  https://images.gr-assets.com/books/1327356556m...   \n",
       "3405       5041  https://s.gr-assets.com/assets/nophoto/book/11...   \n",
       "4421       5511  https://images.gr-assets.com/books/1394208690m...   \n",
       "5312       6157  https://s.gr-assets.com/assets/nophoto/book/11...   \n",
       "6112       3012  https://s.gr-assets.com/assets/nophoto/book/11...   \n",
       "6495       5155  https://images.gr-assets.com/books/1433066571m...   \n",
       "\n",
       "                                        small_image_url  \n",
       "208   https://images.gr-assets.com/books/1390426249s...  \n",
       "430   https://s.gr-assets.com/assets/nophoto/book/50...  \n",
       "767   https://images.gr-assets.com/books/1329269081s...  \n",
       "1801  https://images.gr-assets.com/books/1327356556s...  \n",
       "3405  https://s.gr-assets.com/assets/nophoto/book/50...  \n",
       "4421  https://images.gr-assets.com/books/1394208690s...  \n",
       "5312  https://s.gr-assets.com/assets/nophoto/book/50...  \n",
       "6112  https://s.gr-assets.com/assets/nophoto/book/50...  \n",
       "6495  https://images.gr-assets.com/books/1433066571s...  "
      ],
      "text/html": "<div>\n<style scoped>\n    .dataframe tbody tr th:only-of-type {\n        vertical-align: middle;\n    }\n\n    .dataframe tbody tr th {\n        vertical-align: top;\n    }\n\n    .dataframe thead th {\n        text-align: right;\n    }\n</style>\n<table border=\"1\" class=\"dataframe\">\n  <thead>\n    <tr style=\"text-align: right;\">\n      <th></th>\n      <th>book_id</th>\n      <th>goodreads_book_id</th>\n      <th>best_book_id</th>\n      <th>work_id</th>\n      <th>books_count</th>\n      <th>isbn</th>\n      <th>isbn13</th>\n      <th>authors</th>\n      <th>original_publication_year</th>\n      <th>original_title</th>\n      <th>title</th>\n      <th>language_code</th>\n      <th>average_rating</th>\n      <th>ratings_count</th>\n      <th>work_ratings_count</th>\n      <th>work_text_reviews_count</th>\n      <th>ratings_1</th>\n      <th>ratings_2</th>\n      <th>ratings_3</th>\n      <th>ratings_4</th>\n      <th>ratings_5</th>\n      <th>image_url</th>\n      <th>small_image_url</th>\n    </tr>\n  </thead>\n  <tbody>\n    <tr>\n      <th>208</th>\n      <td>209</td>\n      <td>23807</td>\n      <td>23807</td>\n      <td>22533</td>\n      <td>187</td>\n      <td>99446782</td>\n      <td>9.780099e+12</td>\n      <td>Thomas Harris</td>\n      <td>1988.0</td>\n      <td>The Silence of the Lambs</td>\n      <td>The Silence of the Lambs  (Hannibal Lecter, #2)</td>\n      <td>eng</td>\n      <td>4.14</td>\n      <td>351107</td>\n      <td>366112</td>\n      <td>3866</td>\n      <td>10268</td>\n      <td>12845</td>\n      <td>55427</td>\n      <td>123652</td>\n      <td>163920</td>\n      <td>https://images.gr-assets.com/books/1390426249m...</td>\n      <td>https://images.gr-assets.com/books/1390426249s...</td>\n    </tr>\n    <tr>\n      <th>430</th>\n      <td>431</td>\n      <td>28877</td>\n      <td>28877</td>\n      <td>925503</td>\n      <td>191</td>\n      <td>525945563</td>\n      <td>9.780526e+12</td>\n      <td>Thomas Harris</td>\n      <td>1981.0</td>\n      <td>Red Dragon</td>\n      <td>Red Dragon (Hannibal Lecter, #1)</td>\n      <td>eng</td>\n      <td>4.01</td>\n      <td>194013</td>\n      <td>205433</td>\n      <td>3309</td>\n      <td>3012</td>\n      <td>7790</td>\n      <td>43235</td>\n      <td>80662</td>\n      <td>70734</td>\n      <td>https://s.gr-assets.com/assets/nophoto/book/11...</td>\n      <td>https://s.gr-assets.com/assets/nophoto/book/50...</td>\n    </tr>\n    <tr>\n      <th>767</th>\n      <td>768</td>\n      <td>21686</td>\n      <td>21686</td>\n      <td>1234227</td>\n      <td>134</td>\n      <td>038073186X</td>\n      <td>9.780381e+12</td>\n      <td>Dennis Lehane</td>\n      <td>2003.0</td>\n      <td>Shutter Island</td>\n      <td>Shutter Island</td>\n      <td>eng</td>\n      <td>4.07</td>\n      <td>113718</td>\n      <td>124032</td>\n      <td>6990</td>\n      <td>1636</td>\n      <td>4727</td>\n      <td>22089</td>\n      <td>49875</td>\n      <td>45705</td>\n      <td>https://images.gr-assets.com/books/1329269081m...</td>\n      <td>https://images.gr-assets.com/books/1329269081s...</td>\n    </tr>\n    <tr>\n      <th>1801</th>\n      <td>1802</td>\n      <td>32418</td>\n      <td>32418</td>\n      <td>2992500</td>\n      <td>132</td>\n      <td>99297701</td>\n      <td>9.780099e+12</td>\n      <td>Thomas Harris</td>\n      <td>1999.0</td>\n      <td>Hannibal</td>\n      <td>Hannibal (Hannibal Lecter, #3)</td>\n      <td>eng</td>\n      <td>3.72</td>\n      <td>57569</td>\n      <td>63555</td>\n      <td>2098</td>\n      <td>2166</td>\n      <td>5811</td>\n      <td>17220</td>\n      <td>20844</td>\n      <td>17514</td>\n      <td>https://images.gr-assets.com/books/1327356556m...</td>\n      <td>https://images.gr-assets.com/books/1327356556s...</td>\n    </tr>\n    <tr>\n      <th>3405</th>\n      <td>3406</td>\n      <td>18402</td>\n      <td>18402</td>\n      <td>2164481</td>\n      <td>77</td>\n      <td>034549038X</td>\n      <td>9.780345e+12</td>\n      <td>Matthew Pearl</td>\n      <td>2003.0</td>\n      <td>The Dante Club</td>\n      <td>The Dante Club</td>\n      <td>en-US</td>\n      <td>3.38</td>\n      <td>31035</td>\n      <td>33728</td>\n      <td>2206</td>\n      <td>1822</td>\n      <td>4320</td>\n      <td>11905</td>\n      <td>10640</td>\n      <td>5041</td>\n      <td>https://s.gr-assets.com/assets/nophoto/book/11...</td>\n      <td>https://s.gr-assets.com/assets/nophoto/book/50...</td>\n    </tr>\n    <tr>\n      <th>4421</th>\n      <td>4422</td>\n      <td>32416</td>\n      <td>32416</td>\n      <td>46673</td>\n      <td>94</td>\n      <td>385339410</td>\n      <td>9.780385e+12</td>\n      <td>Thomas Harris</td>\n      <td>2006.0</td>\n      <td>Hannibal Rising</td>\n      <td>Hannibal Rising (Hannibal Lecter, #4)</td>\n      <td>en-US</td>\n      <td>3.44</td>\n      <td>22767</td>\n      <td>25973</td>\n      <td>1317</td>\n      <td>1468</td>\n      <td>3733</td>\n      <td>8087</td>\n      <td>7174</td>\n      <td>5511</td>\n      <td>https://images.gr-assets.com/books/1394208690m...</td>\n      <td>https://images.gr-assets.com/books/1394208690s...</td>\n    </tr>\n    <tr>\n      <th>5312</th>\n      <td>5313</td>\n      <td>21727</td>\n      <td>21727</td>\n      <td>593515</td>\n      <td>46</td>\n      <td>307279952</td>\n      <td>9.780307e+12</td>\n      <td>Scott B. Smith</td>\n      <td>1993.0</td>\n      <td>A Simple Plan</td>\n      <td>A Simple Plan</td>\n      <td>NaN</td>\n      <td>3.91</td>\n      <td>18628</td>\n      <td>19650</td>\n      <td>986</td>\n      <td>478</td>\n      <td>1086</td>\n      <td>4239</td>\n      <td>7690</td>\n      <td>6157</td>\n      <td>https://s.gr-assets.com/assets/nophoto/book/11...</td>\n      <td>https://s.gr-assets.com/assets/nophoto/book/50...</td>\n    </tr>\n    <tr>\n      <th>6112</th>\n      <td>6113</td>\n      <td>7663</td>\n      <td>7663</td>\n      <td>2651727</td>\n      <td>57</td>\n      <td>451210638</td>\n      <td>9.780451e+12</td>\n      <td>Jeffery Hudson, Michael Crichton</td>\n      <td>1968.0</td>\n      <td>A Case of Need</td>\n      <td>A Case of Need</td>\n      <td>en-US</td>\n      <td>3.60</td>\n      <td>14109</td>\n      <td>16047</td>\n      <td>563</td>\n      <td>291</td>\n      <td>1448</td>\n      <td>5632</td>\n      <td>5664</td>\n      <td>3012</td>\n      <td>https://s.gr-assets.com/assets/nophoto/book/11...</td>\n      <td>https://s.gr-assets.com/assets/nophoto/book/50...</td>\n    </tr>\n    <tr>\n      <th>6495</th>\n      <td>6496</td>\n      <td>767307</td>\n      <td>767307</td>\n      <td>1441588</td>\n      <td>49</td>\n      <td>345427637</td>\n      <td>9.780345e+12</td>\n      <td>Caleb Carr</td>\n      <td>1997.0</td>\n      <td>The Angel of Darkness</td>\n      <td>The Angel of Darkness (Dr. Laszlo Kreizler, #2)</td>\n      <td>en-US</td>\n      <td>3.94</td>\n      <td>16343</td>\n      <td>17727</td>\n      <td>883</td>\n      <td>120</td>\n      <td>775</td>\n      <td>4246</td>\n      <td>7431</td>\n      <td>5155</td>\n      <td>https://images.gr-assets.com/books/1433066571m...</td>\n      <td>https://images.gr-assets.com/books/1433066571s...</td>\n    </tr>\n  </tbody>\n</table>\n</div>"
     },
     "metadata": {},
     "execution_count": 19
    }
   ],
   "source": [
    "nbm = nearest_books_nms(209,nms_idx)[0]\n",
    "books[books.book_id.isin(nbm)]"
   ]
  },
  {
   "cell_type": "code",
   "execution_count": 20,
   "metadata": {},
   "outputs": [],
   "source": [
    "import pickle\n",
    "with open('item_embeddings.pickle', 'wb') as file:\n",
    "   pickle.dump(item_embeddings, file, protocol=pickle.HIGHEST_PROTOCOL)"
   ]
  },
  {
   "cell_type": "code",
   "execution_count": null,
   "metadata": {},
   "outputs": [],
   "source": []
  }
 ]
}