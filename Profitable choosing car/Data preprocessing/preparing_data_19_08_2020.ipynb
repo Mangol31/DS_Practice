{
 "cells": [
  {
   "cell_type": "code",
   "execution_count": 1,
   "metadata": {
    "pycharm": {
     "is_executing": false
    }
   },
   "outputs": [],
   "source": [
    "import pandas as pd\n",
    "import numpy as np\n",
    "import datetime\n",
    "from dateutil.parser import parse as du_parse\n",
    "from dateutil.relativedelta import relativedelta\n",
    "pd.set_option('display.max_rows', 60)\n",
    "pd.set_option('display.max_columns', 100)"
   ]
  },
  {
   "cell_type": "code",
   "execution_count": 2,
   "metadata": {},
   "outputs": [],
   "source": [
    "# df = pd.read_csv('C:/Users\\Mangol/Notebooks/DataScience-Practice/Profitable choosing car/test_data/test.csv')\n",
    "# df.head(10)"
   ]
  },
  {
   "cell_type": "code",
   "execution_count": 3,
   "metadata": {},
   "outputs": [],
   "source": [
    "columns = ['bodyType','brand','color','fuelType','modelDate','name','numberOfDoors','productionDate','vehicleConfiguration','vehicleTransmission','engineDisplacement','enginePower','description','mileage','Комплектация','Привод','Руль','Состояние','Владельцы','ПТС','Таможня','Владение', 'Цена']\n",
    "columns1 = ['bodyType','brand','color','fuelType','modelDate','name','numberOfDoors','productionDate','vehicleConfiguration','vehicleTransmission','engineDisplacement','enginePower','description','mileage','Комплектация','Привод','Руль','Состояние','Владельцы','ПТС','Таможня','Владение', 'Цена', 'Seller']\n",
    "# columns = ['body_type','brand','color','fuel_type','model_date','name','number_of_doors','production_date','vehicle_configuration','vehicle_transmission','engine_displacement','engine_power','description','mileage','complectation','drive','stear','conditions','owners','pts','customs','ownership', 'price']\n",
    "# df_auto1 = pd.DataFrame(columns = ['bodyType', 'brand', 'color', 'fuelType', 'modelDate', 'name', 'numberOfDoors', 'productionDate', 'vehicleConfiguration', 'vehicleTransmission', 'engineDisplacement', 'enginePower', 'description', 'mileage', 'Комплектация', 'Привод', 'Руль', 'Состояние', 'Владельцы', 'ПТС', 'Таможня', 'Владение'])\n",
    "# df_auto = pd.read_csv('Save_auto1.txt', header = None, sep= ';')"
   ]
  },
  {
   "cell_type": "code",
   "execution_count": 6,
   "metadata": {},
   "outputs": [],
   "source": [
    "data_dir = 'C:/Users/Mangol/Notebooks/DataScience-Practice/Profitable choosing car/BMW/'\n",
    "# df_auto = pd.read_csv('C:/Users\\Mangol/Notebooks/DataScience-Practice/Profitable choosing car/Save_all_bmw_auto.txt', header = None, sep = ';', names= columns)\n",
    "df_auto = pd.read_csv(data_dir+'Save_auto_BMW_1er.txt', header = None, sep = ';')\n",
    "df_auto1 = pd.read_csv(data_dir+'Save_auto_BMW_2er.txt', header = None, sep = ';')\n",
    "df_auto2 = pd.read_csv(data_dir+'Save_auto_BMW_2er_active_tour.txt', header = None, sep = ';')\n",
    "df_auto3 = pd.read_csv(data_dir+'Save_auto_BMW_3er.txt', header = None, sep = ';')\n",
    "df_auto4 = pd.read_csv(data_dir+'Save_auto_BMW_4_5er.txt', header = None, sep = ';')\n",
    "df_auto5 = pd.read_csv(data_dir+'Save_auto_BMW_6_7.txt', header = None, sep = ';')\n",
    "df_auto6 = pd.read_csv(data_dir+'Save_auto_BMW_8er_X3.txt', header = None, sep = ';')\n",
    "df_auto7 = pd.read_csv(data_dir+'Save_auto_BMW_X4_X5.txt', header = None, sep = ';')\n",
    "df_auto8 = pd.read_csv(data_dir+'Save_auto_BMW_X5_Z4.txt', header = None, sep = ';')\n",
    "df_auto_big = pd.read_csv(data_dir+'Save_all_bmw_auto1.txt', header = None, sep = ';')\n",
    "df_auto_big2 = pd.read_csv(data_dir+'Save_allbmw_auto2.txt', header = None, sep = ';')\n",
    "df_auto_big3 = pd.read_csv(data_dir+'Save_allbmw_auto3.txt', header = None, sep = ';')\n",
    "df_auto_big4 = pd.read_csv(data_dir+'Save_allbmw_auto4.txt', header = None, sep = ';')\n",
    "df_auto_big5 = pd.read_csv(data_dir+'Save_allbmw_auto5.txt', header = None, sep = ';')"
   ]
  },
  {
   "cell_type": "code",
   "execution_count": 13,
   "metadata": {},
   "outputs": [
    {
     "data": {
      "text/html": [
       "<div>\n",
       "<style scoped>\n",
       "    .dataframe tbody tr th:only-of-type {\n",
       "        vertical-align: middle;\n",
       "    }\n",
       "\n",
       "    .dataframe tbody tr th {\n",
       "        vertical-align: top;\n",
       "    }\n",
       "\n",
       "    .dataframe thead th {\n",
       "        text-align: right;\n",
       "    }\n",
       "</style>\n",
       "<table border=\"1\" class=\"dataframe\">\n",
       "  <thead>\n",
       "    <tr style=\"text-align: right;\">\n",
       "      <th></th>\n",
       "      <th>0</th>\n",
       "      <th>1</th>\n",
       "      <th>2</th>\n",
       "      <th>3</th>\n",
       "      <th>4</th>\n",
       "      <th>5</th>\n",
       "      <th>6</th>\n",
       "      <th>7</th>\n",
       "      <th>8</th>\n",
       "      <th>9</th>\n",
       "      <th>10</th>\n",
       "      <th>11</th>\n",
       "      <th>12</th>\n",
       "      <th>13</th>\n",
       "      <th>14</th>\n",
       "      <th>15</th>\n",
       "      <th>16</th>\n",
       "      <th>17</th>\n",
       "      <th>18</th>\n",
       "      <th>19</th>\n",
       "      <th>20</th>\n",
       "      <th>21</th>\n",
       "      <th>22</th>\n",
       "      <th>23</th>\n",
       "    </tr>\n",
       "  </thead>\n",
       "  <tbody>\n",
       "    <tr>\n",
       "      <th>0</th>\n",
       "      <td>Седан 2 дв.</td>\n",
       "      <td>BMW</td>\n",
       "      <td>FF8649</td>\n",
       "      <td>GASOLINE</td>\n",
       "      <td>1966</td>\n",
       "      <td>2.0 MT (101 л.с.)</td>\n",
       "      <td>2</td>\n",
       "      <td>1972</td>\n",
       "      <td>COUPE MECHANICAL 2.0</td>\n",
       "      <td>MECHANICAL</td>\n",
       "      <td>2.0 LTR</td>\n",
       "      <td>101 N12</td>\n",
       "      <td>В СССР прибыл новым  В семье с 1977 г  Один вл...</td>\n",
       "      <td>117000</td>\n",
       "      <td>None</td>\n",
       "      <td>REAR_DRIVE</td>\n",
       "      <td>LEFT</td>\n",
       "      <td>True</td>\n",
       "      <td>1</td>\n",
       "      <td>ORIGINAL</td>\n",
       "      <td>True</td>\n",
       "      <td>1977.12</td>\n",
       "      <td>1000000</td>\n",
       "      <td>Физик</td>\n",
       "    </tr>\n",
       "  </tbody>\n",
       "</table>\n",
       "</div>"
      ],
      "text/plain": [
       "            0    1       2         3     4                  5   6     7   \\\n",
       "0  Седан 2 дв.  BMW  FF8649  GASOLINE  1966  2.0 MT (101 л.с.)   2  1972   \n",
       "\n",
       "                     8           9        10       11  \\\n",
       "0  COUPE MECHANICAL 2.0  MECHANICAL  2.0 LTR  101 N12   \n",
       "\n",
       "                                                  12      13    14  \\\n",
       "0  В СССР прибыл новым  В семье с 1977 г  Один вл...  117000  None   \n",
       "\n",
       "           15    16    17 18        19    20       21       22     23  \n",
       "0  REAR_DRIVE  LEFT  True  1  ORIGINAL  True  1977.12  1000000  Физик  "
      ]
     },
     "execution_count": 13,
     "metadata": {},
     "output_type": "execute_result"
    }
   ],
   "source": [
    "df_auto_big5.head(1)"
   ]
  },
  {
   "cell_type": "code",
   "execution_count": 14,
   "metadata": {},
   "outputs": [],
   "source": [
    "df_auto = df_auto.append(df_auto1, ignore_index = True)\n",
    "df_auto = df_auto.append(df_auto2, ignore_index = True)\n",
    "df_auto = df_auto.append(df_auto3, ignore_index = True)\n",
    "df_auto = df_auto.append(df_auto4, ignore_index = True)\n",
    "df_auto = df_auto.append(df_auto5, ignore_index = True)\n",
    "df_auto = df_auto.append(df_auto6, ignore_index = True)\n",
    "df_auto = df_auto.append(df_auto7, ignore_index = True)\n",
    "df_auto = df_auto.append(df_auto8, ignore_index = True)\n",
    "df_auto = df_auto.append(df_auto_big, ignore_index = True)\n",
    "df_auto_big2 = df_auto_big2.append(df_auto_big3, ignore_index = True)\n",
    "df_auto_big2 = df_auto_big2.append(df_auto_big4, ignore_index = True)\n",
    "df_auto_big2 = df_auto_big2.append(df_auto_big5, ignore_index = True)"
   ]
  },
  {
   "cell_type": "code",
   "execution_count": 15,
   "metadata": {},
   "outputs": [],
   "source": [
    "df_auto.columns = columns\n",
    "df_auto_big2.columns = columns1"
   ]
  },
  {
   "cell_type": "code",
   "execution_count": 20,
   "metadata": {},
   "outputs": [],
   "source": [
    "df_auto_big2 = df_auto_big2.drop(['Seller'], axis = 1)"
   ]
  },
  {
   "cell_type": "code",
   "execution_count": 21,
   "metadata": {},
   "outputs": [],
   "source": [
    "df_auto = df_auto.append(df_auto_big2, ignore_index = True)"
   ]
  },
  {
   "cell_type": "code",
   "execution_count": 22,
   "metadata": {},
   "outputs": [
    {
     "data": {
      "text/plain": [
       "(207444, 23)"
      ]
     },
     "execution_count": 22,
     "metadata": {},
     "output_type": "execute_result"
    }
   ],
   "source": [
    "df_auto.shape"
   ]
  },
  {
   "cell_type": "code",
   "execution_count": 8,
   "metadata": {},
   "outputs": [],
   "source": [
    "def convert_time_delta(item):\n",
    "    year = ''\n",
    "    month =''\n",
    "    if item == 'None':\n",
    "        return('None')\n",
    "    else:\n",
    "        item = pd.to_datetime(item, format='%Y.%m', errors='ignore')\n",
    "        now = datetime.datetime.now()\n",
    "        d1 = du_parse(str(item))\n",
    "        d2 = du_parse(str(now))\n",
    "        delta = relativedelta(d2, d1)\n",
    "\n",
    "\n",
    "        if delta.years == 1:\n",
    "            year = 'год'\n",
    "        elif delta.years in [2,3,4]:\n",
    "            year = 'года'\n",
    "        else:\n",
    "            year = 'лет'\n",
    "\n",
    "\n",
    "        if delta.months == 1:\n",
    "            month = 'месяц'\n",
    "        elif delta.months in [2,3,4]:\n",
    "            month = 'месяца'\n",
    "        else:\n",
    "            month = 'месяцев'\n",
    "        delta_string = str(delta.years) + ' ' +year +' и ' + str(delta.months) + ' ' +month\n",
    "        return(delta_string)\n",
    "\n",
    "def owner_correction (item):\n",
    "    if item == 'None':\n",
    "        return('None')\n",
    "    elif item == 1 or item == '1':\n",
    "        # item = item.astype(int64)\n",
    "        owner = 'владелец'\n",
    "    # elif (item in [2,3,4]) or (item in ['2','3','4'])\n",
    "    else:\n",
    "        # item = item.astype(int64)\n",
    "        owner = 'владельца'\n",
    "    owner_string = str(item) + ' ' + owner\n",
    "    return(owner_string)\n",
    "\n",
    "color_dict = {\n",
    "    '040001':'чёрный',\n",
    "    'CACECB':'серебристый',\n",
    "    'FAFBFB':'белый',\n",
    "    '97948F':'серый',\n",
    "    '0000CC':'синий',\n",
    "    'EE1D19':'красный',\n",
    "    '007F00':'зеленый',\n",
    "    '200204':'коричневый',\n",
    "    'C49648':'бежевый',\n",
    "    '22A0F8':'голубой',\n",
    "    'DEA522':'золотистый',\n",
    "    '660099':'пурпурный',\n",
    "    '4A2197':'фиолетовый',\n",
    "    'FFD600':'жёлтый',\n",
    "    'FF8649':'оранжевый',\n",
    "    'FFC0CB':'розовый'\n",
    "}\n",
    "\n",
    "fuel_dict = {\n",
    "    'GASOLINE':'бензин',\n",
    "    'DIESEL':'дизель',\n",
    "    'ELECTRO':'электро',\n",
    "    'HYBRID':'гибрид',\n",
    "    'LPG':'газ'\n",
    "}\n",
    "\n",
    "transmission_dict = {\n",
    "    'AUTOMATIC':'автоматическая',\n",
    "    'MECHANICAL':'механическая',\n",
    "    'ROBOT':'роботизированная',\n",
    "    'VARIATOR':'вариатор'\n",
    "}\n",
    "\n",
    "privod_dict = {\n",
    "    'FORWARD_CONTROL':'передний',\n",
    "    'REAR_DRIVE':'задний',\n",
    "    'ALL_WHEEL_DRIVE':'полный'\n",
    "}\n",
    "\n",
    "stearing_wheel_dict = {\n",
    "    'LEFT':'левый',\n",
    "    'RIGHT':'правый'\n",
    "}\n",
    "\n",
    "state_dict = {\n",
    "    'True':'Не требует ремонта',\n",
    "    'False':'Битая/Не на ходу'\n",
    "}\n",
    "\n",
    "pts_dict = {\n",
    "    'ORIGINAL':'Оригинал',\n",
    "    'DUPLICATE':'Дубликат'\n",
    "}\n",
    "\n",
    "legal_dict = {\n",
    "    'True':'Растаможен',\n",
    "    'False':'Не растаможен'\n",
    "}\n",
    "\n",
    "df_auto['color'] = df_auto['color'].replace(to_replace=color_dict)    \n",
    "df_auto['modelDate'] = df_auto['modelDate'].astype(np.float64)\n",
    "df_auto['mileage'] = df_auto['mileage'].astype(np.float64)\n",
    "df_auto['numberOfDoors'] = df_auto['numberOfDoors'].astype(np.float64)\n",
    "df_auto['fuelType'] = df_auto['fuelType'].replace(to_replace=fuel_dict)   \n",
    "df_auto['vehicleTransmission'] = df_auto['vehicleTransmission'].replace(to_replace=transmission_dict)\n",
    "df_auto['Привод'] = df_auto['Привод'].replace(to_replace=privod_dict)\n",
    "df_auto['Руль'] = df_auto['Руль'].replace(to_replace=stearing_wheel_dict)\n",
    "df_auto['Состояние'] = df_auto['Состояние'].astype(str)             \n",
    "df_auto['Состояние'] = df_auto['Состояние'].replace(to_replace=state_dict)\n",
    "df_auto['ПТС'] = df_auto['ПТС'].replace(to_replace=pts_dict)\n",
    "df_auto['Таможня'] = df_auto['Таможня'].astype(str)\n",
    "df_auto['Таможня'] = df_auto['Таможня'].replace(to_replace=legal_dict)\n",
    "df_auto['Владение'] = df_auto['Владение'].apply(convert_time_delta)\n",
    "df_auto['Владельцы'] = df_auto['Владельцы'].apply(owner_correction)"
   ]
  },
  {
   "cell_type": "code",
   "execution_count": 9,
   "metadata": {},
   "outputs": [
    {
     "data": {
      "text/plain": [
       "(4407, 23)"
      ]
     },
     "execution_count": 9,
     "metadata": {},
     "output_type": "execute_result"
    }
   ],
   "source": [
    "df_auto.shape"
   ]
  },
  {
   "cell_type": "code",
   "execution_count": 10,
   "metadata": {},
   "outputs": [],
   "source": [
    "df_new = df_auto.drop_duplicates(keep = 'first')\n",
    "df_new = df_new.reset_index()\n",
    "df_new = df_new.drop(['index'], axis = 1)\n",
    "df_new['id'] = df_new.index \n",
    "\n"
   ]
  },
  {
   "cell_type": "code",
   "execution_count": 11,
   "metadata": {},
   "outputs": [
    {
     "data": {
      "text/plain": [
       "(4407, 23)"
      ]
     },
     "execution_count": 11,
     "metadata": {},
     "output_type": "execute_result"
    }
   ],
   "source": [
    "df_auto.shape"
   ]
  },
  {
   "cell_type": "code",
   "execution_count": 14,
   "metadata": {},
   "outputs": [],
   "source": [
    "# df_new.to_csv('auto_ready.csv', sep = ';')\n",
    "df_new.to_csv('BMW_ready.csv', sep = ';')"
   ]
  },
  {
   "cell_type": "code",
   "execution_count": 18,
   "metadata": {},
   "outputs": [
    {
     "ename": "FileNotFoundError",
     "evalue": "[Errno 2] File Save_auto.txt does not exist: 'Save_auto.txt'",
     "output_type": "error",
     "traceback": [
      "\u001b[1;31m---------------------------------------------------------------------------\u001b[0m",
      "\u001b[1;31mFileNotFoundError\u001b[0m                         Traceback (most recent call last)",
      "\u001b[1;32m<ipython-input-18-1f0144a39399>\u001b[0m in \u001b[0;36m<module>\u001b[1;34m\u001b[0m\n\u001b[1;32m----> 1\u001b[1;33m \u001b[0mdf_auto\u001b[0m \u001b[1;33m=\u001b[0m \u001b[0mpd\u001b[0m\u001b[1;33m.\u001b[0m\u001b[0mread_csv\u001b[0m\u001b[1;33m(\u001b[0m\u001b[1;34m'Save_auto.txt'\u001b[0m\u001b[1;33m,\u001b[0m \u001b[0mheader\u001b[0m \u001b[1;33m=\u001b[0m \u001b[1;32mNone\u001b[0m\u001b[1;33m,\u001b[0m \u001b[0msep\u001b[0m \u001b[1;33m=\u001b[0m \u001b[1;34m';'\u001b[0m\u001b[1;33m)\u001b[0m\u001b[1;33m\u001b[0m\u001b[1;33m\u001b[0m\u001b[0m\n\u001b[0m",
      "\u001b[1;32m~\\Anaconda3\\lib\\site-packages\\pandas\\io\\parsers.py\u001b[0m in \u001b[0;36mparser_f\u001b[1;34m(filepath_or_buffer, sep, delimiter, header, names, index_col, usecols, squeeze, prefix, mangle_dupe_cols, dtype, engine, converters, true_values, false_values, skipinitialspace, skiprows, skipfooter, nrows, na_values, keep_default_na, na_filter, verbose, skip_blank_lines, parse_dates, infer_datetime_format, keep_date_col, date_parser, dayfirst, cache_dates, iterator, chunksize, compression, thousands, decimal, lineterminator, quotechar, quoting, doublequote, escapechar, comment, encoding, dialect, error_bad_lines, warn_bad_lines, delim_whitespace, low_memory, memory_map, float_precision)\u001b[0m\n\u001b[0;32m    674\u001b[0m         )\n\u001b[0;32m    675\u001b[0m \u001b[1;33m\u001b[0m\u001b[0m\n\u001b[1;32m--> 676\u001b[1;33m         \u001b[1;32mreturn\u001b[0m \u001b[0m_read\u001b[0m\u001b[1;33m(\u001b[0m\u001b[0mfilepath_or_buffer\u001b[0m\u001b[1;33m,\u001b[0m \u001b[0mkwds\u001b[0m\u001b[1;33m)\u001b[0m\u001b[1;33m\u001b[0m\u001b[1;33m\u001b[0m\u001b[0m\n\u001b[0m\u001b[0;32m    677\u001b[0m \u001b[1;33m\u001b[0m\u001b[0m\n\u001b[0;32m    678\u001b[0m     \u001b[0mparser_f\u001b[0m\u001b[1;33m.\u001b[0m\u001b[0m__name__\u001b[0m \u001b[1;33m=\u001b[0m \u001b[0mname\u001b[0m\u001b[1;33m\u001b[0m\u001b[1;33m\u001b[0m\u001b[0m\n",
      "\u001b[1;32m~\\Anaconda3\\lib\\site-packages\\pandas\\io\\parsers.py\u001b[0m in \u001b[0;36m_read\u001b[1;34m(filepath_or_buffer, kwds)\u001b[0m\n\u001b[0;32m    446\u001b[0m \u001b[1;33m\u001b[0m\u001b[0m\n\u001b[0;32m    447\u001b[0m     \u001b[1;31m# Create the parser.\u001b[0m\u001b[1;33m\u001b[0m\u001b[1;33m\u001b[0m\u001b[1;33m\u001b[0m\u001b[0m\n\u001b[1;32m--> 448\u001b[1;33m     \u001b[0mparser\u001b[0m \u001b[1;33m=\u001b[0m \u001b[0mTextFileReader\u001b[0m\u001b[1;33m(\u001b[0m\u001b[0mfp_or_buf\u001b[0m\u001b[1;33m,\u001b[0m \u001b[1;33m**\u001b[0m\u001b[0mkwds\u001b[0m\u001b[1;33m)\u001b[0m\u001b[1;33m\u001b[0m\u001b[1;33m\u001b[0m\u001b[0m\n\u001b[0m\u001b[0;32m    449\u001b[0m \u001b[1;33m\u001b[0m\u001b[0m\n\u001b[0;32m    450\u001b[0m     \u001b[1;32mif\u001b[0m \u001b[0mchunksize\u001b[0m \u001b[1;32mor\u001b[0m \u001b[0miterator\u001b[0m\u001b[1;33m:\u001b[0m\u001b[1;33m\u001b[0m\u001b[1;33m\u001b[0m\u001b[0m\n",
      "\u001b[1;32m~\\Anaconda3\\lib\\site-packages\\pandas\\io\\parsers.py\u001b[0m in \u001b[0;36m__init__\u001b[1;34m(self, f, engine, **kwds)\u001b[0m\n\u001b[0;32m    878\u001b[0m             \u001b[0mself\u001b[0m\u001b[1;33m.\u001b[0m\u001b[0moptions\u001b[0m\u001b[1;33m[\u001b[0m\u001b[1;34m\"has_index_names\"\u001b[0m\u001b[1;33m]\u001b[0m \u001b[1;33m=\u001b[0m \u001b[0mkwds\u001b[0m\u001b[1;33m[\u001b[0m\u001b[1;34m\"has_index_names\"\u001b[0m\u001b[1;33m]\u001b[0m\u001b[1;33m\u001b[0m\u001b[1;33m\u001b[0m\u001b[0m\n\u001b[0;32m    879\u001b[0m \u001b[1;33m\u001b[0m\u001b[0m\n\u001b[1;32m--> 880\u001b[1;33m         \u001b[0mself\u001b[0m\u001b[1;33m.\u001b[0m\u001b[0m_make_engine\u001b[0m\u001b[1;33m(\u001b[0m\u001b[0mself\u001b[0m\u001b[1;33m.\u001b[0m\u001b[0mengine\u001b[0m\u001b[1;33m)\u001b[0m\u001b[1;33m\u001b[0m\u001b[1;33m\u001b[0m\u001b[0m\n\u001b[0m\u001b[0;32m    881\u001b[0m \u001b[1;33m\u001b[0m\u001b[0m\n\u001b[0;32m    882\u001b[0m     \u001b[1;32mdef\u001b[0m \u001b[0mclose\u001b[0m\u001b[1;33m(\u001b[0m\u001b[0mself\u001b[0m\u001b[1;33m)\u001b[0m\u001b[1;33m:\u001b[0m\u001b[1;33m\u001b[0m\u001b[1;33m\u001b[0m\u001b[0m\n",
      "\u001b[1;32m~\\Anaconda3\\lib\\site-packages\\pandas\\io\\parsers.py\u001b[0m in \u001b[0;36m_make_engine\u001b[1;34m(self, engine)\u001b[0m\n\u001b[0;32m   1112\u001b[0m     \u001b[1;32mdef\u001b[0m \u001b[0m_make_engine\u001b[0m\u001b[1;33m(\u001b[0m\u001b[0mself\u001b[0m\u001b[1;33m,\u001b[0m \u001b[0mengine\u001b[0m\u001b[1;33m=\u001b[0m\u001b[1;34m\"c\"\u001b[0m\u001b[1;33m)\u001b[0m\u001b[1;33m:\u001b[0m\u001b[1;33m\u001b[0m\u001b[1;33m\u001b[0m\u001b[0m\n\u001b[0;32m   1113\u001b[0m         \u001b[1;32mif\u001b[0m \u001b[0mengine\u001b[0m \u001b[1;33m==\u001b[0m \u001b[1;34m\"c\"\u001b[0m\u001b[1;33m:\u001b[0m\u001b[1;33m\u001b[0m\u001b[1;33m\u001b[0m\u001b[0m\n\u001b[1;32m-> 1114\u001b[1;33m             \u001b[0mself\u001b[0m\u001b[1;33m.\u001b[0m\u001b[0m_engine\u001b[0m \u001b[1;33m=\u001b[0m \u001b[0mCParserWrapper\u001b[0m\u001b[1;33m(\u001b[0m\u001b[0mself\u001b[0m\u001b[1;33m.\u001b[0m\u001b[0mf\u001b[0m\u001b[1;33m,\u001b[0m \u001b[1;33m**\u001b[0m\u001b[0mself\u001b[0m\u001b[1;33m.\u001b[0m\u001b[0moptions\u001b[0m\u001b[1;33m)\u001b[0m\u001b[1;33m\u001b[0m\u001b[1;33m\u001b[0m\u001b[0m\n\u001b[0m\u001b[0;32m   1115\u001b[0m         \u001b[1;32melse\u001b[0m\u001b[1;33m:\u001b[0m\u001b[1;33m\u001b[0m\u001b[1;33m\u001b[0m\u001b[0m\n\u001b[0;32m   1116\u001b[0m             \u001b[1;32mif\u001b[0m \u001b[0mengine\u001b[0m \u001b[1;33m==\u001b[0m \u001b[1;34m\"python\"\u001b[0m\u001b[1;33m:\u001b[0m\u001b[1;33m\u001b[0m\u001b[1;33m\u001b[0m\u001b[0m\n",
      "\u001b[1;32m~\\Anaconda3\\lib\\site-packages\\pandas\\io\\parsers.py\u001b[0m in \u001b[0;36m__init__\u001b[1;34m(self, src, **kwds)\u001b[0m\n\u001b[0;32m   1889\u001b[0m         \u001b[0mkwds\u001b[0m\u001b[1;33m[\u001b[0m\u001b[1;34m\"usecols\"\u001b[0m\u001b[1;33m]\u001b[0m \u001b[1;33m=\u001b[0m \u001b[0mself\u001b[0m\u001b[1;33m.\u001b[0m\u001b[0musecols\u001b[0m\u001b[1;33m\u001b[0m\u001b[1;33m\u001b[0m\u001b[0m\n\u001b[0;32m   1890\u001b[0m \u001b[1;33m\u001b[0m\u001b[0m\n\u001b[1;32m-> 1891\u001b[1;33m         \u001b[0mself\u001b[0m\u001b[1;33m.\u001b[0m\u001b[0m_reader\u001b[0m \u001b[1;33m=\u001b[0m \u001b[0mparsers\u001b[0m\u001b[1;33m.\u001b[0m\u001b[0mTextReader\u001b[0m\u001b[1;33m(\u001b[0m\u001b[0msrc\u001b[0m\u001b[1;33m,\u001b[0m \u001b[1;33m**\u001b[0m\u001b[0mkwds\u001b[0m\u001b[1;33m)\u001b[0m\u001b[1;33m\u001b[0m\u001b[1;33m\u001b[0m\u001b[0m\n\u001b[0m\u001b[0;32m   1892\u001b[0m         \u001b[0mself\u001b[0m\u001b[1;33m.\u001b[0m\u001b[0munnamed_cols\u001b[0m \u001b[1;33m=\u001b[0m \u001b[0mself\u001b[0m\u001b[1;33m.\u001b[0m\u001b[0m_reader\u001b[0m\u001b[1;33m.\u001b[0m\u001b[0munnamed_cols\u001b[0m\u001b[1;33m\u001b[0m\u001b[1;33m\u001b[0m\u001b[0m\n\u001b[0;32m   1893\u001b[0m \u001b[1;33m\u001b[0m\u001b[0m\n",
      "\u001b[1;32mpandas\\_libs\\parsers.pyx\u001b[0m in \u001b[0;36mpandas._libs.parsers.TextReader.__cinit__\u001b[1;34m()\u001b[0m\n",
      "\u001b[1;32mpandas\\_libs\\parsers.pyx\u001b[0m in \u001b[0;36mpandas._libs.parsers.TextReader._setup_parser_source\u001b[1;34m()\u001b[0m\n",
      "\u001b[1;31mFileNotFoundError\u001b[0m: [Errno 2] File Save_auto.txt does not exist: 'Save_auto.txt'"
     ]
    }
   ],
   "source": [
    "df_auto = pd.read_csv('Save_auto.txt', header = None, sep = ';')"
   ]
  },
  {
   "cell_type": "code",
   "execution_count": 19,
   "metadata": {},
   "outputs": [],
   "source": [
    "df_auto.columns = columns"
   ]
  },
  {
   "cell_type": "code",
   "execution_count": 20,
   "metadata": {},
   "outputs": [
    {
     "data": {
      "text/plain": [
       "(3703, 23)"
      ]
     },
     "execution_count": 20,
     "metadata": {},
     "output_type": "execute_result"
    }
   ],
   "source": [
    "df_auto.shape"
   ]
  },
  {
   "cell_type": "code",
   "execution_count": 15,
   "metadata": {},
   "outputs": [],
   "source": [
    "#Присоединяем к большому файлу\n",
    "df_all = pd.read_csv('auto_ready.csv', sep = ';')"
   ]
  },
  {
   "cell_type": "code",
   "execution_count": 16,
   "metadata": {},
   "outputs": [
    {
     "data": {
      "text/html": [
       "<div>\n",
       "<style scoped>\n",
       "    .dataframe tbody tr th:only-of-type {\n",
       "        vertical-align: middle;\n",
       "    }\n",
       "\n",
       "    .dataframe tbody tr th {\n",
       "        vertical-align: top;\n",
       "    }\n",
       "\n",
       "    .dataframe thead th {\n",
       "        text-align: right;\n",
       "    }\n",
       "</style>\n",
       "<table border=\"1\" class=\"dataframe\">\n",
       "  <thead>\n",
       "    <tr style=\"text-align: right;\">\n",
       "      <th></th>\n",
       "      <th>bodyType</th>\n",
       "      <th>brand</th>\n",
       "      <th>color</th>\n",
       "      <th>fuelType</th>\n",
       "      <th>modelDate</th>\n",
       "      <th>name</th>\n",
       "      <th>numberOfDoors</th>\n",
       "      <th>productionDate</th>\n",
       "      <th>vehicleConfiguration</th>\n",
       "      <th>vehicleTransmission</th>\n",
       "      <th>engineDisplacement</th>\n",
       "      <th>enginePower</th>\n",
       "      <th>description</th>\n",
       "      <th>mileage</th>\n",
       "      <th>Комплектация</th>\n",
       "      <th>Привод</th>\n",
       "      <th>Руль</th>\n",
       "      <th>Состояние</th>\n",
       "      <th>Владельцы</th>\n",
       "      <th>ПТС</th>\n",
       "      <th>Таможня</th>\n",
       "      <th>Владение</th>\n",
       "      <th>Цена</th>\n",
       "    </tr>\n",
       "  </thead>\n",
       "  <tbody>\n",
       "    <tr>\n",
       "      <th>0</th>\n",
       "      <td>Седан</td>\n",
       "      <td>LADA (ВАЗ)</td>\n",
       "      <td>зеленый</td>\n",
       "      <td>бенизин</td>\n",
       "      <td>1997.0</td>\n",
       "      <td>1.5 MT (78 л.с.)</td>\n",
       "      <td>4.0</td>\n",
       "      <td>2006</td>\n",
       "      <td>SEDAN MECHANICAL 1.5</td>\n",
       "      <td>механическая</td>\n",
       "      <td>1.5 LTR</td>\n",
       "      <td>78 N12</td>\n",
       "      <td>Для своих лет авто в хорошем состоянии  За чет...</td>\n",
       "      <td>253000.0</td>\n",
       "      <td>None</td>\n",
       "      <td>передний</td>\n",
       "      <td>левый</td>\n",
       "      <td>Не требует ремонта</td>\n",
       "      <td>3</td>\n",
       "      <td>Оригинал</td>\n",
       "      <td>Растаможен</td>\n",
       "      <td>4 года и 2 месяца</td>\n",
       "      <td>100000</td>\n",
       "    </tr>\n",
       "    <tr>\n",
       "      <th>1</th>\n",
       "      <td>Хэтчбек 5 дв.</td>\n",
       "      <td>Ford</td>\n",
       "      <td>белый</td>\n",
       "      <td>бенизин</td>\n",
       "      <td>2014.0</td>\n",
       "      <td>1.6 AMT (125 л.с.)</td>\n",
       "      <td>5.0</td>\n",
       "      <td>2017</td>\n",
       "      <td>HATCHBACK_5_DOORS ROBOT 1.6</td>\n",
       "      <td>роботизированная</td>\n",
       "      <td>1.6 LTR</td>\n",
       "      <td>125 N12</td>\n",
       "      <td>Приобретался в салоне официального дилера в 20...</td>\n",
       "      <td>43000.0</td>\n",
       "      <td>['multi-wheel', 'heated-wash-system', 'airbag-...</td>\n",
       "      <td>передний</td>\n",
       "      <td>левый</td>\n",
       "      <td>Не требует ремонта</td>\n",
       "      <td>1</td>\n",
       "      <td>Оригинал</td>\n",
       "      <td>Растаможен</td>\n",
       "      <td>2 года и 10 месяцев</td>\n",
       "      <td>680000</td>\n",
       "    </tr>\n",
       "    <tr>\n",
       "      <th>2</th>\n",
       "      <td>Компактвэн</td>\n",
       "      <td>Fiat</td>\n",
       "      <td>белый</td>\n",
       "      <td>дизель</td>\n",
       "      <td>2005.0</td>\n",
       "      <td>1.3d MT (75 л.с.)</td>\n",
       "      <td>5.0</td>\n",
       "      <td>2008</td>\n",
       "      <td>MINIVAN MECHANICAL 1.2</td>\n",
       "      <td>механическая</td>\n",
       "      <td>1.2 LTR</td>\n",
       "      <td>75 N12</td>\n",
       "      <td>Состояние не требует вложений  Очень хороший п...</td>\n",
       "      <td>230000.0</td>\n",
       "      <td>None</td>\n",
       "      <td>передний</td>\n",
       "      <td>левый</td>\n",
       "      <td>Не требует ремонта</td>\n",
       "      <td>3</td>\n",
       "      <td>Оригинал</td>\n",
       "      <td>Растаможен</td>\n",
       "      <td>2 года и 1 месяц</td>\n",
       "      <td>265000</td>\n",
       "    </tr>\n",
       "  </tbody>\n",
       "</table>\n",
       "</div>"
      ],
      "text/plain": [
       "        bodyType       brand    color fuelType  modelDate                name  \\\n",
       "0          Седан  LADA (ВАЗ)  зеленый  бенизин     1997.0    1.5 MT (78 л.с.)   \n",
       "1  Хэтчбек 5 дв.        Ford    белый  бенизин     2014.0  1.6 AMT (125 л.с.)   \n",
       "2     Компактвэн        Fiat    белый   дизель     2005.0   1.3d MT (75 л.с.)   \n",
       "\n",
       "   numberOfDoors  productionDate         vehicleConfiguration  \\\n",
       "0            4.0            2006         SEDAN MECHANICAL 1.5   \n",
       "1            5.0            2017  HATCHBACK_5_DOORS ROBOT 1.6   \n",
       "2            5.0            2008       MINIVAN MECHANICAL 1.2   \n",
       "\n",
       "  vehicleTransmission engineDisplacement enginePower  \\\n",
       "0        механическая            1.5 LTR      78 N12   \n",
       "1    роботизированная            1.6 LTR     125 N12   \n",
       "2        механическая            1.2 LTR      75 N12   \n",
       "\n",
       "                                         description   mileage  \\\n",
       "0  Для своих лет авто в хорошем состоянии  За чет...  253000.0   \n",
       "1  Приобретался в салоне официального дилера в 20...   43000.0   \n",
       "2  Состояние не требует вложений  Очень хороший п...  230000.0   \n",
       "\n",
       "                                        Комплектация    Привод   Руль  \\\n",
       "0                                               None  передний  левый   \n",
       "1  ['multi-wheel', 'heated-wash-system', 'airbag-...  передний  левый   \n",
       "2                                               None  передний  левый   \n",
       "\n",
       "            Состояние Владельцы       ПТС     Таможня             Владение  \\\n",
       "0  Не требует ремонта         3  Оригинал  Растаможен    4 года и 2 месяца   \n",
       "1  Не требует ремонта         1  Оригинал  Растаможен  2 года и 10 месяцев   \n",
       "2  Не требует ремонта         3  Оригинал  Растаможен     2 года и 1 месяц   \n",
       "\n",
       "     Цена  \n",
       "0  100000  \n",
       "1  680000  \n",
       "2  265000  "
      ]
     },
     "execution_count": 16,
     "metadata": {},
     "output_type": "execute_result"
    }
   ],
   "source": [
    "df_all = df_all.drop(['Unnamed: 0'], axis = 1)\n",
    "df_all.head(3)"
   ]
  },
  {
   "cell_type": "code",
   "execution_count": 15,
   "metadata": {},
   "outputs": [
    {
     "data": {
      "text/plain": [
       "(9219, 23)"
      ]
     },
     "execution_count": 15,
     "metadata": {},
     "output_type": "execute_result"
    }
   ],
   "source": [
    "df_all.shape"
   ]
  },
  {
   "cell_type": "code",
   "execution_count": 17,
   "metadata": {},
   "outputs": [],
   "source": [
    "df_all = df_all.append(df_new, ignore_index = True)"
   ]
  },
  {
   "cell_type": "code",
   "execution_count": 18,
   "metadata": {},
   "outputs": [
    {
     "data": {
      "text/plain": [
       "(16995, 23)"
      ]
     },
     "execution_count": 18,
     "metadata": {},
     "output_type": "execute_result"
    }
   ],
   "source": [
    "df_all.shape"
   ]
  },
  {
   "cell_type": "code",
   "execution_count": 19,
   "metadata": {},
   "outputs": [],
   "source": [
    "df_all = df_all.drop_duplicates(keep = 'first')"
   ]
  },
  {
   "cell_type": "code",
   "execution_count": 20,
   "metadata": {},
   "outputs": [
    {
     "data": {
      "text/plain": [
       "(13982, 23)"
      ]
     },
     "execution_count": 20,
     "metadata": {},
     "output_type": "execute_result"
    }
   ],
   "source": [
    "df_all.shape"
   ]
  },
  {
   "cell_type": "code",
   "execution_count": 21,
   "metadata": {},
   "outputs": [],
   "source": [
    "df_all.to_csv('auto_ready.csv', sep = ';')"
   ]
  },
  {
   "cell_type": "markdown",
   "metadata": {},
   "source": [
    "# Новый файл (с выборкой по годам)"
   ]
  },
  {
   "cell_type": "code",
   "execution_count": 21,
   "metadata": {},
   "outputs": [
    {
     "data": {
      "text/html": [
       "<div>\n",
       "<style scoped>\n",
       "    .dataframe tbody tr th:only-of-type {\n",
       "        vertical-align: middle;\n",
       "    }\n",
       "\n",
       "    .dataframe tbody tr th {\n",
       "        vertical-align: top;\n",
       "    }\n",
       "\n",
       "    .dataframe thead th {\n",
       "        text-align: right;\n",
       "    }\n",
       "</style>\n",
       "<table border=\"1\" class=\"dataframe\">\n",
       "  <thead>\n",
       "    <tr style=\"text-align: right;\">\n",
       "      <th></th>\n",
       "      <th>bodyType</th>\n",
       "      <th>brand</th>\n",
       "      <th>color</th>\n",
       "      <th>fuelType</th>\n",
       "      <th>modelDate</th>\n",
       "      <th>name</th>\n",
       "      <th>numberOfDoors</th>\n",
       "      <th>productionDate</th>\n",
       "      <th>vehicleConfiguration</th>\n",
       "      <th>vehicleTransmission</th>\n",
       "      <th>engineDisplacement</th>\n",
       "      <th>enginePower</th>\n",
       "      <th>description</th>\n",
       "      <th>mileage</th>\n",
       "      <th>Комплектация</th>\n",
       "      <th>Привод</th>\n",
       "      <th>Руль</th>\n",
       "      <th>Состояние</th>\n",
       "      <th>Владельцы</th>\n",
       "      <th>ПТС</th>\n",
       "      <th>Таможня</th>\n",
       "      <th>Владение</th>\n",
       "      <th>Цена</th>\n",
       "    </tr>\n",
       "  </thead>\n",
       "  <tbody>\n",
       "    <tr>\n",
       "      <th>3700</th>\n",
       "      <td>Купе</td>\n",
       "      <td>BMW</td>\n",
       "      <td>CACECB</td>\n",
       "      <td>GASOLINE</td>\n",
       "      <td>1998</td>\n",
       "      <td>320i 2.2 AT (170 л.с.)</td>\n",
       "      <td>2</td>\n",
       "      <td>2001</td>\n",
       "      <td>COUPE AUTOMATIC 2.2</td>\n",
       "      <td>AUTOMATIC</td>\n",
       "      <td>2.2 LTR</td>\n",
       "      <td>170 N12</td>\n",
       "      <td>Один из немногих живых автомобилей в этом клас...</td>\n",
       "      <td>500000</td>\n",
       "      <td>None</td>\n",
       "      <td>REAR_DRIVE</td>\n",
       "      <td>LEFT</td>\n",
       "      <td>True</td>\n",
       "      <td>3</td>\n",
       "      <td>DUPLICATE</td>\n",
       "      <td>True</td>\n",
       "      <td>2013.12</td>\n",
       "      <td>370000</td>\n",
       "    </tr>\n",
       "    <tr>\n",
       "      <th>3701</th>\n",
       "      <td>Седан Long</td>\n",
       "      <td>BMW</td>\n",
       "      <td>0000CC</td>\n",
       "      <td>GASOLINE</td>\n",
       "      <td>2013</td>\n",
       "      <td>528Li xDrive 2.0 AT (245 л.с.) 4WD</td>\n",
       "      <td>4</td>\n",
       "      <td>2015</td>\n",
       "      <td>SEDAN AUTOMATIC 2.0</td>\n",
       "      <td>AUTOMATIC</td>\n",
       "      <td>2.0 LTR</td>\n",
       "      <td>245 N12</td>\n",
       "      <td>Продаю полноприводную 528 Xdrive 2015 года в о...</td>\n",
       "      <td>70000</td>\n",
       "      <td>None</td>\n",
       "      <td>ALL_WHEEL_DRIVE</td>\n",
       "      <td>LEFT</td>\n",
       "      <td>True</td>\n",
       "      <td>2</td>\n",
       "      <td>ORIGINAL</td>\n",
       "      <td>True</td>\n",
       "      <td>2020.6</td>\n",
       "      <td>1580000</td>\n",
       "    </tr>\n",
       "    <tr>\n",
       "      <th>3702</th>\n",
       "      <td>Внедорожник 5 дв.</td>\n",
       "      <td>BMW</td>\n",
       "      <td>040001</td>\n",
       "      <td>DIESEL</td>\n",
       "      <td>2006</td>\n",
       "      <td>3.0d 3.0d AT (235 л.с.) 4WD</td>\n",
       "      <td>5</td>\n",
       "      <td>2007</td>\n",
       "      <td>ALLROAD_5_DOORS AUTOMATIC 3.0</td>\n",
       "      <td>AUTOMATIC</td>\n",
       "      <td>3.0 LTR</td>\n",
       "      <td>235 N12</td>\n",
       "      <td>Продаю BMW x5 в шикарном состоянии  ПТС оригин...</td>\n",
       "      <td>230000</td>\n",
       "      <td>None</td>\n",
       "      <td>ALL_WHEEL_DRIVE</td>\n",
       "      <td>LEFT</td>\n",
       "      <td>True</td>\n",
       "      <td>3</td>\n",
       "      <td>ORIGINAL</td>\n",
       "      <td>True</td>\n",
       "      <td>2018.12</td>\n",
       "      <td>1190000</td>\n",
       "    </tr>\n",
       "  </tbody>\n",
       "</table>\n",
       "</div>"
      ],
      "text/plain": [
       "               bodyType brand   color  fuelType  modelDate  \\\n",
       "3700               Купе   BMW  CACECB  GASOLINE       1998   \n",
       "3701         Седан Long   BMW  0000CC  GASOLINE       2013   \n",
       "3702  Внедорожник 5 дв.   BMW  040001    DIESEL       2006   \n",
       "\n",
       "                                    name  numberOfDoors  productionDate  \\\n",
       "3700              320i 2.2 AT (170 л.с.)              2            2001   \n",
       "3701  528Li xDrive 2.0 AT (245 л.с.) 4WD              4            2015   \n",
       "3702         3.0d 3.0d AT (235 л.с.) 4WD              5            2007   \n",
       "\n",
       "               vehicleConfiguration vehicleTransmission engineDisplacement  \\\n",
       "3700            COUPE AUTOMATIC 2.2           AUTOMATIC            2.2 LTR   \n",
       "3701            SEDAN AUTOMATIC 2.0           AUTOMATIC            2.0 LTR   \n",
       "3702  ALLROAD_5_DOORS AUTOMATIC 3.0           AUTOMATIC            3.0 LTR   \n",
       "\n",
       "     enginePower                                        description  mileage  \\\n",
       "3700     170 N12  Один из немногих живых автомобилей в этом клас...   500000   \n",
       "3701     245 N12  Продаю полноприводную 528 Xdrive 2015 года в о...    70000   \n",
       "3702     235 N12  Продаю BMW x5 в шикарном состоянии  ПТС оригин...   230000   \n",
       "\n",
       "     Комплектация           Привод  Руль  Состояние Владельцы        ПТС  \\\n",
       "3700         None       REAR_DRIVE  LEFT       True         3  DUPLICATE   \n",
       "3701         None  ALL_WHEEL_DRIVE  LEFT       True         2   ORIGINAL   \n",
       "3702         None  ALL_WHEEL_DRIVE  LEFT       True         3   ORIGINAL   \n",
       "\n",
       "      Таможня Владение     Цена  \n",
       "3700     True  2013.12   370000  \n",
       "3701     True   2020.6  1580000  \n",
       "3702     True  2018.12  1190000  "
      ]
     },
     "execution_count": 21,
     "metadata": {},
     "output_type": "execute_result"
    }
   ],
   "source": [
    "import pandas as pd\n",
    "import numpy as np\n",
    "import datetime\n",
    "from dateutil.parser import parse as du_parse\n",
    "from dateutil.relativedelta import relativedelta\n",
    "pd.set_option('display.max_rows', 60)\n",
    "pd.set_option('display.max_columns', 100)\n",
    "df_auto = pd.read_csv('Save_auto_BMW.txt', header = None, sep = ';')\n",
    "\n",
    "columns = ['bodyType','brand','color','fuelType','modelDate','name','numberOfDoors','productionDate','vehicleConfiguration','vehicleTransmission','engineDisplacement','enginePower','description','mileage','Комплектация','Привод','Руль','Состояние','Владельцы','ПТС','Таможня','Владение', 'Цена']\n",
    "\n",
    "df_auto.columns = columns\n",
    "df_auto.tail(3)"
   ]
  },
  {
   "cell_type": "code",
   "execution_count": 8,
   "metadata": {},
   "outputs": [
    {
     "data": {
      "text/plain": [
       "(40393, 23)"
      ]
     },
     "execution_count": 8,
     "metadata": {},
     "output_type": "execute_result"
    }
   ],
   "source": [
    "df_auto.shape"
   ]
  },
  {
   "cell_type": "code",
   "execution_count": 23,
   "metadata": {},
   "outputs": [],
   "source": [
    "def convert_time_delta(item):\n",
    "    year = ''\n",
    "    month =''\n",
    "    if item == 'None':\n",
    "        return('None')\n",
    "    else:\n",
    "        item = pd.to_datetime(item, format='%Y.%m', errors='ignore')\n",
    "        now = datetime.datetime.now()\n",
    "        d1 = du_parse(str(item))\n",
    "        d2 = du_parse(str(now))\n",
    "        delta = relativedelta(d2, d1)\n",
    "\n",
    "\n",
    "        if delta.years == 1:\n",
    "            year = 'год'\n",
    "        elif delta.years in [2,3,4]:\n",
    "            year = 'года'\n",
    "        else:\n",
    "            year = 'лет'\n",
    "\n",
    "\n",
    "        if delta.months == 1:\n",
    "            month = 'месяц'\n",
    "        elif delta.months in [2,3,4]:\n",
    "            month = 'месяца'\n",
    "        else:\n",
    "            month = 'месяцев'\n",
    "        delta_string = str(delta.years) + ' ' +year +' и ' + str(delta.months) + ' ' +month\n",
    "        return(delta_string)\n",
    "\n",
    "def model_date_correction (item):\n",
    "    if item == 'None':\n",
    "        return('0')\n",
    "    else:\n",
    "        return(item)\n",
    "\n",
    "def number_doors_correction (item):\n",
    "    if item == 'None':\n",
    "        return('0')\n",
    "    else:\n",
    "        return(item)\n",
    "\n",
    "color_dict = {\n",
    "    '040001':'чёрный',\n",
    "    'CACECB':'серебристый',\n",
    "    'FAFBFB':'белый',\n",
    "    '97948F':'серый',\n",
    "    '0000CC':'синий',\n",
    "    'EE1D19':'красный',\n",
    "    '007F00':'зеленый',\n",
    "    '200204':'коричневый',\n",
    "    'C49648':'бежевый',\n",
    "    '22A0F8':'голубой',\n",
    "    'DEA522':'золотистый',\n",
    "    '660099':'пурпурный',\n",
    "    '4A2197':'фиолетовый',\n",
    "    'FFD600':'жёлтый',\n",
    "    'FF8649':'оранжевый',\n",
    "    'FFC0CB':'розовый'\n",
    "}\n",
    "\n",
    "fuel_dict = {\n",
    "    'GASOLINE':'бензин',\n",
    "    'DIESEL':'дизель',\n",
    "    'ELECTRO':'электро',\n",
    "    'HYBRID':'гибрид',\n",
    "    'LPG':'газ'\n",
    "}\n",
    "\n",
    "transmission_dict = {\n",
    "    'AUTOMATIC':'автоматическая',\n",
    "    'MECHANICAL':'механическая',\n",
    "    'ROBOT':'роботизированная',\n",
    "    'VARIATOR':'вариатор'\n",
    "}\n",
    "\n",
    "privod_dict = {\n",
    "    'FORWARD_CONTROL':'передний',\n",
    "    'REAR_DRIVE':'задний',\n",
    "    'ALL_WHEEL_DRIVE':'полный'\n",
    "}\n",
    "\n",
    "stearing_wheel_dict = {\n",
    "    'LEFT':'Левый',\n",
    "    'RIGHT':'Правый'\n",
    "}\n",
    "\n",
    "state_dict = {\n",
    "    'True':'Не требует ремонта',\n",
    "    'False':'Битая/Не на ходу'\n",
    "}\n",
    "\n",
    "pts_dict = {\n",
    "    'ORIGINAL':'Оригинал',\n",
    "    'DUPLICATE':'Дубликат'\n",
    "}\n",
    "\n",
    "legal_dict = {\n",
    "    'True':'Растаможен',\n",
    "    'False':'Не растаможен'\n",
    "}\n",
    "\n",
    "df_auto['color'] = df_auto['color'].replace(to_replace=color_dict)\n",
    "df_auto['modelDate'] = df_auto['modelDate'].apply(model_date_correction)  \n",
    "df_auto['modelDate'] = df_auto['modelDate'].astype(np.float64)\n",
    "df_auto['mileage'] = df_auto['mileage'].astype(np.float64)\n",
    "df_auto['numberOfDoors'] = df_auto['numberOfDoors'].apply(number_doors_correction)  \n",
    "df_auto['numberOfDoors'] = df_auto['numberOfDoors'].astype(np.float64)\n",
    "df_auto['fuelType'] = df_auto['fuelType'].replace(to_replace=fuel_dict)   \n",
    "df_auto['vehicleTransmission'] = df_auto['vehicleTransmission'].replace(to_replace=transmission_dict)\n",
    "df_auto['Привод'] = df_auto['Привод'].replace(to_replace=privod_dict)\n",
    "df_auto['Руль'] = df_auto['Руль'].replace(to_replace=stearing_wheel_dict)\n",
    "df_auto['Состояние'] = df_auto['Состояние'].astype(str)             \n",
    "df_auto['Состояние'] = df_auto['Состояние'].replace(to_replace=state_dict)\n",
    "df_auto['ПТС'] = df_auto['ПТС'].replace(to_replace=pts_dict)\n",
    "df_auto['Таможня'] = df_auto['Таможня'].astype(str)\n",
    "df_auto['Таможня'] = df_auto['Таможня'].replace(to_replace=legal_dict)\n",
    "df_auto['Владение'] = df_auto['Владение'].apply(convert_time_delta)  "
   ]
  },
  {
   "cell_type": "code",
   "execution_count": 24,
   "metadata": {},
   "outputs": [
    {
     "data": {
      "text/html": [
       "<div>\n",
       "<style scoped>\n",
       "    .dataframe tbody tr th:only-of-type {\n",
       "        vertical-align: middle;\n",
       "    }\n",
       "\n",
       "    .dataframe tbody tr th {\n",
       "        vertical-align: top;\n",
       "    }\n",
       "\n",
       "    .dataframe thead th {\n",
       "        text-align: right;\n",
       "    }\n",
       "</style>\n",
       "<table border=\"1\" class=\"dataframe\">\n",
       "  <thead>\n",
       "    <tr style=\"text-align: right;\">\n",
       "      <th></th>\n",
       "      <th>bodyType</th>\n",
       "      <th>brand</th>\n",
       "      <th>color</th>\n",
       "      <th>fuelType</th>\n",
       "      <th>modelDate</th>\n",
       "      <th>name</th>\n",
       "      <th>numberOfDoors</th>\n",
       "      <th>productionDate</th>\n",
       "      <th>vehicleConfiguration</th>\n",
       "      <th>vehicleTransmission</th>\n",
       "      <th>engineDisplacement</th>\n",
       "      <th>enginePower</th>\n",
       "      <th>description</th>\n",
       "      <th>mileage</th>\n",
       "      <th>Комплектация</th>\n",
       "      <th>Привод</th>\n",
       "      <th>Руль</th>\n",
       "      <th>Состояние</th>\n",
       "      <th>Владельцы</th>\n",
       "      <th>ПТС</th>\n",
       "      <th>Таможня</th>\n",
       "      <th>Владение</th>\n",
       "      <th>Цена</th>\n",
       "    </tr>\n",
       "  </thead>\n",
       "  <tbody>\n",
       "    <tr>\n",
       "      <th>207441</th>\n",
       "      <td>Седан</td>\n",
       "      <td>BMW</td>\n",
       "      <td>белый</td>\n",
       "      <td>бензин</td>\n",
       "      <td>2018.0</td>\n",
       "      <td>320i xDrive 2.0 AT (184 л.с.) 4WD</td>\n",
       "      <td>4.0</td>\n",
       "      <td>2020</td>\n",
       "      <td>SEDAN AUTOMATIC 2.0</td>\n",
       "      <td>автоматическая</td>\n",
       "      <td>2.0 LTR</td>\n",
       "      <td>184 N12</td>\n",
       "      <td>Автомобиль находится на площадке АО ABTODOM Ст...</td>\n",
       "      <td>0.0</td>\n",
       "      <td>['cruise-control', 'sport-seats', 'multi-wheel...</td>\n",
       "      <td>полный</td>\n",
       "      <td>Левый</td>\n",
       "      <td>Не требует ремонта</td>\n",
       "      <td>None</td>\n",
       "      <td>Оригинал</td>\n",
       "      <td>Растаможен</td>\n",
       "      <td>None</td>\n",
       "      <td>3350200</td>\n",
       "    </tr>\n",
       "    <tr>\n",
       "      <th>207442</th>\n",
       "      <td>Седан</td>\n",
       "      <td>BMW</td>\n",
       "      <td>серый</td>\n",
       "      <td>бензин</td>\n",
       "      <td>2018.0</td>\n",
       "      <td>320i xDrive 2.0 AT (184 л.с.) 4WD</td>\n",
       "      <td>4.0</td>\n",
       "      <td>2020</td>\n",
       "      <td>SEDAN AUTOMATIC 2.0</td>\n",
       "      <td>автоматическая</td>\n",
       "      <td>2.0 LTR</td>\n",
       "      <td>184 N12</td>\n",
       "      <td>ДЕЙСТВИТЕЛЬНО ОГРАНИЧЕННОЕ ПРЕДЛОЖЕНИЕ НА БМВ ...</td>\n",
       "      <td>0.0</td>\n",
       "      <td>['cruise-control', 'sport-seats', 'multi-wheel...</td>\n",
       "      <td>полный</td>\n",
       "      <td>Левый</td>\n",
       "      <td>Не требует ремонта</td>\n",
       "      <td>None</td>\n",
       "      <td>Оригинал</td>\n",
       "      <td>Растаможен</td>\n",
       "      <td>None</td>\n",
       "      <td>3264200</td>\n",
       "    </tr>\n",
       "    <tr>\n",
       "      <th>207443</th>\n",
       "      <td>Внедорожник 5 дв.</td>\n",
       "      <td>BMW</td>\n",
       "      <td>белый</td>\n",
       "      <td>бензин</td>\n",
       "      <td>2017.0</td>\n",
       "      <td>20i xDrive 2.0 AT (184 л.с.) 4WD</td>\n",
       "      <td>5.0</td>\n",
       "      <td>2020</td>\n",
       "      <td>ALLROAD_5_DOORS AUTOMATIC 2.0</td>\n",
       "      <td>автоматическая</td>\n",
       "      <td>2.0 LTR</td>\n",
       "      <td>184 N12</td>\n",
       "      <td>ДЕЙСТВИТЕЛЬНО ОГРАНИЧЕННОЕ ПРЕДЛОЖЕНИЕ НА БМВ ...</td>\n",
       "      <td>0.0</td>\n",
       "      <td>['cruise-control', 'multi-wheel', 'auto-park',...</td>\n",
       "      <td>полный</td>\n",
       "      <td>Левый</td>\n",
       "      <td>Не требует ремонта</td>\n",
       "      <td>None</td>\n",
       "      <td>Оригинал</td>\n",
       "      <td>Растаможен</td>\n",
       "      <td>None</td>\n",
       "      <td>3890000</td>\n",
       "    </tr>\n",
       "  </tbody>\n",
       "</table>\n",
       "</div>"
      ],
      "text/plain": [
       "                 bodyType brand  color fuelType  modelDate  \\\n",
       "207441              Седан   BMW  белый   бензин     2018.0   \n",
       "207442              Седан   BMW  серый   бензин     2018.0   \n",
       "207443  Внедорожник 5 дв.   BMW  белый   бензин     2017.0   \n",
       "\n",
       "                                     name  numberOfDoors  productionDate  \\\n",
       "207441  320i xDrive 2.0 AT (184 л.с.) 4WD            4.0            2020   \n",
       "207442  320i xDrive 2.0 AT (184 л.с.) 4WD            4.0            2020   \n",
       "207443   20i xDrive 2.0 AT (184 л.с.) 4WD            5.0            2020   \n",
       "\n",
       "                 vehicleConfiguration vehicleTransmission engineDisplacement  \\\n",
       "207441            SEDAN AUTOMATIC 2.0      автоматическая            2.0 LTR   \n",
       "207442            SEDAN AUTOMATIC 2.0      автоматическая            2.0 LTR   \n",
       "207443  ALLROAD_5_DOORS AUTOMATIC 2.0      автоматическая            2.0 LTR   \n",
       "\n",
       "       enginePower                                        description  \\\n",
       "207441     184 N12  Автомобиль находится на площадке АО ABTODOM Ст...   \n",
       "207442     184 N12  ДЕЙСТВИТЕЛЬНО ОГРАНИЧЕННОЕ ПРЕДЛОЖЕНИЕ НА БМВ ...   \n",
       "207443     184 N12  ДЕЙСТВИТЕЛЬНО ОГРАНИЧЕННОЕ ПРЕДЛОЖЕНИЕ НА БМВ ...   \n",
       "\n",
       "        mileage                                       Комплектация  Привод  \\\n",
       "207441      0.0  ['cruise-control', 'sport-seats', 'multi-wheel...  полный   \n",
       "207442      0.0  ['cruise-control', 'sport-seats', 'multi-wheel...  полный   \n",
       "207443      0.0  ['cruise-control', 'multi-wheel', 'auto-park',...  полный   \n",
       "\n",
       "         Руль           Состояние Владельцы       ПТС     Таможня Владение  \\\n",
       "207441  Левый  Не требует ремонта      None  Оригинал  Растаможен     None   \n",
       "207442  Левый  Не требует ремонта      None  Оригинал  Растаможен     None   \n",
       "207443  Левый  Не требует ремонта      None  Оригинал  Растаможен     None   \n",
       "\n",
       "           Цена  \n",
       "207441  3350200  \n",
       "207442  3264200  \n",
       "207443  3890000  "
      ]
     },
     "execution_count": 24,
     "metadata": {},
     "output_type": "execute_result"
    }
   ],
   "source": [
    "df_auto.tail(3)"
   ]
  },
  {
   "cell_type": "code",
   "execution_count": 12,
   "metadata": {},
   "outputs": [
    {
     "data": {
      "text/plain": [
       "(21195, 24)"
      ]
     },
     "execution_count": 12,
     "metadata": {},
     "output_type": "execute_result"
    }
   ],
   "source": [
    "df_auto = df_auto.drop_duplicates(keep = 'first')\n",
    "df_auto['id'] = df_auto.index \n",
    "df_auto.shape"
   ]
  },
  {
   "cell_type": "code",
   "execution_count": 15,
   "metadata": {},
   "outputs": [],
   "source": [
    "df_auto.to_csv('BMW_ready.csv', sep = ';')"
   ]
  },
  {
   "cell_type": "code",
   "execution_count": 17,
   "metadata": {},
   "outputs": [
    {
     "data": {
      "text/html": [
       "<div>\n",
       "<style scoped>\n",
       "    .dataframe tbody tr th:only-of-type {\n",
       "        vertical-align: middle;\n",
       "    }\n",
       "\n",
       "    .dataframe tbody tr th {\n",
       "        vertical-align: top;\n",
       "    }\n",
       "\n",
       "    .dataframe thead th {\n",
       "        text-align: right;\n",
       "    }\n",
       "</style>\n",
       "<table border=\"1\" class=\"dataframe\">\n",
       "  <thead>\n",
       "    <tr style=\"text-align: right;\">\n",
       "      <th></th>\n",
       "      <th>bodyType</th>\n",
       "      <th>brand</th>\n",
       "      <th>color</th>\n",
       "      <th>fuelType</th>\n",
       "      <th>modelDate</th>\n",
       "      <th>name</th>\n",
       "      <th>numberOfDoors</th>\n",
       "      <th>productionDate</th>\n",
       "      <th>vehicleConfiguration</th>\n",
       "      <th>vehicleTransmission</th>\n",
       "      <th>engineDisplacement</th>\n",
       "      <th>enginePower</th>\n",
       "      <th>description</th>\n",
       "      <th>mileage</th>\n",
       "      <th>Комплектация</th>\n",
       "      <th>Привод</th>\n",
       "      <th>Руль</th>\n",
       "      <th>Состояние</th>\n",
       "      <th>Владельцы</th>\n",
       "      <th>ПТС</th>\n",
       "      <th>Таможня</th>\n",
       "      <th>Владение</th>\n",
       "      <th>Цена</th>\n",
       "      <th>id</th>\n",
       "    </tr>\n",
       "  </thead>\n",
       "  <tbody>\n",
       "    <tr>\n",
       "      <th>0</th>\n",
       "      <td>Седан</td>\n",
       "      <td>BMW</td>\n",
       "      <td>серый</td>\n",
       "      <td>бензин</td>\n",
       "      <td>1968.0</td>\n",
       "      <td>2.5 MT (150 л.с.)</td>\n",
       "      <td>4.0</td>\n",
       "      <td>1969</td>\n",
       "      <td>SEDAN MECHANICAL 2.5</td>\n",
       "      <td>механическая</td>\n",
       "      <td>2.5 LTR</td>\n",
       "      <td>150 N12</td>\n",
       "      <td>В продаже оригинальная BMW 2500  Родной двигат...</td>\n",
       "      <td>200000.0</td>\n",
       "      <td>None</td>\n",
       "      <td>задний</td>\n",
       "      <td>Левый</td>\n",
       "      <td>Не требует ремонта</td>\n",
       "      <td>2</td>\n",
       "      <td>Оригинал</td>\n",
       "      <td>Растаможен</td>\n",
       "      <td>9 лет и 7 месяцев</td>\n",
       "      <td>460000</td>\n",
       "      <td>0</td>\n",
       "    </tr>\n",
       "    <tr>\n",
       "      <th>1</th>\n",
       "      <td>Седан 2 дв.</td>\n",
       "      <td>BMW</td>\n",
       "      <td>оранжевый</td>\n",
       "      <td>бензин</td>\n",
       "      <td>1966.0</td>\n",
       "      <td>2.0 MT (101 л.с.)</td>\n",
       "      <td>2.0</td>\n",
       "      <td>1972</td>\n",
       "      <td>COUPE MECHANICAL 2.0</td>\n",
       "      <td>механическая</td>\n",
       "      <td>2.0 LTR</td>\n",
       "      <td>101 N12</td>\n",
       "      <td>В СССР прибыл новым  В семье с 1977 г  Один вл...</td>\n",
       "      <td>117000.0</td>\n",
       "      <td>None</td>\n",
       "      <td>задний</td>\n",
       "      <td>Левый</td>\n",
       "      <td>Не требует ремонта</td>\n",
       "      <td>1</td>\n",
       "      <td>Оригинал</td>\n",
       "      <td>Растаможен</td>\n",
       "      <td>42 лет и 8 месяцев</td>\n",
       "      <td>1000000</td>\n",
       "      <td>1</td>\n",
       "    </tr>\n",
       "    <tr>\n",
       "      <th>3</th>\n",
       "      <td>Седан</td>\n",
       "      <td>BMW</td>\n",
       "      <td>голубой</td>\n",
       "      <td>бензин</td>\n",
       "      <td>1972.0</td>\n",
       "      <td>520 2.0 MT (115 л.с.)</td>\n",
       "      <td>4.0</td>\n",
       "      <td>1973</td>\n",
       "      <td>SEDAN MECHANICAL 2.0</td>\n",
       "      <td>механическая</td>\n",
       "      <td>2.0 LTR</td>\n",
       "      <td>115 N12</td>\n",
       "      <td>Продаю BMW 520  на ходу  Все вопросы по поводу...</td>\n",
       "      <td>30000.0</td>\n",
       "      <td>None</td>\n",
       "      <td>задний</td>\n",
       "      <td>Левый</td>\n",
       "      <td>Не требует ремонта</td>\n",
       "      <td>1</td>\n",
       "      <td>Оригинал</td>\n",
       "      <td>Растаможен</td>\n",
       "      <td>None</td>\n",
       "      <td>500000</td>\n",
       "      <td>3</td>\n",
       "    </tr>\n",
       "  </tbody>\n",
       "</table>\n",
       "</div>"
      ],
      "text/plain": [
       "      bodyType brand      color fuelType  modelDate                   name  \\\n",
       "0        Седан   BMW      серый   бензин     1968.0      2.5 MT (150 л.с.)   \n",
       "1  Седан 2 дв.   BMW  оранжевый   бензин     1966.0      2.0 MT (101 л.с.)   \n",
       "3        Седан   BMW    голубой   бензин     1972.0  520 2.0 MT (115 л.с.)   \n",
       "\n",
       "   numberOfDoors  productionDate  vehicleConfiguration vehicleTransmission  \\\n",
       "0            4.0            1969  SEDAN MECHANICAL 2.5        механическая   \n",
       "1            2.0            1972  COUPE MECHANICAL 2.0        механическая   \n",
       "3            4.0            1973  SEDAN MECHANICAL 2.0        механическая   \n",
       "\n",
       "  engineDisplacement enginePower  \\\n",
       "0            2.5 LTR     150 N12   \n",
       "1            2.0 LTR     101 N12   \n",
       "3            2.0 LTR     115 N12   \n",
       "\n",
       "                                         description   mileage Комплектация  \\\n",
       "0  В продаже оригинальная BMW 2500  Родной двигат...  200000.0         None   \n",
       "1  В СССР прибыл новым  В семье с 1977 г  Один вл...  117000.0         None   \n",
       "3  Продаю BMW 520  на ходу  Все вопросы по поводу...   30000.0         None   \n",
       "\n",
       "   Привод   Руль           Состояние Владельцы       ПТС     Таможня  \\\n",
       "0  задний  Левый  Не требует ремонта         2  Оригинал  Растаможен   \n",
       "1  задний  Левый  Не требует ремонта         1  Оригинал  Растаможен   \n",
       "3  задний  Левый  Не требует ремонта         1  Оригинал  Растаможен   \n",
       "\n",
       "             Владение     Цена  id  \n",
       "0   9 лет и 7 месяцев   460000   0  \n",
       "1  42 лет и 8 месяцев  1000000   1  \n",
       "3                None   500000   3  "
      ]
     },
     "execution_count": 17,
     "metadata": {},
     "output_type": "execute_result"
    }
   ],
   "source": [
    "df_auto.head(3)"
   ]
  },
  {
   "cell_type": "code",
   "execution_count": 28,
   "metadata": {},
   "outputs": [
    {
     "data": {
      "text/plain": [
       "array(['серый', 'красный', 'чёрный', 'коричневый', 'серебристый', 'синий',\n",
       "       'бежевый', 'жёлтый', 'белый', 'голубой', 'золотистый', 'пурпурный',\n",
       "       'оранжевый', nan, 'зеленый', 'фиолетовый', 'розовый'], dtype=object)"
      ]
     },
     "execution_count": 28,
     "metadata": {},
     "output_type": "execute_result"
    }
   ],
   "source": [
    "df_auto['color'] = df_auto['color'].str.replace('200204','коричневый')\n",
    "df_auto.color.unique()"
   ]
  },
  {
   "cell_type": "code",
   "execution_count": 38,
   "metadata": {},
   "outputs": [
    {
     "data": {
      "text/plain": [
       "(207443, 23)"
      ]
     },
     "execution_count": 38,
     "metadata": {},
     "output_type": "execute_result"
    }
   ],
   "source": [
    "df_auto.shape"
   ]
  },
  {
   "cell_type": "code",
   "execution_count": 32,
   "metadata": {},
   "outputs": [],
   "source": [
    "df_auto = df_auto.query(\"color not in ['nan']\")"
   ]
  },
  {
   "cell_type": "code",
   "execution_count": 37,
   "metadata": {},
   "outputs": [],
   "source": [
    "df_auto = df_auto.dropna()"
   ]
  },
  {
   "cell_type": "code",
   "execution_count": 39,
   "metadata": {},
   "outputs": [
    {
     "data": {
      "text/plain": [
       "array(['серый', 'красный', 'чёрный', 'коричневый', 'серебристый', 'синий',\n",
       "       'бежевый', 'жёлтый', 'белый', 'голубой', 'золотистый', 'пурпурный',\n",
       "       'оранжевый', 'зеленый', 'фиолетовый', 'розовый'], dtype=object)"
      ]
     },
     "execution_count": 39,
     "metadata": {},
     "output_type": "execute_result"
    }
   ],
   "source": [
    "df_auto.color.unique()"
   ]
  },
  {
   "cell_type": "code",
   "execution_count": 46,
   "metadata": {},
   "outputs": [],
   "source": [
    "df_auto = df_auto.drop_duplicates(keep = 'first')"
   ]
  },
  {
   "cell_type": "code",
   "execution_count": 41,
   "metadata": {},
   "outputs": [
    {
     "data": {
      "text/plain": [
       "(34790, 23)"
      ]
     },
     "execution_count": 41,
     "metadata": {},
     "output_type": "execute_result"
    }
   ],
   "source": [
    "df_auto.shape"
   ]
  },
  {
   "cell_type": "code",
   "execution_count": 44,
   "metadata": {},
   "outputs": [
    {
     "data": {
      "text/html": [
       "<div>\n",
       "<style scoped>\n",
       "    .dataframe tbody tr th:only-of-type {\n",
       "        vertical-align: middle;\n",
       "    }\n",
       "\n",
       "    .dataframe tbody tr th {\n",
       "        vertical-align: top;\n",
       "    }\n",
       "\n",
       "    .dataframe thead th {\n",
       "        text-align: right;\n",
       "    }\n",
       "</style>\n",
       "<table border=\"1\" class=\"dataframe\">\n",
       "  <thead>\n",
       "    <tr style=\"text-align: right;\">\n",
       "      <th></th>\n",
       "      <th>bodyType</th>\n",
       "      <th>brand</th>\n",
       "      <th>color</th>\n",
       "      <th>fuelType</th>\n",
       "      <th>modelDate</th>\n",
       "      <th>name</th>\n",
       "      <th>numberOfDoors</th>\n",
       "      <th>productionDate</th>\n",
       "      <th>vehicleConfiguration</th>\n",
       "      <th>vehicleTransmission</th>\n",
       "      <th>engineDisplacement</th>\n",
       "      <th>enginePower</th>\n",
       "      <th>description</th>\n",
       "      <th>mileage</th>\n",
       "      <th>Комплектация</th>\n",
       "      <th>Привод</th>\n",
       "      <th>Руль</th>\n",
       "      <th>Состояние</th>\n",
       "      <th>Владельцы</th>\n",
       "      <th>ПТС</th>\n",
       "      <th>Таможня</th>\n",
       "      <th>Владение</th>\n",
       "      <th>Цена</th>\n",
       "    </tr>\n",
       "  </thead>\n",
       "  <tbody>\n",
       "  </tbody>\n",
       "</table>\n",
       "</div>"
      ],
      "text/plain": [
       "Empty DataFrame\n",
       "Columns: [bodyType, brand, color, fuelType, modelDate, name, numberOfDoors, productionDate, vehicleConfiguration, vehicleTransmission, engineDisplacement, enginePower, description, mileage, Комплектация, Привод, Руль, Состояние, Владельцы, ПТС, Таможня, Владение, Цена]\n",
       "Index: []"
      ]
     },
     "execution_count": 44,
     "metadata": {},
     "output_type": "execute_result"
    }
   ],
   "source": [
    "df_auto[df_auto['Цена'] == 'None']"
   ]
  },
  {
   "cell_type": "code",
   "execution_count": 43,
   "metadata": {},
   "outputs": [],
   "source": [
    "df_auto = df_auto.query(\"Цена not in ['None']\")"
   ]
  },
  {
   "cell_type": "code",
   "execution_count": 50,
   "metadata": {},
   "outputs": [
    {
     "data": {
      "text/plain": [
       "(34511, 24)"
      ]
     },
     "execution_count": 50,
     "metadata": {},
     "output_type": "execute_result"
    }
   ],
   "source": [
    "df_auto.shape"
   ]
  },
  {
   "cell_type": "code",
   "execution_count": 49,
   "metadata": {},
   "outputs": [],
   "source": [
    "df_auto = df_auto.reset_index()\n",
    "df_auto = df_auto.drop(['index'], axis = 1)\n",
    "df_auto['id'] = df_auto.index "
   ]
  },
  {
   "cell_type": "code",
   "execution_count": 51,
   "metadata": {},
   "outputs": [],
   "source": [
    "df_auto.to_csv('BMW_ready_19082020.csv', sep = ';')"
   ]
  },
  {
   "cell_type": "code",
   "execution_count": null,
   "metadata": {},
   "outputs": [],
   "source": []
  }
 ],
 "metadata": {
  "kernelspec": {
   "display_name": "Python 3",
   "language": "python",
   "name": "python3"
  },
  "language_info": {
   "codemirror_mode": {
    "name": "ipython",
    "version": 3
   },
   "file_extension": ".py",
   "mimetype": "text/x-python",
   "name": "python",
   "nbconvert_exporter": "python",
   "pygments_lexer": "ipython3",
   "version": "3.8.5"
  },
  "pycharm": {
   "stem_cell": {
    "cell_type": "raw",
    "metadata": {
     "collapsed": false
    },
    "source": []
   }
  }
 },
 "nbformat": 4,
 "nbformat_minor": 4
}
