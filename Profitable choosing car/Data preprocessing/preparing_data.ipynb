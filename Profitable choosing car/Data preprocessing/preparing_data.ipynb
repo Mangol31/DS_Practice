{
 "cells": [
  {
   "cell_type": "code",
   "execution_count": 2,
   "metadata": {
    "pycharm": {
     "is_executing": false
    }
   },
   "outputs": [],
   "source": [
    "import pandas as pd\n",
    "import numpy as np\n",
    "import datetime\n",
    "from dateutil.parser import parse as du_parse\n",
    "from dateutil.relativedelta import relativedelta\n",
    "pd.set_option('display.max_rows', 60)\n",
    "pd.set_option('display.max_columns', 100)"
   ]
  },
  {
   "cell_type": "code",
   "execution_count": 2,
   "metadata": {},
   "outputs": [],
   "source": [
    "# df = pd.read_csv('C:/Users\\Mangol/Notebooks/DataScience-Practice/Profitable choosing car/test_data/test.csv')\n",
    "# df.head(10)"
   ]
  },
  {
   "cell_type": "code",
   "execution_count": 2,
   "metadata": {},
   "outputs": [],
   "source": [
    "columns = ['bodyType','brand','color','fuelType','modelDate','name','numberOfDoors','productionDate','vehicleConfiguration','vehicleTransmission','engineDisplacement','enginePower','description','mileage','Комплектация','Привод','Руль','Состояние','Владельцы','ПТС','Таможня','Владение', 'Цена']\n",
    "# columns = ['body_type','brand','color','fuel_type','model_date','name','number_of_doors','production_date','vehicle_configuration','vehicle_transmission','engine_displacement','engine_power','description','mileage','complectation','drive','stear','conditions','owners','pts','customs','ownership', 'price']\n",
    "# df_auto1 = pd.DataFrame(columns = ['bodyType', 'brand', 'color', 'fuelType', 'modelDate', 'name', 'numberOfDoors', 'productionDate', 'vehicleConfiguration', 'vehicleTransmission', 'engineDisplacement', 'enginePower', 'description', 'mileage', 'Комплектация', 'Привод', 'Руль', 'Состояние', 'Владельцы', 'ПТС', 'Таможня', 'Владение'])\n",
    "# df_auto = pd.read_csv('Save_auto1.txt', header = None, sep= ';')"
   ]
  },
  {
   "cell_type": "code",
   "execution_count": 76,
   "metadata": {},
   "outputs": [],
   "source": [
    "df_auto_ready = pd.read_csv('C:/Users/Mangol/Notebooks/DataScience-Practice/Profitable choosing car/Parsers/BMW_train_19082020.csv', sep = ';')\n",
    "df_auto_ready = df_auto_ready.drop(['Unnamed: 0','id'], axis = 1)\n",
    "# df_auto = pd.read_csv('Save_auto_BMW_1er.txt', header = None, sep = ';')\n",
    "df_auto = pd.read_csv('C:/Users/Mangol/Notebooks/DataScience-Practice/Profitable choosing car/Parsers/Save_all_bmw_auto_230820.txt', header = None, sep = ';')\n",
    "df_auto1 = pd.read_csv('C:/Users/Mangol/Notebooks/DataScience-Practice/Profitable choosing car/Parsers/Save_all_bmw_auto_230820_2.txt', header = None, sep = ';')\n",
    "df_auto2 = pd.read_csv('C:/Users/Mangol/Notebooks/DataScience-Practice/Profitable choosing car/Parsers/Save_all_bmw_auto_240820_2.txt', header = None, sep = ';')\n",
    "# df_auto2 = pd.read_csv('Save_auto_BMW_2er_active_tour.txt', header = None, sep = ';')\n",
    "# df_auto3 = pd.read_csv('Save_auto_BMW_3er.txt', header = None, sep = ';')\n",
    "# df_auto4 = pd.read_csv('Save_auto_BMW_4_5er.txt', header = None, sep = ';')\n",
    "# df_auto5 = pd.read_csv('Save_auto_BMW_6_7.txt', header = None, sep = ';')\n",
    "# df_auto6 = pd.read_csv('Save_auto_BMW_8er_X3.txt', header = None, sep = ';')\n",
    "# df_auto7 = pd.read_csv('Save_auto_BMW_X4_X5.txt', header = None, sep = ';')\n",
    "# df_auto8 = pd.read_csv('Save_auto_BMW_X5_Z4.txt', header = None, sep = ';')"
   ]
  },
  {
   "cell_type": "code",
   "execution_count": 78,
   "metadata": {},
   "outputs": [
    {
     "data": {
      "text/html": [
       "<div>\n",
       "<style scoped>\n",
       "    .dataframe tbody tr th:only-of-type {\n",
       "        vertical-align: middle;\n",
       "    }\n",
       "\n",
       "    .dataframe tbody tr th {\n",
       "        vertical-align: top;\n",
       "    }\n",
       "\n",
       "    .dataframe thead th {\n",
       "        text-align: right;\n",
       "    }\n",
       "</style>\n",
       "<table border=\"1\" class=\"dataframe\">\n",
       "  <thead>\n",
       "    <tr style=\"text-align: right;\">\n",
       "      <th></th>\n",
       "      <th>bodyType</th>\n",
       "      <th>brand</th>\n",
       "      <th>color</th>\n",
       "      <th>fuelType</th>\n",
       "      <th>modelDate</th>\n",
       "      <th>name</th>\n",
       "      <th>numberOfDoors</th>\n",
       "      <th>productionDate</th>\n",
       "      <th>vehicleConfiguration</th>\n",
       "      <th>vehicleTransmission</th>\n",
       "      <th>engineDisplacement</th>\n",
       "      <th>enginePower</th>\n",
       "      <th>description</th>\n",
       "      <th>mileage</th>\n",
       "      <th>Комплектация</th>\n",
       "      <th>Привод</th>\n",
       "      <th>Руль</th>\n",
       "      <th>Состояние</th>\n",
       "      <th>Владельцы</th>\n",
       "      <th>ПТС</th>\n",
       "      <th>Таможня</th>\n",
       "      <th>Владение</th>\n",
       "      <th>Цена</th>\n",
       "    </tr>\n",
       "  </thead>\n",
       "  <tbody>\n",
       "    <tr>\n",
       "      <th>0</th>\n",
       "      <td>Хэтчбек 5 дв.</td>\n",
       "      <td>BMW</td>\n",
       "      <td>серый</td>\n",
       "      <td>бензин</td>\n",
       "      <td>2004.0</td>\n",
       "      <td>120i 2.0 MT (150 л.с.)</td>\n",
       "      <td>5.0</td>\n",
       "      <td>2004</td>\n",
       "      <td>HATCHBACK_5_DOORS MECHANICAL 2.0</td>\n",
       "      <td>механическая</td>\n",
       "      <td>2.0 LTR</td>\n",
       "      <td>150 N12</td>\n",
       "      <td>Вашему вниманию предлагается очень интересная ...</td>\n",
       "      <td>198000.0</td>\n",
       "      <td>None</td>\n",
       "      <td>задний</td>\n",
       "      <td>Левый</td>\n",
       "      <td>Не требует ремонта</td>\n",
       "      <td>2</td>\n",
       "      <td>Оригинал</td>\n",
       "      <td>Растаможен</td>\n",
       "      <td>10 лет и 11 месяцев</td>\n",
       "      <td>450000</td>\n",
       "    </tr>\n",
       "  </tbody>\n",
       "</table>\n",
       "</div>"
      ],
      "text/plain": [
       "        bodyType brand  color fuelType  modelDate                    name  \\\n",
       "0  Хэтчбек 5 дв.   BMW  серый   бензин     2004.0  120i 2.0 MT (150 л.с.)   \n",
       "\n",
       "   numberOfDoors  productionDate              vehicleConfiguration  \\\n",
       "0            5.0            2004  HATCHBACK_5_DOORS MECHANICAL 2.0   \n",
       "\n",
       "  vehicleTransmission engineDisplacement enginePower  \\\n",
       "0        механическая            2.0 LTR     150 N12   \n",
       "\n",
       "                                         description   mileage Комплектация  \\\n",
       "0  Вашему вниманию предлагается очень интересная ...  198000.0         None   \n",
       "\n",
       "   Привод   Руль           Состояние Владельцы       ПТС     Таможня  \\\n",
       "0  задний  Левый  Не требует ремонта         2  Оригинал  Растаможен   \n",
       "\n",
       "              Владение    Цена  \n",
       "0  10 лет и 11 месяцев  450000  "
      ]
     },
     "execution_count": 78,
     "metadata": {},
     "output_type": "execute_result"
    }
   ],
   "source": [
    "df_auto_ready.head(1)"
   ]
  },
  {
   "cell_type": "code",
   "execution_count": 77,
   "metadata": {},
   "outputs": [
    {
     "data": {
      "text/html": [
       "<div>\n",
       "<style scoped>\n",
       "    .dataframe tbody tr th:only-of-type {\n",
       "        vertical-align: middle;\n",
       "    }\n",
       "\n",
       "    .dataframe tbody tr th {\n",
       "        vertical-align: top;\n",
       "    }\n",
       "\n",
       "    .dataframe thead th {\n",
       "        text-align: right;\n",
       "    }\n",
       "</style>\n",
       "<table border=\"1\" class=\"dataframe\">\n",
       "  <thead>\n",
       "    <tr style=\"text-align: right;\">\n",
       "      <th></th>\n",
       "      <th>0</th>\n",
       "      <th>1</th>\n",
       "      <th>2</th>\n",
       "      <th>3</th>\n",
       "      <th>4</th>\n",
       "      <th>5</th>\n",
       "      <th>6</th>\n",
       "      <th>7</th>\n",
       "      <th>8</th>\n",
       "      <th>9</th>\n",
       "      <th>10</th>\n",
       "      <th>11</th>\n",
       "      <th>12</th>\n",
       "      <th>13</th>\n",
       "      <th>14</th>\n",
       "      <th>15</th>\n",
       "      <th>16</th>\n",
       "      <th>17</th>\n",
       "      <th>18</th>\n",
       "      <th>19</th>\n",
       "      <th>20</th>\n",
       "      <th>21</th>\n",
       "      <th>22</th>\n",
       "    </tr>\n",
       "  </thead>\n",
       "  <tbody>\n",
       "    <tr>\n",
       "      <th>0</th>\n",
       "      <td>Седан</td>\n",
       "      <td>BMW</td>\n",
       "      <td>97948F</td>\n",
       "      <td>GASOLINE</td>\n",
       "      <td>1968</td>\n",
       "      <td>2.5 MT (150 л.с.)</td>\n",
       "      <td>4</td>\n",
       "      <td>1969</td>\n",
       "      <td>SEDAN MECHANICAL 2.5</td>\n",
       "      <td>MECHANICAL</td>\n",
       "      <td>2.5 LTR</td>\n",
       "      <td>150 N12</td>\n",
       "      <td>В продаже оригинальная BMW 2500  Родной двигат...</td>\n",
       "      <td>200000</td>\n",
       "      <td>None</td>\n",
       "      <td>REAR_DRIVE</td>\n",
       "      <td>LEFT</td>\n",
       "      <td>True</td>\n",
       "      <td>2</td>\n",
       "      <td>ORIGINAL</td>\n",
       "      <td>True</td>\n",
       "      <td>2011.1</td>\n",
       "      <td>460000</td>\n",
       "    </tr>\n",
       "  </tbody>\n",
       "</table>\n",
       "</div>"
      ],
      "text/plain": [
       "      0    1       2         3     4                  5   6     7   \\\n",
       "0  Седан  BMW  97948F  GASOLINE  1968  2.5 MT (150 л.с.)   4  1969   \n",
       "\n",
       "                     8           9        10       11  \\\n",
       "0  SEDAN MECHANICAL 2.5  MECHANICAL  2.5 LTR  150 N12   \n",
       "\n",
       "                                                  12      13    14  \\\n",
       "0  В продаже оригинальная BMW 2500  Родной двигат...  200000  None   \n",
       "\n",
       "           15    16    17 18        19    20      21      22  \n",
       "0  REAR_DRIVE  LEFT  True  2  ORIGINAL  True  2011.1  460000  "
      ]
     },
     "execution_count": 77,
     "metadata": {},
     "output_type": "execute_result"
    }
   ],
   "source": [
    "df_auto.head(1)"
   ]
  },
  {
   "cell_type": "code",
   "execution_count": 79,
   "metadata": {},
   "outputs": [],
   "source": [
    "df_auto = df_auto.append(df_auto1, ignore_index = True)\n",
    "df_auto = df_auto.append(df_auto2, ignore_index = True)\n",
    "# df_auto = df_auto.append(df_auto3, ignore_index = True)\n",
    "# df_auto = df_auto.append(df_auto4, ignore_index = True)\n",
    "# df_auto = df_auto.append(df_auto5, ignore_index = True)\n",
    "# df_auto = df_auto.append(df_auto6, ignore_index = True)\n",
    "# df_auto = df_auto.append(df_auto7, ignore_index = True)\n",
    "# df_auto = df_auto.append(df_auto8, ignore_index = True)"
   ]
  },
  {
   "cell_type": "code",
   "execution_count": 80,
   "metadata": {},
   "outputs": [],
   "source": [
    "df_auto.columns = columns\n",
    "df_auto_ready.columns = columns"
   ]
  },
  {
   "cell_type": "code",
   "execution_count": 81,
   "metadata": {},
   "outputs": [
    {
     "data": {
      "text/plain": [
       "(118123, 23)"
      ]
     },
     "execution_count": 81,
     "metadata": {},
     "output_type": "execute_result"
    }
   ],
   "source": [
    "df_auto.shape"
   ]
  },
  {
   "cell_type": "code",
   "execution_count": 82,
   "metadata": {},
   "outputs": [
    {
     "data": {
      "text/plain": [
       "(34511, 23)"
      ]
     },
     "execution_count": 82,
     "metadata": {},
     "output_type": "execute_result"
    }
   ],
   "source": [
    "df_auto_ready.shape"
   ]
  },
  {
   "cell_type": "code",
   "execution_count": 62,
   "metadata": {},
   "outputs": [],
   "source": [
    "df_auto = df_auto.append(df_auto1, ignore_index = True)"
   ]
  },
  {
   "cell_type": "code",
   "execution_count": 63,
   "metadata": {},
   "outputs": [
    {
     "data": {
      "text/html": [
       "<div>\n",
       "<style scoped>\n",
       "    .dataframe tbody tr th:only-of-type {\n",
       "        vertical-align: middle;\n",
       "    }\n",
       "\n",
       "    .dataframe tbody tr th {\n",
       "        vertical-align: top;\n",
       "    }\n",
       "\n",
       "    .dataframe thead th {\n",
       "        text-align: right;\n",
       "    }\n",
       "</style>\n",
       "<table border=\"1\" class=\"dataframe\">\n",
       "  <thead>\n",
       "    <tr style=\"text-align: right;\">\n",
       "      <th></th>\n",
       "      <th>bodyType</th>\n",
       "      <th>brand</th>\n",
       "      <th>color</th>\n",
       "      <th>fuelType</th>\n",
       "      <th>modelDate</th>\n",
       "      <th>name</th>\n",
       "      <th>numberOfDoors</th>\n",
       "      <th>productionDate</th>\n",
       "      <th>vehicleConfiguration</th>\n",
       "      <th>vehicleTransmission</th>\n",
       "      <th>engineDisplacement</th>\n",
       "      <th>enginePower</th>\n",
       "      <th>description</th>\n",
       "      <th>mileage</th>\n",
       "      <th>Комплектация</th>\n",
       "      <th>Привод</th>\n",
       "      <th>Руль</th>\n",
       "      <th>Состояние</th>\n",
       "      <th>Владельцы</th>\n",
       "      <th>ПТС</th>\n",
       "      <th>Таможня</th>\n",
       "      <th>Владение</th>\n",
       "      <th>Цена</th>\n",
       "    </tr>\n",
       "  </thead>\n",
       "  <tbody>\n",
       "    <tr>\n",
       "      <th>0</th>\n",
       "      <td>Хэтчбек 5 дв.</td>\n",
       "      <td>BMW</td>\n",
       "      <td>серый</td>\n",
       "      <td>бензин</td>\n",
       "      <td>2004.0</td>\n",
       "      <td>120i 2.0 MT (150 л.с.)</td>\n",
       "      <td>5.0</td>\n",
       "      <td>2004</td>\n",
       "      <td>HATCHBACK_5_DOORS MECHANICAL 2.0</td>\n",
       "      <td>механическая</td>\n",
       "      <td>2.0 LTR</td>\n",
       "      <td>150 N12</td>\n",
       "      <td>Вашему вниманию предлагается очень интересная ...</td>\n",
       "      <td>198000.0</td>\n",
       "      <td>None</td>\n",
       "      <td>задний</td>\n",
       "      <td>Левый</td>\n",
       "      <td>Не требует ремонта</td>\n",
       "      <td>2</td>\n",
       "      <td>Оригинал</td>\n",
       "      <td>Растаможен</td>\n",
       "      <td>10 лет и 11 месяцев</td>\n",
       "      <td>450000</td>\n",
       "    </tr>\n",
       "  </tbody>\n",
       "</table>\n",
       "</div>"
      ],
      "text/plain": [
       "        bodyType brand  color fuelType  modelDate                    name  \\\n",
       "0  Хэтчбек 5 дв.   BMW  серый   бензин     2004.0  120i 2.0 MT (150 л.с.)   \n",
       "\n",
       "   numberOfDoors  productionDate              vehicleConfiguration  \\\n",
       "0            5.0            2004  HATCHBACK_5_DOORS MECHANICAL 2.0   \n",
       "\n",
       "  vehicleTransmission engineDisplacement enginePower  \\\n",
       "0        механическая            2.0 LTR     150 N12   \n",
       "\n",
       "                                         description   mileage Комплектация  \\\n",
       "0  Вашему вниманию предлагается очень интересная ...  198000.0         None   \n",
       "\n",
       "   Привод   Руль           Состояние Владельцы       ПТС     Таможня  \\\n",
       "0  задний  Левый  Не требует ремонта         2  Оригинал  Растаможен   \n",
       "\n",
       "              Владение    Цена  \n",
       "0  10 лет и 11 месяцев  450000  "
      ]
     },
     "execution_count": 63,
     "metadata": {},
     "output_type": "execute_result"
    }
   ],
   "source": [
    "df_auto.head(1)"
   ]
  },
  {
   "cell_type": "code",
   "execution_count": 65,
   "metadata": {},
   "outputs": [
    {
     "ename": "ParserError",
     "evalue": "Unknown string format: 10 лет и 11 месяцев",
     "output_type": "error",
     "traceback": [
      "\u001b[1;31m---------------------------------------------------------------------------\u001b[0m",
      "\u001b[1;31mParserError\u001b[0m                               Traceback (most recent call last)",
      "\u001b[1;32m<ipython-input-65-b5aeac344cc0>\u001b[0m in \u001b[0;36m<module>\u001b[1;34m\u001b[0m\n\u001b[0;32m    115\u001b[0m \u001b[0mdf_auto\u001b[0m\u001b[1;33m[\u001b[0m\u001b[1;34m'Таможня'\u001b[0m\u001b[1;33m]\u001b[0m \u001b[1;33m=\u001b[0m \u001b[0mdf_auto\u001b[0m\u001b[1;33m[\u001b[0m\u001b[1;34m'Таможня'\u001b[0m\u001b[1;33m]\u001b[0m\u001b[1;33m.\u001b[0m\u001b[0mastype\u001b[0m\u001b[1;33m(\u001b[0m\u001b[0mstr\u001b[0m\u001b[1;33m)\u001b[0m\u001b[1;33m\u001b[0m\u001b[1;33m\u001b[0m\u001b[0m\n\u001b[0;32m    116\u001b[0m \u001b[0mdf_auto\u001b[0m\u001b[1;33m[\u001b[0m\u001b[1;34m'Таможня'\u001b[0m\u001b[1;33m]\u001b[0m \u001b[1;33m=\u001b[0m \u001b[0mdf_auto\u001b[0m\u001b[1;33m[\u001b[0m\u001b[1;34m'Таможня'\u001b[0m\u001b[1;33m]\u001b[0m\u001b[1;33m.\u001b[0m\u001b[0mreplace\u001b[0m\u001b[1;33m(\u001b[0m\u001b[0mto_replace\u001b[0m\u001b[1;33m=\u001b[0m\u001b[0mlegal_dict\u001b[0m\u001b[1;33m)\u001b[0m\u001b[1;33m\u001b[0m\u001b[1;33m\u001b[0m\u001b[0m\n\u001b[1;32m--> 117\u001b[1;33m \u001b[0mdf_auto\u001b[0m\u001b[1;33m[\u001b[0m\u001b[1;34m'Владение'\u001b[0m\u001b[1;33m]\u001b[0m \u001b[1;33m=\u001b[0m \u001b[0mdf_auto\u001b[0m\u001b[1;33m[\u001b[0m\u001b[1;34m'Владение'\u001b[0m\u001b[1;33m]\u001b[0m\u001b[1;33m.\u001b[0m\u001b[0mapply\u001b[0m\u001b[1;33m(\u001b[0m\u001b[0mconvert_time_delta\u001b[0m\u001b[1;33m)\u001b[0m\u001b[1;33m\u001b[0m\u001b[1;33m\u001b[0m\u001b[0m\n\u001b[0m\u001b[0;32m    118\u001b[0m \u001b[0mdf_auto\u001b[0m\u001b[1;33m[\u001b[0m\u001b[1;34m'Владельцы'\u001b[0m\u001b[1;33m]\u001b[0m \u001b[1;33m=\u001b[0m \u001b[0mdf_auto\u001b[0m\u001b[1;33m[\u001b[0m\u001b[1;34m'Владельцы'\u001b[0m\u001b[1;33m]\u001b[0m\u001b[1;33m.\u001b[0m\u001b[0mapply\u001b[0m\u001b[1;33m(\u001b[0m\u001b[0mowner_correction\u001b[0m\u001b[1;33m)\u001b[0m\u001b[1;33m\u001b[0m\u001b[1;33m\u001b[0m\u001b[0m\n",
      "\u001b[1;32m~\\anaconda3\\lib\\site-packages\\pandas\\core\\series.py\u001b[0m in \u001b[0;36mapply\u001b[1;34m(self, func, convert_dtype, args, **kwds)\u001b[0m\n\u001b[0;32m   4198\u001b[0m             \u001b[1;32melse\u001b[0m\u001b[1;33m:\u001b[0m\u001b[1;33m\u001b[0m\u001b[1;33m\u001b[0m\u001b[0m\n\u001b[0;32m   4199\u001b[0m                 \u001b[0mvalues\u001b[0m \u001b[1;33m=\u001b[0m \u001b[0mself\u001b[0m\u001b[1;33m.\u001b[0m\u001b[0mastype\u001b[0m\u001b[1;33m(\u001b[0m\u001b[0mobject\u001b[0m\u001b[1;33m)\u001b[0m\u001b[1;33m.\u001b[0m\u001b[0m_values\u001b[0m\u001b[1;33m\u001b[0m\u001b[1;33m\u001b[0m\u001b[0m\n\u001b[1;32m-> 4200\u001b[1;33m                 \u001b[0mmapped\u001b[0m \u001b[1;33m=\u001b[0m \u001b[0mlib\u001b[0m\u001b[1;33m.\u001b[0m\u001b[0mmap_infer\u001b[0m\u001b[1;33m(\u001b[0m\u001b[0mvalues\u001b[0m\u001b[1;33m,\u001b[0m \u001b[0mf\u001b[0m\u001b[1;33m,\u001b[0m \u001b[0mconvert\u001b[0m\u001b[1;33m=\u001b[0m\u001b[0mconvert_dtype\u001b[0m\u001b[1;33m)\u001b[0m\u001b[1;33m\u001b[0m\u001b[1;33m\u001b[0m\u001b[0m\n\u001b[0m\u001b[0;32m   4201\u001b[0m \u001b[1;33m\u001b[0m\u001b[0m\n\u001b[0;32m   4202\u001b[0m         \u001b[1;32mif\u001b[0m \u001b[0mlen\u001b[0m\u001b[1;33m(\u001b[0m\u001b[0mmapped\u001b[0m\u001b[1;33m)\u001b[0m \u001b[1;32mand\u001b[0m \u001b[0misinstance\u001b[0m\u001b[1;33m(\u001b[0m\u001b[0mmapped\u001b[0m\u001b[1;33m[\u001b[0m\u001b[1;36m0\u001b[0m\u001b[1;33m]\u001b[0m\u001b[1;33m,\u001b[0m \u001b[0mSeries\u001b[0m\u001b[1;33m)\u001b[0m\u001b[1;33m:\u001b[0m\u001b[1;33m\u001b[0m\u001b[1;33m\u001b[0m\u001b[0m\n",
      "\u001b[1;32mpandas\\_libs\\lib.pyx\u001b[0m in \u001b[0;36mpandas._libs.lib.map_infer\u001b[1;34m()\u001b[0m\n",
      "\u001b[1;32m<ipython-input-65-b5aeac344cc0>\u001b[0m in \u001b[0;36mconvert_time_delta\u001b[1;34m(item)\u001b[0m\n\u001b[0;32m      7\u001b[0m         \u001b[0mitem\u001b[0m \u001b[1;33m=\u001b[0m \u001b[0mpd\u001b[0m\u001b[1;33m.\u001b[0m\u001b[0mto_datetime\u001b[0m\u001b[1;33m(\u001b[0m\u001b[0mitem\u001b[0m\u001b[1;33m,\u001b[0m \u001b[0mformat\u001b[0m\u001b[1;33m=\u001b[0m\u001b[1;34m'%Y.%m'\u001b[0m\u001b[1;33m,\u001b[0m \u001b[0merrors\u001b[0m\u001b[1;33m=\u001b[0m\u001b[1;34m'ignore'\u001b[0m\u001b[1;33m)\u001b[0m\u001b[1;33m\u001b[0m\u001b[1;33m\u001b[0m\u001b[0m\n\u001b[0;32m      8\u001b[0m         \u001b[0mnow\u001b[0m \u001b[1;33m=\u001b[0m \u001b[0mdatetime\u001b[0m\u001b[1;33m.\u001b[0m\u001b[0mdatetime\u001b[0m\u001b[1;33m.\u001b[0m\u001b[0mnow\u001b[0m\u001b[1;33m(\u001b[0m\u001b[1;33m)\u001b[0m\u001b[1;33m\u001b[0m\u001b[1;33m\u001b[0m\u001b[0m\n\u001b[1;32m----> 9\u001b[1;33m         \u001b[0md1\u001b[0m \u001b[1;33m=\u001b[0m \u001b[0mdu_parse\u001b[0m\u001b[1;33m(\u001b[0m\u001b[0mstr\u001b[0m\u001b[1;33m(\u001b[0m\u001b[0mitem\u001b[0m\u001b[1;33m)\u001b[0m\u001b[1;33m)\u001b[0m\u001b[1;33m\u001b[0m\u001b[1;33m\u001b[0m\u001b[0m\n\u001b[0m\u001b[0;32m     10\u001b[0m         \u001b[0md2\u001b[0m \u001b[1;33m=\u001b[0m \u001b[0mdu_parse\u001b[0m\u001b[1;33m(\u001b[0m\u001b[0mstr\u001b[0m\u001b[1;33m(\u001b[0m\u001b[0mnow\u001b[0m\u001b[1;33m)\u001b[0m\u001b[1;33m)\u001b[0m\u001b[1;33m\u001b[0m\u001b[1;33m\u001b[0m\u001b[0m\n\u001b[0;32m     11\u001b[0m         \u001b[0mdelta\u001b[0m \u001b[1;33m=\u001b[0m \u001b[0mrelativedelta\u001b[0m\u001b[1;33m(\u001b[0m\u001b[0md2\u001b[0m\u001b[1;33m,\u001b[0m \u001b[0md1\u001b[0m\u001b[1;33m)\u001b[0m\u001b[1;33m\u001b[0m\u001b[1;33m\u001b[0m\u001b[0m\n",
      "\u001b[1;32m~\\anaconda3\\lib\\site-packages\\dateutil\\parser\\_parser.py\u001b[0m in \u001b[0;36mparse\u001b[1;34m(timestr, parserinfo, **kwargs)\u001b[0m\n\u001b[0;32m   1372\u001b[0m         \u001b[1;32mreturn\u001b[0m \u001b[0mparser\u001b[0m\u001b[1;33m(\u001b[0m\u001b[0mparserinfo\u001b[0m\u001b[1;33m)\u001b[0m\u001b[1;33m.\u001b[0m\u001b[0mparse\u001b[0m\u001b[1;33m(\u001b[0m\u001b[0mtimestr\u001b[0m\u001b[1;33m,\u001b[0m \u001b[1;33m**\u001b[0m\u001b[0mkwargs\u001b[0m\u001b[1;33m)\u001b[0m\u001b[1;33m\u001b[0m\u001b[1;33m\u001b[0m\u001b[0m\n\u001b[0;32m   1373\u001b[0m     \u001b[1;32melse\u001b[0m\u001b[1;33m:\u001b[0m\u001b[1;33m\u001b[0m\u001b[1;33m\u001b[0m\u001b[0m\n\u001b[1;32m-> 1374\u001b[1;33m         \u001b[1;32mreturn\u001b[0m \u001b[0mDEFAULTPARSER\u001b[0m\u001b[1;33m.\u001b[0m\u001b[0mparse\u001b[0m\u001b[1;33m(\u001b[0m\u001b[0mtimestr\u001b[0m\u001b[1;33m,\u001b[0m \u001b[1;33m**\u001b[0m\u001b[0mkwargs\u001b[0m\u001b[1;33m)\u001b[0m\u001b[1;33m\u001b[0m\u001b[1;33m\u001b[0m\u001b[0m\n\u001b[0m\u001b[0;32m   1375\u001b[0m \u001b[1;33m\u001b[0m\u001b[0m\n\u001b[0;32m   1376\u001b[0m \u001b[1;33m\u001b[0m\u001b[0m\n",
      "\u001b[1;32m~\\anaconda3\\lib\\site-packages\\dateutil\\parser\\_parser.py\u001b[0m in \u001b[0;36mparse\u001b[1;34m(self, timestr, default, ignoretz, tzinfos, **kwargs)\u001b[0m\n\u001b[0;32m    647\u001b[0m \u001b[1;33m\u001b[0m\u001b[0m\n\u001b[0;32m    648\u001b[0m         \u001b[1;32mif\u001b[0m \u001b[0mres\u001b[0m \u001b[1;32mis\u001b[0m \u001b[1;32mNone\u001b[0m\u001b[1;33m:\u001b[0m\u001b[1;33m\u001b[0m\u001b[1;33m\u001b[0m\u001b[0m\n\u001b[1;32m--> 649\u001b[1;33m             \u001b[1;32mraise\u001b[0m \u001b[0mParserError\u001b[0m\u001b[1;33m(\u001b[0m\u001b[1;34m\"Unknown string format: %s\"\u001b[0m\u001b[1;33m,\u001b[0m \u001b[0mtimestr\u001b[0m\u001b[1;33m)\u001b[0m\u001b[1;33m\u001b[0m\u001b[1;33m\u001b[0m\u001b[0m\n\u001b[0m\u001b[0;32m    650\u001b[0m \u001b[1;33m\u001b[0m\u001b[0m\n\u001b[0;32m    651\u001b[0m         \u001b[1;32mif\u001b[0m \u001b[0mlen\u001b[0m\u001b[1;33m(\u001b[0m\u001b[0mres\u001b[0m\u001b[1;33m)\u001b[0m \u001b[1;33m==\u001b[0m \u001b[1;36m0\u001b[0m\u001b[1;33m:\u001b[0m\u001b[1;33m\u001b[0m\u001b[1;33m\u001b[0m\u001b[0m\n",
      "\u001b[1;31mParserError\u001b[0m: Unknown string format: 10 лет и 11 месяцев"
     ]
    }
   ],
   "source": [
    "def convert_time_delta(item):\n",
    "    year = ''\n",
    "    month =''\n",
    "    if item == 'None':\n",
    "        return('None')\n",
    "    else:\n",
    "        item = pd.to_datetime(item, format='%Y.%m', errors='ignore')\n",
    "        now = datetime.datetime.now()\n",
    "        d1 = du_parse(str(item))\n",
    "        d2 = du_parse(str(now))\n",
    "        delta = relativedelta(d2, d1)\n",
    "\n",
    "\n",
    "        if delta.years == 1:\n",
    "            year = 'год'\n",
    "        elif delta.years in [2,3,4]:\n",
    "            year = 'года'\n",
    "        else:\n",
    "            year = 'лет'\n",
    "\n",
    "\n",
    "        if delta.months == 1:\n",
    "            month = 'месяц'\n",
    "        elif delta.months in [2,3,4]:\n",
    "            month = 'месяца'\n",
    "        else:\n",
    "            month = 'месяцев'\n",
    "        delta_string = str(delta.years) + ' ' +year +' и ' + str(delta.months) + ' ' +month\n",
    "        return(delta_string)\n",
    "\n",
    "def owner_correction (item):\n",
    "    if item == 'None':\n",
    "        return('None')\n",
    "    elif item == 1 or item == '1':\n",
    "        # item = item.astype(int64)\n",
    "        owner = 'владелец'\n",
    "    # elif (item in [2,3,4]) or (item in ['2','3','4'])\n",
    "    else:\n",
    "        # item = item.astype(int64)\n",
    "        owner = 'владельца'\n",
    "    owner_string = str(item) + ' ' + owner\n",
    "    return(owner_string)\n",
    "\n",
    "color_dict = {\n",
    "    '040001':'чёрный',\n",
    "    'CACECB':'серебристый',\n",
    "    'FAFBFB':'белый',\n",
    "    '97948F':'серый',\n",
    "    '0000CC':'синий',\n",
    "    'EE1D19':'красный',\n",
    "    '007F00':'зеленый',\n",
    "    '200204':'коричневый',\n",
    "    'C49648':'бежевый',\n",
    "    '22A0F8':'голубой',\n",
    "    'DEA522':'золотистый',\n",
    "    '660099':'пурпурный',\n",
    "    '4A2197':'фиолетовый',\n",
    "    'FFD600':'жёлтый',\n",
    "    'FF8649':'оранжевый',\n",
    "    'FFC0CB':'розовый'\n",
    "}\n",
    "\n",
    "fuel_dict = {\n",
    "    'GASOLINE':'бензин',\n",
    "    'DIESEL':'дизель',\n",
    "    'ELECTRO':'электро',\n",
    "    'HYBRID':'гибрид',\n",
    "    'LPG':'газ'\n",
    "}\n",
    "\n",
    "transmission_dict = {\n",
    "    'AUTOMATIC':'автоматическая',\n",
    "    'MECHANICAL':'механическая',\n",
    "    'ROBOT':'роботизированная',\n",
    "    'VARIATOR':'вариатор'\n",
    "}\n",
    "\n",
    "privod_dict = {\n",
    "    'FORWARD_CONTROL':'передний',\n",
    "    'REAR_DRIVE':'задний',\n",
    "    'ALL_WHEEL_DRIVE':'полный'\n",
    "}\n",
    "\n",
    "stearing_wheel_dict = {\n",
    "    'LEFT':'левый',\n",
    "    'RIGHT':'правый'\n",
    "}\n",
    "\n",
    "state_dict = {\n",
    "    'True':'Не требует ремонта',\n",
    "    'False':'Битая/Не на ходу'\n",
    "}\n",
    "\n",
    "pts_dict = {\n",
    "    'ORIGINAL':'Оригинал',\n",
    "    'DUPLICATE':'Дубликат'\n",
    "}\n",
    "\n",
    "legal_dict = {\n",
    "    'True':'Растаможен',\n",
    "    'False':'Не растаможен'\n",
    "}\n",
    "\n",
    "df_auto['color'] = df_auto['color'].replace(to_replace=color_dict)    \n",
    "df_auto['modelDate'] = df_auto['modelDate'].astype(np.float64)\n",
    "df_auto['mileage'] = df_auto['mileage'].astype(np.float64)\n",
    "df_auto['numberOfDoors'] = df_auto['numberOfDoors'].astype(np.float64)\n",
    "df_auto['fuelType'] = df_auto['fuelType'].replace(to_replace=fuel_dict)   \n",
    "df_auto['vehicleTransmission'] = df_auto['vehicleTransmission'].replace(to_replace=transmission_dict)\n",
    "df_auto['Привод'] = df_auto['Привод'].replace(to_replace=privod_dict)\n",
    "df_auto['Руль'] = df_auto['Руль'].replace(to_replace=stearing_wheel_dict)\n",
    "df_auto['Состояние'] = df_auto['Состояние'].astype(str)             \n",
    "df_auto['Состояние'] = df_auto['Состояние'].replace(to_replace=state_dict)\n",
    "df_auto['ПТС'] = df_auto['ПТС'].replace(to_replace=pts_dict)\n",
    "df_auto['Таможня'] = df_auto['Таможня'].astype(str)\n",
    "df_auto['Таможня'] = df_auto['Таможня'].replace(to_replace=legal_dict)\n",
    "df_auto['Владение'] = df_auto['Владение'].apply(convert_time_delta)\n",
    "df_auto['Владельцы'] = df_auto['Владельцы'].apply(owner_correction)"
   ]
  },
  {
   "cell_type": "code",
   "execution_count": 9,
   "metadata": {},
   "outputs": [
    {
     "data": {
      "text/plain": [
       "(4407, 23)"
      ]
     },
     "execution_count": 9,
     "metadata": {},
     "output_type": "execute_result"
    }
   ],
   "source": [
    "df_auto.shape"
   ]
  },
  {
   "cell_type": "code",
   "execution_count": 10,
   "metadata": {},
   "outputs": [],
   "source": [
    "df_new = df_auto.drop_duplicates(keep = 'first')\n",
    "df_new = df_new.reset_index()\n",
    "df_new = df_new.drop(['index'], axis = 1)\n",
    "df_new['id'] = df_new.index \n",
    "\n"
   ]
  },
  {
   "cell_type": "code",
   "execution_count": 11,
   "metadata": {},
   "outputs": [
    {
     "data": {
      "text/plain": [
       "(4407, 23)"
      ]
     },
     "execution_count": 11,
     "metadata": {},
     "output_type": "execute_result"
    }
   ],
   "source": [
    "df_auto.shape"
   ]
  },
  {
   "cell_type": "code",
   "execution_count": 14,
   "metadata": {},
   "outputs": [],
   "source": [
    "# df_new.to_csv('auto_ready.csv', sep = ';')\n",
    "df_new.to_csv('BMW_ready.csv', sep = ';')"
   ]
  },
  {
   "cell_type": "code",
   "execution_count": 18,
   "metadata": {},
   "outputs": [
    {
     "ename": "FileNotFoundError",
     "evalue": "[Errno 2] File Save_auto.txt does not exist: 'Save_auto.txt'",
     "output_type": "error",
     "traceback": [
      "\u001b[1;31m---------------------------------------------------------------------------\u001b[0m",
      "\u001b[1;31mFileNotFoundError\u001b[0m                         Traceback (most recent call last)",
      "\u001b[1;32m<ipython-input-18-1f0144a39399>\u001b[0m in \u001b[0;36m<module>\u001b[1;34m\u001b[0m\n\u001b[1;32m----> 1\u001b[1;33m \u001b[0mdf_auto\u001b[0m \u001b[1;33m=\u001b[0m \u001b[0mpd\u001b[0m\u001b[1;33m.\u001b[0m\u001b[0mread_csv\u001b[0m\u001b[1;33m(\u001b[0m\u001b[1;34m'Save_auto.txt'\u001b[0m\u001b[1;33m,\u001b[0m \u001b[0mheader\u001b[0m \u001b[1;33m=\u001b[0m \u001b[1;32mNone\u001b[0m\u001b[1;33m,\u001b[0m \u001b[0msep\u001b[0m \u001b[1;33m=\u001b[0m \u001b[1;34m';'\u001b[0m\u001b[1;33m)\u001b[0m\u001b[1;33m\u001b[0m\u001b[1;33m\u001b[0m\u001b[0m\n\u001b[0m",
      "\u001b[1;32m~\\Anaconda3\\lib\\site-packages\\pandas\\io\\parsers.py\u001b[0m in \u001b[0;36mparser_f\u001b[1;34m(filepath_or_buffer, sep, delimiter, header, names, index_col, usecols, squeeze, prefix, mangle_dupe_cols, dtype, engine, converters, true_values, false_values, skipinitialspace, skiprows, skipfooter, nrows, na_values, keep_default_na, na_filter, verbose, skip_blank_lines, parse_dates, infer_datetime_format, keep_date_col, date_parser, dayfirst, cache_dates, iterator, chunksize, compression, thousands, decimal, lineterminator, quotechar, quoting, doublequote, escapechar, comment, encoding, dialect, error_bad_lines, warn_bad_lines, delim_whitespace, low_memory, memory_map, float_precision)\u001b[0m\n\u001b[0;32m    674\u001b[0m         )\n\u001b[0;32m    675\u001b[0m \u001b[1;33m\u001b[0m\u001b[0m\n\u001b[1;32m--> 676\u001b[1;33m         \u001b[1;32mreturn\u001b[0m \u001b[0m_read\u001b[0m\u001b[1;33m(\u001b[0m\u001b[0mfilepath_or_buffer\u001b[0m\u001b[1;33m,\u001b[0m \u001b[0mkwds\u001b[0m\u001b[1;33m)\u001b[0m\u001b[1;33m\u001b[0m\u001b[1;33m\u001b[0m\u001b[0m\n\u001b[0m\u001b[0;32m    677\u001b[0m \u001b[1;33m\u001b[0m\u001b[0m\n\u001b[0;32m    678\u001b[0m     \u001b[0mparser_f\u001b[0m\u001b[1;33m.\u001b[0m\u001b[0m__name__\u001b[0m \u001b[1;33m=\u001b[0m \u001b[0mname\u001b[0m\u001b[1;33m\u001b[0m\u001b[1;33m\u001b[0m\u001b[0m\n",
      "\u001b[1;32m~\\Anaconda3\\lib\\site-packages\\pandas\\io\\parsers.py\u001b[0m in \u001b[0;36m_read\u001b[1;34m(filepath_or_buffer, kwds)\u001b[0m\n\u001b[0;32m    446\u001b[0m \u001b[1;33m\u001b[0m\u001b[0m\n\u001b[0;32m    447\u001b[0m     \u001b[1;31m# Create the parser.\u001b[0m\u001b[1;33m\u001b[0m\u001b[1;33m\u001b[0m\u001b[1;33m\u001b[0m\u001b[0m\n\u001b[1;32m--> 448\u001b[1;33m     \u001b[0mparser\u001b[0m \u001b[1;33m=\u001b[0m \u001b[0mTextFileReader\u001b[0m\u001b[1;33m(\u001b[0m\u001b[0mfp_or_buf\u001b[0m\u001b[1;33m,\u001b[0m \u001b[1;33m**\u001b[0m\u001b[0mkwds\u001b[0m\u001b[1;33m)\u001b[0m\u001b[1;33m\u001b[0m\u001b[1;33m\u001b[0m\u001b[0m\n\u001b[0m\u001b[0;32m    449\u001b[0m \u001b[1;33m\u001b[0m\u001b[0m\n\u001b[0;32m    450\u001b[0m     \u001b[1;32mif\u001b[0m \u001b[0mchunksize\u001b[0m \u001b[1;32mor\u001b[0m \u001b[0miterator\u001b[0m\u001b[1;33m:\u001b[0m\u001b[1;33m\u001b[0m\u001b[1;33m\u001b[0m\u001b[0m\n",
      "\u001b[1;32m~\\Anaconda3\\lib\\site-packages\\pandas\\io\\parsers.py\u001b[0m in \u001b[0;36m__init__\u001b[1;34m(self, f, engine, **kwds)\u001b[0m\n\u001b[0;32m    878\u001b[0m             \u001b[0mself\u001b[0m\u001b[1;33m.\u001b[0m\u001b[0moptions\u001b[0m\u001b[1;33m[\u001b[0m\u001b[1;34m\"has_index_names\"\u001b[0m\u001b[1;33m]\u001b[0m \u001b[1;33m=\u001b[0m \u001b[0mkwds\u001b[0m\u001b[1;33m[\u001b[0m\u001b[1;34m\"has_index_names\"\u001b[0m\u001b[1;33m]\u001b[0m\u001b[1;33m\u001b[0m\u001b[1;33m\u001b[0m\u001b[0m\n\u001b[0;32m    879\u001b[0m \u001b[1;33m\u001b[0m\u001b[0m\n\u001b[1;32m--> 880\u001b[1;33m         \u001b[0mself\u001b[0m\u001b[1;33m.\u001b[0m\u001b[0m_make_engine\u001b[0m\u001b[1;33m(\u001b[0m\u001b[0mself\u001b[0m\u001b[1;33m.\u001b[0m\u001b[0mengine\u001b[0m\u001b[1;33m)\u001b[0m\u001b[1;33m\u001b[0m\u001b[1;33m\u001b[0m\u001b[0m\n\u001b[0m\u001b[0;32m    881\u001b[0m \u001b[1;33m\u001b[0m\u001b[0m\n\u001b[0;32m    882\u001b[0m     \u001b[1;32mdef\u001b[0m \u001b[0mclose\u001b[0m\u001b[1;33m(\u001b[0m\u001b[0mself\u001b[0m\u001b[1;33m)\u001b[0m\u001b[1;33m:\u001b[0m\u001b[1;33m\u001b[0m\u001b[1;33m\u001b[0m\u001b[0m\n",
      "\u001b[1;32m~\\Anaconda3\\lib\\site-packages\\pandas\\io\\parsers.py\u001b[0m in \u001b[0;36m_make_engine\u001b[1;34m(self, engine)\u001b[0m\n\u001b[0;32m   1112\u001b[0m     \u001b[1;32mdef\u001b[0m \u001b[0m_make_engine\u001b[0m\u001b[1;33m(\u001b[0m\u001b[0mself\u001b[0m\u001b[1;33m,\u001b[0m \u001b[0mengine\u001b[0m\u001b[1;33m=\u001b[0m\u001b[1;34m\"c\"\u001b[0m\u001b[1;33m)\u001b[0m\u001b[1;33m:\u001b[0m\u001b[1;33m\u001b[0m\u001b[1;33m\u001b[0m\u001b[0m\n\u001b[0;32m   1113\u001b[0m         \u001b[1;32mif\u001b[0m \u001b[0mengine\u001b[0m \u001b[1;33m==\u001b[0m \u001b[1;34m\"c\"\u001b[0m\u001b[1;33m:\u001b[0m\u001b[1;33m\u001b[0m\u001b[1;33m\u001b[0m\u001b[0m\n\u001b[1;32m-> 1114\u001b[1;33m             \u001b[0mself\u001b[0m\u001b[1;33m.\u001b[0m\u001b[0m_engine\u001b[0m \u001b[1;33m=\u001b[0m \u001b[0mCParserWrapper\u001b[0m\u001b[1;33m(\u001b[0m\u001b[0mself\u001b[0m\u001b[1;33m.\u001b[0m\u001b[0mf\u001b[0m\u001b[1;33m,\u001b[0m \u001b[1;33m**\u001b[0m\u001b[0mself\u001b[0m\u001b[1;33m.\u001b[0m\u001b[0moptions\u001b[0m\u001b[1;33m)\u001b[0m\u001b[1;33m\u001b[0m\u001b[1;33m\u001b[0m\u001b[0m\n\u001b[0m\u001b[0;32m   1115\u001b[0m         \u001b[1;32melse\u001b[0m\u001b[1;33m:\u001b[0m\u001b[1;33m\u001b[0m\u001b[1;33m\u001b[0m\u001b[0m\n\u001b[0;32m   1116\u001b[0m             \u001b[1;32mif\u001b[0m \u001b[0mengine\u001b[0m \u001b[1;33m==\u001b[0m \u001b[1;34m\"python\"\u001b[0m\u001b[1;33m:\u001b[0m\u001b[1;33m\u001b[0m\u001b[1;33m\u001b[0m\u001b[0m\n",
      "\u001b[1;32m~\\Anaconda3\\lib\\site-packages\\pandas\\io\\parsers.py\u001b[0m in \u001b[0;36m__init__\u001b[1;34m(self, src, **kwds)\u001b[0m\n\u001b[0;32m   1889\u001b[0m         \u001b[0mkwds\u001b[0m\u001b[1;33m[\u001b[0m\u001b[1;34m\"usecols\"\u001b[0m\u001b[1;33m]\u001b[0m \u001b[1;33m=\u001b[0m \u001b[0mself\u001b[0m\u001b[1;33m.\u001b[0m\u001b[0musecols\u001b[0m\u001b[1;33m\u001b[0m\u001b[1;33m\u001b[0m\u001b[0m\n\u001b[0;32m   1890\u001b[0m \u001b[1;33m\u001b[0m\u001b[0m\n\u001b[1;32m-> 1891\u001b[1;33m         \u001b[0mself\u001b[0m\u001b[1;33m.\u001b[0m\u001b[0m_reader\u001b[0m \u001b[1;33m=\u001b[0m \u001b[0mparsers\u001b[0m\u001b[1;33m.\u001b[0m\u001b[0mTextReader\u001b[0m\u001b[1;33m(\u001b[0m\u001b[0msrc\u001b[0m\u001b[1;33m,\u001b[0m \u001b[1;33m**\u001b[0m\u001b[0mkwds\u001b[0m\u001b[1;33m)\u001b[0m\u001b[1;33m\u001b[0m\u001b[1;33m\u001b[0m\u001b[0m\n\u001b[0m\u001b[0;32m   1892\u001b[0m         \u001b[0mself\u001b[0m\u001b[1;33m.\u001b[0m\u001b[0munnamed_cols\u001b[0m \u001b[1;33m=\u001b[0m \u001b[0mself\u001b[0m\u001b[1;33m.\u001b[0m\u001b[0m_reader\u001b[0m\u001b[1;33m.\u001b[0m\u001b[0munnamed_cols\u001b[0m\u001b[1;33m\u001b[0m\u001b[1;33m\u001b[0m\u001b[0m\n\u001b[0;32m   1893\u001b[0m \u001b[1;33m\u001b[0m\u001b[0m\n",
      "\u001b[1;32mpandas\\_libs\\parsers.pyx\u001b[0m in \u001b[0;36mpandas._libs.parsers.TextReader.__cinit__\u001b[1;34m()\u001b[0m\n",
      "\u001b[1;32mpandas\\_libs\\parsers.pyx\u001b[0m in \u001b[0;36mpandas._libs.parsers.TextReader._setup_parser_source\u001b[1;34m()\u001b[0m\n",
      "\u001b[1;31mFileNotFoundError\u001b[0m: [Errno 2] File Save_auto.txt does not exist: 'Save_auto.txt'"
     ]
    }
   ],
   "source": [
    "df_auto = pd.read_csv('Save_auto.txt', header = None, sep = ';')"
   ]
  },
  {
   "cell_type": "code",
   "execution_count": 19,
   "metadata": {},
   "outputs": [],
   "source": [
    "df_auto1.columns = columns"
   ]
  },
  {
   "cell_type": "code",
   "execution_count": 20,
   "metadata": {},
   "outputs": [
    {
     "data": {
      "text/plain": [
       "(3703, 23)"
      ]
     },
     "execution_count": 20,
     "metadata": {},
     "output_type": "execute_result"
    }
   ],
   "source": [
    "df_auto.shape"
   ]
  },
  {
   "cell_type": "code",
   "execution_count": 15,
   "metadata": {},
   "outputs": [],
   "source": [
    "#Присоединяем к большому файлу\n",
    "df_all = pd.read_csv('auto_ready.csv', sep = ';')"
   ]
  },
  {
   "cell_type": "code",
   "execution_count": 16,
   "metadata": {},
   "outputs": [
    {
     "data": {
      "text/html": [
       "<div>\n",
       "<style scoped>\n",
       "    .dataframe tbody tr th:only-of-type {\n",
       "        vertical-align: middle;\n",
       "    }\n",
       "\n",
       "    .dataframe tbody tr th {\n",
       "        vertical-align: top;\n",
       "    }\n",
       "\n",
       "    .dataframe thead th {\n",
       "        text-align: right;\n",
       "    }\n",
       "</style>\n",
       "<table border=\"1\" class=\"dataframe\">\n",
       "  <thead>\n",
       "    <tr style=\"text-align: right;\">\n",
       "      <th></th>\n",
       "      <th>bodyType</th>\n",
       "      <th>brand</th>\n",
       "      <th>color</th>\n",
       "      <th>fuelType</th>\n",
       "      <th>modelDate</th>\n",
       "      <th>name</th>\n",
       "      <th>numberOfDoors</th>\n",
       "      <th>productionDate</th>\n",
       "      <th>vehicleConfiguration</th>\n",
       "      <th>vehicleTransmission</th>\n",
       "      <th>engineDisplacement</th>\n",
       "      <th>enginePower</th>\n",
       "      <th>description</th>\n",
       "      <th>mileage</th>\n",
       "      <th>Комплектация</th>\n",
       "      <th>Привод</th>\n",
       "      <th>Руль</th>\n",
       "      <th>Состояние</th>\n",
       "      <th>Владельцы</th>\n",
       "      <th>ПТС</th>\n",
       "      <th>Таможня</th>\n",
       "      <th>Владение</th>\n",
       "      <th>Цена</th>\n",
       "    </tr>\n",
       "  </thead>\n",
       "  <tbody>\n",
       "    <tr>\n",
       "      <th>0</th>\n",
       "      <td>Седан</td>\n",
       "      <td>LADA (ВАЗ)</td>\n",
       "      <td>зеленый</td>\n",
       "      <td>бенизин</td>\n",
       "      <td>1997.0</td>\n",
       "      <td>1.5 MT (78 л.с.)</td>\n",
       "      <td>4.0</td>\n",
       "      <td>2006</td>\n",
       "      <td>SEDAN MECHANICAL 1.5</td>\n",
       "      <td>механическая</td>\n",
       "      <td>1.5 LTR</td>\n",
       "      <td>78 N12</td>\n",
       "      <td>Для своих лет авто в хорошем состоянии  За чет...</td>\n",
       "      <td>253000.0</td>\n",
       "      <td>None</td>\n",
       "      <td>передний</td>\n",
       "      <td>левый</td>\n",
       "      <td>Не требует ремонта</td>\n",
       "      <td>3</td>\n",
       "      <td>Оригинал</td>\n",
       "      <td>Растаможен</td>\n",
       "      <td>4 года и 2 месяца</td>\n",
       "      <td>100000</td>\n",
       "    </tr>\n",
       "    <tr>\n",
       "      <th>1</th>\n",
       "      <td>Хэтчбек 5 дв.</td>\n",
       "      <td>Ford</td>\n",
       "      <td>белый</td>\n",
       "      <td>бенизин</td>\n",
       "      <td>2014.0</td>\n",
       "      <td>1.6 AMT (125 л.с.)</td>\n",
       "      <td>5.0</td>\n",
       "      <td>2017</td>\n",
       "      <td>HATCHBACK_5_DOORS ROBOT 1.6</td>\n",
       "      <td>роботизированная</td>\n",
       "      <td>1.6 LTR</td>\n",
       "      <td>125 N12</td>\n",
       "      <td>Приобретался в салоне официального дилера в 20...</td>\n",
       "      <td>43000.0</td>\n",
       "      <td>['multi-wheel', 'heated-wash-system', 'airbag-...</td>\n",
       "      <td>передний</td>\n",
       "      <td>левый</td>\n",
       "      <td>Не требует ремонта</td>\n",
       "      <td>1</td>\n",
       "      <td>Оригинал</td>\n",
       "      <td>Растаможен</td>\n",
       "      <td>2 года и 10 месяцев</td>\n",
       "      <td>680000</td>\n",
       "    </tr>\n",
       "    <tr>\n",
       "      <th>2</th>\n",
       "      <td>Компактвэн</td>\n",
       "      <td>Fiat</td>\n",
       "      <td>белый</td>\n",
       "      <td>дизель</td>\n",
       "      <td>2005.0</td>\n",
       "      <td>1.3d MT (75 л.с.)</td>\n",
       "      <td>5.0</td>\n",
       "      <td>2008</td>\n",
       "      <td>MINIVAN MECHANICAL 1.2</td>\n",
       "      <td>механическая</td>\n",
       "      <td>1.2 LTR</td>\n",
       "      <td>75 N12</td>\n",
       "      <td>Состояние не требует вложений  Очень хороший п...</td>\n",
       "      <td>230000.0</td>\n",
       "      <td>None</td>\n",
       "      <td>передний</td>\n",
       "      <td>левый</td>\n",
       "      <td>Не требует ремонта</td>\n",
       "      <td>3</td>\n",
       "      <td>Оригинал</td>\n",
       "      <td>Растаможен</td>\n",
       "      <td>2 года и 1 месяц</td>\n",
       "      <td>265000</td>\n",
       "    </tr>\n",
       "  </tbody>\n",
       "</table>\n",
       "</div>"
      ],
      "text/plain": [
       "        bodyType       brand    color fuelType  modelDate                name  \\\n",
       "0          Седан  LADA (ВАЗ)  зеленый  бенизин     1997.0    1.5 MT (78 л.с.)   \n",
       "1  Хэтчбек 5 дв.        Ford    белый  бенизин     2014.0  1.6 AMT (125 л.с.)   \n",
       "2     Компактвэн        Fiat    белый   дизель     2005.0   1.3d MT (75 л.с.)   \n",
       "\n",
       "   numberOfDoors  productionDate         vehicleConfiguration  \\\n",
       "0            4.0            2006         SEDAN MECHANICAL 1.5   \n",
       "1            5.0            2017  HATCHBACK_5_DOORS ROBOT 1.6   \n",
       "2            5.0            2008       MINIVAN MECHANICAL 1.2   \n",
       "\n",
       "  vehicleTransmission engineDisplacement enginePower  \\\n",
       "0        механическая            1.5 LTR      78 N12   \n",
       "1    роботизированная            1.6 LTR     125 N12   \n",
       "2        механическая            1.2 LTR      75 N12   \n",
       "\n",
       "                                         description   mileage  \\\n",
       "0  Для своих лет авто в хорошем состоянии  За чет...  253000.0   \n",
       "1  Приобретался в салоне официального дилера в 20...   43000.0   \n",
       "2  Состояние не требует вложений  Очень хороший п...  230000.0   \n",
       "\n",
       "                                        Комплектация    Привод   Руль  \\\n",
       "0                                               None  передний  левый   \n",
       "1  ['multi-wheel', 'heated-wash-system', 'airbag-...  передний  левый   \n",
       "2                                               None  передний  левый   \n",
       "\n",
       "            Состояние Владельцы       ПТС     Таможня             Владение  \\\n",
       "0  Не требует ремонта         3  Оригинал  Растаможен    4 года и 2 месяца   \n",
       "1  Не требует ремонта         1  Оригинал  Растаможен  2 года и 10 месяцев   \n",
       "2  Не требует ремонта         3  Оригинал  Растаможен     2 года и 1 месяц   \n",
       "\n",
       "     Цена  \n",
       "0  100000  \n",
       "1  680000  \n",
       "2  265000  "
      ]
     },
     "execution_count": 16,
     "metadata": {},
     "output_type": "execute_result"
    }
   ],
   "source": [
    "df_all = df_all.drop(['Unnamed: 0'], axis = 1)\n",
    "df_all.head(3)"
   ]
  },
  {
   "cell_type": "code",
   "execution_count": 15,
   "metadata": {},
   "outputs": [
    {
     "data": {
      "text/plain": [
       "(9219, 23)"
      ]
     },
     "execution_count": 15,
     "metadata": {},
     "output_type": "execute_result"
    }
   ],
   "source": [
    "df_all.shape"
   ]
  },
  {
   "cell_type": "code",
   "execution_count": 17,
   "metadata": {},
   "outputs": [],
   "source": [
    "df_all = df_all.append(df_new, ignore_index = True)"
   ]
  },
  {
   "cell_type": "code",
   "execution_count": 18,
   "metadata": {},
   "outputs": [
    {
     "data": {
      "text/plain": [
       "(16995, 23)"
      ]
     },
     "execution_count": 18,
     "metadata": {},
     "output_type": "execute_result"
    }
   ],
   "source": [
    "df_all.shape"
   ]
  },
  {
   "cell_type": "code",
   "execution_count": 19,
   "metadata": {},
   "outputs": [],
   "source": [
    "df_all = df_all.drop_duplicates(keep = 'first')"
   ]
  },
  {
   "cell_type": "code",
   "execution_count": 20,
   "metadata": {},
   "outputs": [
    {
     "data": {
      "text/plain": [
       "(13982, 23)"
      ]
     },
     "execution_count": 20,
     "metadata": {},
     "output_type": "execute_result"
    }
   ],
   "source": [
    "df_all.shape"
   ]
  },
  {
   "cell_type": "code",
   "execution_count": 21,
   "metadata": {},
   "outputs": [],
   "source": [
    "df_all.to_csv('auto_ready.csv', sep = ';')"
   ]
  },
  {
   "cell_type": "markdown",
   "metadata": {},
   "source": [
    "# Новый файл (с выборкой по годам)"
   ]
  },
  {
   "cell_type": "code",
   "execution_count": 35,
   "metadata": {},
   "outputs": [],
   "source": [
    "import pandas as pd\n",
    "import numpy as np\n",
    "import datetime\n",
    "from dateutil.parser import parse as du_parse\n",
    "from dateutil.relativedelta import relativedelta\n",
    "pd.set_option('display.max_rows', 60)\n",
    "pd.set_option('display.max_columns', 100)\n",
    "\n",
    "# columns = ['bodyType','brand','color','fuelType','modelDate','name','numberOfDoors','productionDate','vehicleConfiguration','vehicleTransmission','engineDisplacement','enginePower','description','mileage','Комплектация','Привод','Руль','Состояние','Владельцы','ПТС','Таможня','Владение', 'Цена']\n",
    "\n",
    "# df_auto.columns = columns\n",
    "# df_auto.tail(3)"
   ]
  },
  {
   "cell_type": "code",
   "execution_count": 36,
   "metadata": {},
   "outputs": [],
   "source": [
    "df_auto_ready = pd.read_csv('C:/Users/Mangol/Notebooks/DataScience-Practice/Profitable choosing car/Parsers/BMW_train_19082020.csv', sep = ';')"
   ]
  },
  {
   "cell_type": "code",
   "execution_count": 37,
   "metadata": {},
   "outputs": [
    {
     "data": {
      "text/plain": [
       "(34511, 25)"
      ]
     },
     "execution_count": 37,
     "metadata": {},
     "output_type": "execute_result"
    }
   ],
   "source": [
    "df_auto_ready.shape"
   ]
  },
  {
   "cell_type": "code",
   "execution_count": 39,
   "metadata": {},
   "outputs": [],
   "source": [
    "df_auto = pd.read_csv('C:/Users/Mangol/Notebooks/DataScience-Practice/Profitable choosing car/Parsers/Save_all_bmw_auto_270820.txt', header = None, sep = ';')\n",
    "df_auto1 = pd.read_csv('C:/Users/Mangol/Notebooks/DataScience-Practice/Profitable choosing car/Parsers/Save_all_bmw_auto_260820_2.txt', header = None, sep = ';')"
   ]
  },
  {
   "cell_type": "code",
   "execution_count": 40,
   "metadata": {},
   "outputs": [
    {
     "data": {
      "text/plain": [
       "(78084, 23)"
      ]
     },
     "execution_count": 40,
     "metadata": {},
     "output_type": "execute_result"
    }
   ],
   "source": [
    "df_auto.shape"
   ]
  },
  {
   "cell_type": "code",
   "execution_count": 41,
   "metadata": {},
   "outputs": [
    {
     "ename": "ValueError",
     "evalue": "Length mismatch: Expected axis has 25 elements, new values have 23 elements",
     "output_type": "error",
     "traceback": [
      "\u001b[1;31m---------------------------------------------------------------------------\u001b[0m",
      "\u001b[1;31mValueError\u001b[0m                                Traceback (most recent call last)",
      "\u001b[1;32m<ipython-input-41-5ec30186b6ee>\u001b[0m in \u001b[0;36m<module>\u001b[1;34m\u001b[0m\n\u001b[0;32m      1\u001b[0m \u001b[0mdf_auto\u001b[0m\u001b[1;33m.\u001b[0m\u001b[0mcolumns\u001b[0m \u001b[1;33m=\u001b[0m \u001b[0mcolumns\u001b[0m\u001b[1;33m\u001b[0m\u001b[1;33m\u001b[0m\u001b[0m\n\u001b[1;32m----> 2\u001b[1;33m \u001b[0mdf_auto_ready\u001b[0m\u001b[1;33m.\u001b[0m\u001b[0mcolumns\u001b[0m \u001b[1;33m=\u001b[0m \u001b[0mcolumns\u001b[0m\u001b[1;33m\u001b[0m\u001b[1;33m\u001b[0m\u001b[0m\n\u001b[0m",
      "\u001b[1;32m~\\anaconda3\\lib\\site-packages\\pandas\\core\\generic.py\u001b[0m in \u001b[0;36m__setattr__\u001b[1;34m(self, name, value)\u001b[0m\n\u001b[0;32m   5141\u001b[0m         \u001b[1;32mtry\u001b[0m\u001b[1;33m:\u001b[0m\u001b[1;33m\u001b[0m\u001b[1;33m\u001b[0m\u001b[0m\n\u001b[0;32m   5142\u001b[0m             \u001b[0mobject\u001b[0m\u001b[1;33m.\u001b[0m\u001b[0m__getattribute__\u001b[0m\u001b[1;33m(\u001b[0m\u001b[0mself\u001b[0m\u001b[1;33m,\u001b[0m \u001b[0mname\u001b[0m\u001b[1;33m)\u001b[0m\u001b[1;33m\u001b[0m\u001b[1;33m\u001b[0m\u001b[0m\n\u001b[1;32m-> 5143\u001b[1;33m             \u001b[1;32mreturn\u001b[0m \u001b[0mobject\u001b[0m\u001b[1;33m.\u001b[0m\u001b[0m__setattr__\u001b[0m\u001b[1;33m(\u001b[0m\u001b[0mself\u001b[0m\u001b[1;33m,\u001b[0m \u001b[0mname\u001b[0m\u001b[1;33m,\u001b[0m \u001b[0mvalue\u001b[0m\u001b[1;33m)\u001b[0m\u001b[1;33m\u001b[0m\u001b[1;33m\u001b[0m\u001b[0m\n\u001b[0m\u001b[0;32m   5144\u001b[0m         \u001b[1;32mexcept\u001b[0m \u001b[0mAttributeError\u001b[0m\u001b[1;33m:\u001b[0m\u001b[1;33m\u001b[0m\u001b[1;33m\u001b[0m\u001b[0m\n\u001b[0;32m   5145\u001b[0m             \u001b[1;32mpass\u001b[0m\u001b[1;33m\u001b[0m\u001b[1;33m\u001b[0m\u001b[0m\n",
      "\u001b[1;32mpandas\\_libs\\properties.pyx\u001b[0m in \u001b[0;36mpandas._libs.properties.AxisProperty.__set__\u001b[1;34m()\u001b[0m\n",
      "\u001b[1;32m~\\anaconda3\\lib\\site-packages\\pandas\\core\\generic.py\u001b[0m in \u001b[0;36m_set_axis\u001b[1;34m(self, axis, labels)\u001b[0m\n\u001b[0;32m    562\u001b[0m     \u001b[1;32mdef\u001b[0m \u001b[0m_set_axis\u001b[0m\u001b[1;33m(\u001b[0m\u001b[0mself\u001b[0m\u001b[1;33m,\u001b[0m \u001b[0maxis\u001b[0m\u001b[1;33m:\u001b[0m \u001b[0mint\u001b[0m\u001b[1;33m,\u001b[0m \u001b[0mlabels\u001b[0m\u001b[1;33m:\u001b[0m \u001b[0mIndex\u001b[0m\u001b[1;33m)\u001b[0m \u001b[1;33m->\u001b[0m \u001b[1;32mNone\u001b[0m\u001b[1;33m:\u001b[0m\u001b[1;33m\u001b[0m\u001b[1;33m\u001b[0m\u001b[0m\n\u001b[0;32m    563\u001b[0m         \u001b[0mlabels\u001b[0m \u001b[1;33m=\u001b[0m \u001b[0mensure_index\u001b[0m\u001b[1;33m(\u001b[0m\u001b[0mlabels\u001b[0m\u001b[1;33m)\u001b[0m\u001b[1;33m\u001b[0m\u001b[1;33m\u001b[0m\u001b[0m\n\u001b[1;32m--> 564\u001b[1;33m         \u001b[0mself\u001b[0m\u001b[1;33m.\u001b[0m\u001b[0m_mgr\u001b[0m\u001b[1;33m.\u001b[0m\u001b[0mset_axis\u001b[0m\u001b[1;33m(\u001b[0m\u001b[0maxis\u001b[0m\u001b[1;33m,\u001b[0m \u001b[0mlabels\u001b[0m\u001b[1;33m)\u001b[0m\u001b[1;33m\u001b[0m\u001b[1;33m\u001b[0m\u001b[0m\n\u001b[0m\u001b[0;32m    565\u001b[0m         \u001b[0mself\u001b[0m\u001b[1;33m.\u001b[0m\u001b[0m_clear_item_cache\u001b[0m\u001b[1;33m(\u001b[0m\u001b[1;33m)\u001b[0m\u001b[1;33m\u001b[0m\u001b[1;33m\u001b[0m\u001b[0m\n\u001b[0;32m    566\u001b[0m \u001b[1;33m\u001b[0m\u001b[0m\n",
      "\u001b[1;32m~\\anaconda3\\lib\\site-packages\\pandas\\core\\internals\\managers.py\u001b[0m in \u001b[0;36mset_axis\u001b[1;34m(self, axis, new_labels)\u001b[0m\n\u001b[0;32m    214\u001b[0m \u001b[1;33m\u001b[0m\u001b[0m\n\u001b[0;32m    215\u001b[0m         \u001b[1;32mif\u001b[0m \u001b[0mnew_len\u001b[0m \u001b[1;33m!=\u001b[0m \u001b[0mold_len\u001b[0m\u001b[1;33m:\u001b[0m\u001b[1;33m\u001b[0m\u001b[1;33m\u001b[0m\u001b[0m\n\u001b[1;32m--> 216\u001b[1;33m             raise ValueError(\n\u001b[0m\u001b[0;32m    217\u001b[0m                 \u001b[1;34mf\"Length mismatch: Expected axis has {old_len} elements, new \"\u001b[0m\u001b[1;33m\u001b[0m\u001b[1;33m\u001b[0m\u001b[0m\n\u001b[0;32m    218\u001b[0m                 \u001b[1;34mf\"values have {new_len} elements\"\u001b[0m\u001b[1;33m\u001b[0m\u001b[1;33m\u001b[0m\u001b[0m\n",
      "\u001b[1;31mValueError\u001b[0m: Length mismatch: Expected axis has 25 elements, new values have 23 elements"
     ]
    }
   ],
   "source": [
    "df_auto.columns = columns\n",
    "df_auto_ready.columns = columns"
   ]
  },
  {
   "cell_type": "code",
   "execution_count": 83,
   "metadata": {},
   "outputs": [],
   "source": [
    "def convert_time_delta(item):\n",
    "    year = ''\n",
    "    month =''\n",
    "    if item == 'None':\n",
    "        return('None')\n",
    "    else:\n",
    "        item = pd.to_datetime(item, format='%Y.%m', errors='ignore')\n",
    "        now = datetime.datetime.now()\n",
    "        d1 = du_parse(str(item))\n",
    "        d2 = du_parse(str(now))\n",
    "        delta = relativedelta(d2, d1)\n",
    "\n",
    "\n",
    "        if delta.years == 1:\n",
    "            year = 'год'\n",
    "        elif delta.years in [2,3,4]:\n",
    "            year = 'года'\n",
    "        else:\n",
    "            year = 'лет'\n",
    "\n",
    "\n",
    "        if delta.months == 1:\n",
    "            month = 'месяц'\n",
    "        elif delta.months in [2,3,4]:\n",
    "            month = 'месяца'\n",
    "        else:\n",
    "            month = 'месяцев'\n",
    "        delta_string = str(delta.years) + ' ' +year +' и ' + str(delta.months) + ' ' +month\n",
    "        return(delta_string)\n",
    "\n",
    "def model_date_correction (item):\n",
    "    if item == 'None':\n",
    "        return('0')\n",
    "    else:\n",
    "        return(item)\n",
    "\n",
    "def number_doors_correction (item):\n",
    "    if item == 'None':\n",
    "        return('0')\n",
    "    else:\n",
    "        return(item)\n",
    "\n",
    "color_dict = {\n",
    "    '040001':'чёрный',\n",
    "    'CACECB':'серебристый',\n",
    "    'FAFBFB':'белый',\n",
    "    '97948F':'серый',\n",
    "    '0000CC':'синий',\n",
    "    'EE1D19':'красный',\n",
    "    '007F00':'зеленый',\n",
    "    '200204':'коричневый',\n",
    "    'C49648':'бежевый',\n",
    "    '22A0F8':'голубой',\n",
    "    'DEA522':'золотистый',\n",
    "    '660099':'пурпурный',\n",
    "    '4A2197':'фиолетовый',\n",
    "    'FFD600':'жёлтый',\n",
    "    'FF8649':'оранжевый',\n",
    "    'FFC0CB':'розовый'\n",
    "}\n",
    "\n",
    "fuel_dict = {\n",
    "    'GASOLINE':'бензин',\n",
    "    'DIESEL':'дизель',\n",
    "    'ELECTRO':'электро',\n",
    "    'HYBRID':'гибрид',\n",
    "    'LPG':'газ'\n",
    "}\n",
    "\n",
    "transmission_dict = {\n",
    "    'AUTOMATIC':'автоматическая',\n",
    "    'MECHANICAL':'механическая',\n",
    "    'ROBOT':'роботизированная',\n",
    "    'VARIATOR':'вариатор'\n",
    "}\n",
    "\n",
    "privod_dict = {\n",
    "    'FORWARD_CONTROL':'передний',\n",
    "    'REAR_DRIVE':'задний',\n",
    "    'ALL_WHEEL_DRIVE':'полный'\n",
    "}\n",
    "\n",
    "stearing_wheel_dict = {\n",
    "    'LEFT':'Левый',\n",
    "    'RIGHT':'Правый'\n",
    "}\n",
    "\n",
    "state_dict = {\n",
    "    'True':'Не требует ремонта',\n",
    "    'False':'Битая/Не на ходу'\n",
    "}\n",
    "\n",
    "pts_dict = {\n",
    "    'ORIGINAL':'Оригинал',\n",
    "    'DUPLICATE':'Дубликат'\n",
    "}\n",
    "\n",
    "legal_dict = {\n",
    "    'True':'Растаможен',\n",
    "    'False':'Не растаможен'\n",
    "}\n",
    "\n",
    "df_auto['color'] = df_auto['color'].replace(to_replace=color_dict)\n",
    "df_auto['modelDate'] = df_auto['modelDate'].apply(model_date_correction)  \n",
    "df_auto['modelDate'] = df_auto['modelDate'].astype(np.float64)\n",
    "df_auto['mileage'] = df_auto['mileage'].astype(np.float64)\n",
    "df_auto['numberOfDoors'] = df_auto['numberOfDoors'].apply(number_doors_correction)  \n",
    "df_auto['numberOfDoors'] = df_auto['numberOfDoors'].astype(np.float64)\n",
    "df_auto['fuelType'] = df_auto['fuelType'].replace(to_replace=fuel_dict)   \n",
    "df_auto['vehicleTransmission'] = df_auto['vehicleTransmission'].replace(to_replace=transmission_dict)\n",
    "df_auto['Привод'] = df_auto['Привод'].replace(to_replace=privod_dict)\n",
    "df_auto['Руль'] = df_auto['Руль'].replace(to_replace=stearing_wheel_dict)\n",
    "df_auto['Состояние'] = df_auto['Состояние'].astype(str)             \n",
    "df_auto['Состояние'] = df_auto['Состояние'].replace(to_replace=state_dict)\n",
    "df_auto['ПТС'] = df_auto['ПТС'].replace(to_replace=pts_dict)\n",
    "df_auto['Таможня'] = df_auto['Таможня'].astype(str)\n",
    "df_auto['Таможня'] = df_auto['Таможня'].replace(to_replace=legal_dict)\n",
    "df_auto['Владение'] = df_auto['Владение'].apply(convert_time_delta)  "
   ]
  },
  {
   "cell_type": "code",
   "execution_count": 84,
   "metadata": {},
   "outputs": [
    {
     "data": {
      "text/html": [
       "<div>\n",
       "<style scoped>\n",
       "    .dataframe tbody tr th:only-of-type {\n",
       "        vertical-align: middle;\n",
       "    }\n",
       "\n",
       "    .dataframe tbody tr th {\n",
       "        vertical-align: top;\n",
       "    }\n",
       "\n",
       "    .dataframe thead th {\n",
       "        text-align: right;\n",
       "    }\n",
       "</style>\n",
       "<table border=\"1\" class=\"dataframe\">\n",
       "  <thead>\n",
       "    <tr style=\"text-align: right;\">\n",
       "      <th></th>\n",
       "      <th>bodyType</th>\n",
       "      <th>brand</th>\n",
       "      <th>color</th>\n",
       "      <th>fuelType</th>\n",
       "      <th>modelDate</th>\n",
       "      <th>name</th>\n",
       "      <th>numberOfDoors</th>\n",
       "      <th>productionDate</th>\n",
       "      <th>vehicleConfiguration</th>\n",
       "      <th>vehicleTransmission</th>\n",
       "      <th>engineDisplacement</th>\n",
       "      <th>enginePower</th>\n",
       "      <th>description</th>\n",
       "      <th>mileage</th>\n",
       "      <th>Комплектация</th>\n",
       "      <th>Привод</th>\n",
       "      <th>Руль</th>\n",
       "      <th>Состояние</th>\n",
       "      <th>Владельцы</th>\n",
       "      <th>ПТС</th>\n",
       "      <th>Таможня</th>\n",
       "      <th>Владение</th>\n",
       "      <th>Цена</th>\n",
       "    </tr>\n",
       "  </thead>\n",
       "  <tbody>\n",
       "    <tr>\n",
       "      <th>0</th>\n",
       "      <td>Седан</td>\n",
       "      <td>BMW</td>\n",
       "      <td>серый</td>\n",
       "      <td>бензин</td>\n",
       "      <td>1968.0</td>\n",
       "      <td>2.5 MT (150 л.с.)</td>\n",
       "      <td>4.0</td>\n",
       "      <td>1969</td>\n",
       "      <td>SEDAN MECHANICAL 2.5</td>\n",
       "      <td>механическая</td>\n",
       "      <td>2.5 LTR</td>\n",
       "      <td>150 N12</td>\n",
       "      <td>В продаже оригинальная BMW 2500  Родной двигат...</td>\n",
       "      <td>200000.0</td>\n",
       "      <td>None</td>\n",
       "      <td>задний</td>\n",
       "      <td>Левый</td>\n",
       "      <td>Не требует ремонта</td>\n",
       "      <td>2</td>\n",
       "      <td>Оригинал</td>\n",
       "      <td>Растаможен</td>\n",
       "      <td>9 лет и 7 месяцев</td>\n",
       "      <td>460000</td>\n",
       "    </tr>\n",
       "  </tbody>\n",
       "</table>\n",
       "</div>"
      ],
      "text/plain": [
       "  bodyType brand  color fuelType  modelDate               name  numberOfDoors  \\\n",
       "0    Седан   BMW  серый   бензин     1968.0  2.5 MT (150 л.с.)            4.0   \n",
       "\n",
       "   productionDate  vehicleConfiguration vehicleTransmission  \\\n",
       "0            1969  SEDAN MECHANICAL 2.5        механическая   \n",
       "\n",
       "  engineDisplacement enginePower  \\\n",
       "0            2.5 LTR     150 N12   \n",
       "\n",
       "                                         description   mileage Комплектация  \\\n",
       "0  В продаже оригинальная BMW 2500  Родной двигат...  200000.0         None   \n",
       "\n",
       "   Привод   Руль           Состояние Владельцы       ПТС     Таможня  \\\n",
       "0  задний  Левый  Не требует ремонта         2  Оригинал  Растаможен   \n",
       "\n",
       "            Владение    Цена  \n",
       "0  9 лет и 7 месяцев  460000  "
      ]
     },
     "execution_count": 84,
     "metadata": {},
     "output_type": "execute_result"
    }
   ],
   "source": [
    "df_auto.head(1)"
   ]
  },
  {
   "cell_type": "code",
   "execution_count": 86,
   "metadata": {},
   "outputs": [
    {
     "data": {
      "text/plain": [
       "(152634, 23)"
      ]
     },
     "execution_count": 86,
     "metadata": {},
     "output_type": "execute_result"
    }
   ],
   "source": [
    "df_auto = df_auto.append(df_auto_ready, ignore_index = True)\n",
    "df_auto.shape"
   ]
  },
  {
   "cell_type": "code",
   "execution_count": 97,
   "metadata": {},
   "outputs": [
    {
     "data": {
      "text/plain": [
       "(55384, 24)"
      ]
     },
     "execution_count": 97,
     "metadata": {},
     "output_type": "execute_result"
    }
   ],
   "source": [
    "df_auto = df_auto.drop_duplicates(keep = 'first')\n",
    "df_auto['id'] = df_auto.index \n",
    "df_auto.shape"
   ]
  },
  {
   "cell_type": "code",
   "execution_count": 96,
   "metadata": {},
   "outputs": [
    {
     "data": {
      "text/plain": [
       "array(['Седан', 'Седан 2 дв.', 'Купе', 'Кабриолет', 'Универсал 5 дв.',\n",
       "       'Купе-хардтоп', 'Родстер', 'Хэтчбек 3 дв. Compact', 'Седан Long',\n",
       "       'Внедорожник 5 дв.', 'Хэтчбек 5 дв.', 'Хэтчбек 3 дв.',\n",
       "       'Лифтбек Gran Turismo', 'Седан Gran Coupe', 'Лифтбек Gran Coupe',\n",
       "       'Компактвэн Gran Tourer', 'Компактвэн', 'Родстер Roadster'],\n",
       "      dtype=object)"
      ]
     },
     "execution_count": 96,
     "metadata": {},
     "output_type": "execute_result"
    }
   ],
   "source": [
    "df_auto.bodyType.unique()"
   ]
  },
  {
   "cell_type": "code",
   "execution_count": 98,
   "metadata": {},
   "outputs": [],
   "source": [
    "df_auto.to_csv('BMW_ready_24082020.csv', sep = ';')"
   ]
  },
  {
   "cell_type": "code",
   "execution_count": 17,
   "metadata": {},
   "outputs": [
    {
     "data": {
      "text/html": [
       "<div>\n",
       "<style scoped>\n",
       "    .dataframe tbody tr th:only-of-type {\n",
       "        vertical-align: middle;\n",
       "    }\n",
       "\n",
       "    .dataframe tbody tr th {\n",
       "        vertical-align: top;\n",
       "    }\n",
       "\n",
       "    .dataframe thead th {\n",
       "        text-align: right;\n",
       "    }\n",
       "</style>\n",
       "<table border=\"1\" class=\"dataframe\">\n",
       "  <thead>\n",
       "    <tr style=\"text-align: right;\">\n",
       "      <th></th>\n",
       "      <th>bodyType</th>\n",
       "      <th>brand</th>\n",
       "      <th>color</th>\n",
       "      <th>fuelType</th>\n",
       "      <th>modelDate</th>\n",
       "      <th>name</th>\n",
       "      <th>numberOfDoors</th>\n",
       "      <th>productionDate</th>\n",
       "      <th>vehicleConfiguration</th>\n",
       "      <th>vehicleTransmission</th>\n",
       "      <th>engineDisplacement</th>\n",
       "      <th>enginePower</th>\n",
       "      <th>description</th>\n",
       "      <th>mileage</th>\n",
       "      <th>Комплектация</th>\n",
       "      <th>Привод</th>\n",
       "      <th>Руль</th>\n",
       "      <th>Состояние</th>\n",
       "      <th>Владельцы</th>\n",
       "      <th>ПТС</th>\n",
       "      <th>Таможня</th>\n",
       "      <th>Владение</th>\n",
       "      <th>Цена</th>\n",
       "      <th>id</th>\n",
       "    </tr>\n",
       "  </thead>\n",
       "  <tbody>\n",
       "    <tr>\n",
       "      <th>0</th>\n",
       "      <td>Седан</td>\n",
       "      <td>BMW</td>\n",
       "      <td>серый</td>\n",
       "      <td>бензин</td>\n",
       "      <td>1968.0</td>\n",
       "      <td>2.5 MT (150 л.с.)</td>\n",
       "      <td>4.0</td>\n",
       "      <td>1969</td>\n",
       "      <td>SEDAN MECHANICAL 2.5</td>\n",
       "      <td>механическая</td>\n",
       "      <td>2.5 LTR</td>\n",
       "      <td>150 N12</td>\n",
       "      <td>В продаже оригинальная BMW 2500  Родной двигат...</td>\n",
       "      <td>200000.0</td>\n",
       "      <td>None</td>\n",
       "      <td>задний</td>\n",
       "      <td>Левый</td>\n",
       "      <td>Не требует ремонта</td>\n",
       "      <td>2</td>\n",
       "      <td>Оригинал</td>\n",
       "      <td>Растаможен</td>\n",
       "      <td>9 лет и 7 месяцев</td>\n",
       "      <td>460000</td>\n",
       "      <td>0</td>\n",
       "    </tr>\n",
       "    <tr>\n",
       "      <th>1</th>\n",
       "      <td>Седан 2 дв.</td>\n",
       "      <td>BMW</td>\n",
       "      <td>оранжевый</td>\n",
       "      <td>бензин</td>\n",
       "      <td>1966.0</td>\n",
       "      <td>2.0 MT (101 л.с.)</td>\n",
       "      <td>2.0</td>\n",
       "      <td>1972</td>\n",
       "      <td>COUPE MECHANICAL 2.0</td>\n",
       "      <td>механическая</td>\n",
       "      <td>2.0 LTR</td>\n",
       "      <td>101 N12</td>\n",
       "      <td>В СССР прибыл новым  В семье с 1977 г  Один вл...</td>\n",
       "      <td>117000.0</td>\n",
       "      <td>None</td>\n",
       "      <td>задний</td>\n",
       "      <td>Левый</td>\n",
       "      <td>Не требует ремонта</td>\n",
       "      <td>1</td>\n",
       "      <td>Оригинал</td>\n",
       "      <td>Растаможен</td>\n",
       "      <td>42 лет и 8 месяцев</td>\n",
       "      <td>1000000</td>\n",
       "      <td>1</td>\n",
       "    </tr>\n",
       "    <tr>\n",
       "      <th>3</th>\n",
       "      <td>Седан</td>\n",
       "      <td>BMW</td>\n",
       "      <td>голубой</td>\n",
       "      <td>бензин</td>\n",
       "      <td>1972.0</td>\n",
       "      <td>520 2.0 MT (115 л.с.)</td>\n",
       "      <td>4.0</td>\n",
       "      <td>1973</td>\n",
       "      <td>SEDAN MECHANICAL 2.0</td>\n",
       "      <td>механическая</td>\n",
       "      <td>2.0 LTR</td>\n",
       "      <td>115 N12</td>\n",
       "      <td>Продаю BMW 520  на ходу  Все вопросы по поводу...</td>\n",
       "      <td>30000.0</td>\n",
       "      <td>None</td>\n",
       "      <td>задний</td>\n",
       "      <td>Левый</td>\n",
       "      <td>Не требует ремонта</td>\n",
       "      <td>1</td>\n",
       "      <td>Оригинал</td>\n",
       "      <td>Растаможен</td>\n",
       "      <td>None</td>\n",
       "      <td>500000</td>\n",
       "      <td>3</td>\n",
       "    </tr>\n",
       "  </tbody>\n",
       "</table>\n",
       "</div>"
      ],
      "text/plain": [
       "      bodyType brand      color fuelType  modelDate                   name  \\\n",
       "0        Седан   BMW      серый   бензин     1968.0      2.5 MT (150 л.с.)   \n",
       "1  Седан 2 дв.   BMW  оранжевый   бензин     1966.0      2.0 MT (101 л.с.)   \n",
       "3        Седан   BMW    голубой   бензин     1972.0  520 2.0 MT (115 л.с.)   \n",
       "\n",
       "   numberOfDoors  productionDate  vehicleConfiguration vehicleTransmission  \\\n",
       "0            4.0            1969  SEDAN MECHANICAL 2.5        механическая   \n",
       "1            2.0            1972  COUPE MECHANICAL 2.0        механическая   \n",
       "3            4.0            1973  SEDAN MECHANICAL 2.0        механическая   \n",
       "\n",
       "  engineDisplacement enginePower  \\\n",
       "0            2.5 LTR     150 N12   \n",
       "1            2.0 LTR     101 N12   \n",
       "3            2.0 LTR     115 N12   \n",
       "\n",
       "                                         description   mileage Комплектация  \\\n",
       "0  В продаже оригинальная BMW 2500  Родной двигат...  200000.0         None   \n",
       "1  В СССР прибыл новым  В семье с 1977 г  Один вл...  117000.0         None   \n",
       "3  Продаю BMW 520  на ходу  Все вопросы по поводу...   30000.0         None   \n",
       "\n",
       "   Привод   Руль           Состояние Владельцы       ПТС     Таможня  \\\n",
       "0  задний  Левый  Не требует ремонта         2  Оригинал  Растаможен   \n",
       "1  задний  Левый  Не требует ремонта         1  Оригинал  Растаможен   \n",
       "3  задний  Левый  Не требует ремонта         1  Оригинал  Растаможен   \n",
       "\n",
       "             Владение     Цена  id  \n",
       "0   9 лет и 7 месяцев   460000   0  \n",
       "1  42 лет и 8 месяцев  1000000   1  \n",
       "3                None   500000   3  "
      ]
     },
     "execution_count": 17,
     "metadata": {},
     "output_type": "execute_result"
    }
   ],
   "source": [
    "df_auto.head(3)"
   ]
  },
  {
   "cell_type": "markdown",
   "metadata": {},
   "source": [
    "# Добавление новых данных к последнему датасету"
   ]
  },
  {
   "cell_type": "code",
   "execution_count": 2,
   "metadata": {},
   "outputs": [],
   "source": [
    "df_auto_ready = pd.read_csv('C:/Users/Anton/Notebooks/DataScience-Practice/Profitable choosing car/train_data/BMW_ready_02092020.csv', sep = ';')"
   ]
  },
  {
   "cell_type": "code",
   "execution_count": 3,
   "metadata": {},
   "outputs": [],
   "source": [
    "columns = ['bodyType','brand','color','fuelType','modelDate','name','numberOfDoors','productionDate','vehicleConfiguration','vehicleTransmission','engineDisplacement','enginePower','description','mileage','Комплектация','Привод','Руль','Состояние','Владельцы','ПТС','Таможня','Владение', 'Цена']\n",
    "# columns = ['body_type','brand','color','fuel_type','model_date','name','number_of_doors','production_date','vehicle_configuration','vehicle_transmission','engine_displacement','engine_power','description','mileage','complectation','drive','stear','conditions','owners','pts','customs','ownership', 'price']\n",
    "# df_auto1 = pd.DataFrame(columns = ['bodyType', 'brand', 'color', 'fuelType', 'modelDate', 'name', 'numberOfDoors', 'productionDate', 'vehicleConfiguration', 'vehicleTransmission', 'engineDisplacement', 'enginePower', 'description', 'mileage', 'Комплектация', 'Привод', 'Руль', 'Состояние', 'Владельцы', 'ПТС', 'Таможня', 'Владение'])\n",
    "# df_auto = pd.read_csv('Save_auto1.txt', header = None, sep= ';')"
   ]
  },
  {
   "cell_type": "code",
   "execution_count": 4,
   "metadata": {},
   "outputs": [
    {
     "data": {
      "text/html": [
       "<div>\n",
       "<style scoped>\n",
       "    .dataframe tbody tr th:only-of-type {\n",
       "        vertical-align: middle;\n",
       "    }\n",
       "\n",
       "    .dataframe tbody tr th {\n",
       "        vertical-align: top;\n",
       "    }\n",
       "\n",
       "    .dataframe thead th {\n",
       "        text-align: right;\n",
       "    }\n",
       "</style>\n",
       "<table border=\"1\" class=\"dataframe\">\n",
       "  <thead>\n",
       "    <tr style=\"text-align: right;\">\n",
       "      <th></th>\n",
       "      <th>Unnamed: 0</th>\n",
       "      <th>index</th>\n",
       "      <th>bodyType</th>\n",
       "      <th>brand</th>\n",
       "      <th>color</th>\n",
       "      <th>fuelType</th>\n",
       "      <th>modelDate</th>\n",
       "      <th>name</th>\n",
       "      <th>numberOfDoors</th>\n",
       "      <th>productionDate</th>\n",
       "      <th>vehicleConfiguration</th>\n",
       "      <th>vehicleTransmission</th>\n",
       "      <th>engineDisplacement</th>\n",
       "      <th>enginePower</th>\n",
       "      <th>description</th>\n",
       "      <th>mileage</th>\n",
       "      <th>Комплектация</th>\n",
       "      <th>Привод</th>\n",
       "      <th>Руль</th>\n",
       "      <th>Состояние</th>\n",
       "      <th>Владельцы</th>\n",
       "      <th>ПТС</th>\n",
       "      <th>Таможня</th>\n",
       "      <th>Владение</th>\n",
       "      <th>Цена</th>\n",
       "      <th>id</th>\n",
       "    </tr>\n",
       "  </thead>\n",
       "  <tbody>\n",
       "    <tr>\n",
       "      <th>0</th>\n",
       "      <td>0</td>\n",
       "      <td>0</td>\n",
       "      <td>Седан</td>\n",
       "      <td>BMW</td>\n",
       "      <td>серый</td>\n",
       "      <td>бензин</td>\n",
       "      <td>1968.0</td>\n",
       "      <td>2.5 MT (150 л.с.)</td>\n",
       "      <td>4.0</td>\n",
       "      <td>1969</td>\n",
       "      <td>SEDAN MECHANICAL 2.5</td>\n",
       "      <td>механическая</td>\n",
       "      <td>2.5 LTR</td>\n",
       "      <td>150 N12</td>\n",
       "      <td>В продаже оригинальная BMW 2500  Родной двигат...</td>\n",
       "      <td>200000.0</td>\n",
       "      <td>None</td>\n",
       "      <td>задний</td>\n",
       "      <td>Левый</td>\n",
       "      <td>Не требует ремонта</td>\n",
       "      <td>2</td>\n",
       "      <td>Оригинал</td>\n",
       "      <td>Растаможен</td>\n",
       "      <td>9 лет и 7 месяцев</td>\n",
       "      <td>460000</td>\n",
       "      <td>0</td>\n",
       "    </tr>\n",
       "  </tbody>\n",
       "</table>\n",
       "</div>"
      ],
      "text/plain": [
       "   Unnamed: 0  index bodyType brand  color fuelType  modelDate  \\\n",
       "0           0      0    Седан   BMW  серый   бензин     1968.0   \n",
       "\n",
       "                name  numberOfDoors  productionDate  vehicleConfiguration  \\\n",
       "0  2.5 MT (150 л.с.)            4.0            1969  SEDAN MECHANICAL 2.5   \n",
       "\n",
       "  vehicleTransmission engineDisplacement enginePower  \\\n",
       "0        механическая            2.5 LTR     150 N12   \n",
       "\n",
       "                                         description   mileage Комплектация  \\\n",
       "0  В продаже оригинальная BMW 2500  Родной двигат...  200000.0         None   \n",
       "\n",
       "   Привод   Руль           Состояние Владельцы       ПТС     Таможня  \\\n",
       "0  задний  Левый  Не требует ремонта         2  Оригинал  Растаможен   \n",
       "\n",
       "            Владение    Цена  id  \n",
       "0  9 лет и 7 месяцев  460000   0  "
      ]
     },
     "execution_count": 4,
     "metadata": {},
     "output_type": "execute_result"
    }
   ],
   "source": [
    "df_auto_ready.head(1)"
   ]
  },
  {
   "cell_type": "code",
   "execution_count": 5,
   "metadata": {},
   "outputs": [],
   "source": [
    "# df_auto_ready = df_auto_ready.drop(['Unnamed: 0','id'], axis = 1)\n",
    "df_auto_ready = df_auto_ready.drop(['Unnamed: 0','id','index'], axis = 1)\n"
   ]
  },
  {
   "cell_type": "code",
   "execution_count": 6,
   "metadata": {},
   "outputs": [],
   "source": [
    "df_auto_ready.columns = columns"
   ]
  },
  {
   "cell_type": "code",
   "execution_count": 7,
   "metadata": {},
   "outputs": [],
   "source": [
    "df_auto = pd.read_csv('C:/Users/Anton/Notebooks/DataScience-Practice/Profitable choosing car/Parsers/Save_bmw_auto_090920.txt', header = None, sep = ';')\n",
    "df_auto1 = pd.read_csv('C:/Users/Anton/Notebooks/DataScience-Practice/Profitable choosing car/Parsers/Save_bmw_auto_090920_1.txt', header = None, sep = ';')\n",
    "df_auto2 = pd.read_csv('C:/Users/Anton/Notebooks/DataScience-Practice/Profitable choosing car/Parsers/Save_bmw_auto_090920_3.txt', header = None, sep = ';')\n",
    "df_auto3 = pd.read_csv('C:/Users/Anton/Notebooks/DataScience-Practice/Profitable choosing car/Parsers/Save_bmw_auto_090920_4.txt', header = None, sep = ';')\n",
    "df_auto4 = pd.read_csv('C:/Users/Anton/Notebooks/DataScience-Practice/Profitable choosing car/Parsers/Save_bmw_auto_090920_5.txt', header = None, sep = ';')\n",
    "df_auto5 = pd.read_csv('C:/Users/Anton/Notebooks/DataScience-Practice/Profitable choosing car/Parsers/Save_bmw_auto_090920_6.txt', header = None, sep = ';')\n",
    "# df_auto6 = pd.read_csv('C:/Users/Anton/Notebooks/DataScience-Practice/Profitable choosing car/Parsers/Save_bmw_auto_090920.txt', header = None, sep = ';')\n",
    "# df_auto7 = pd.read_csv('C:/Users/Anton/Notebooks/DataScience-Practice/Profitable choosing car/Parsers/Save_bmw_auto_090920.txt', header = None, sep = ';')\n",
    "# df_auto_new2 = pd.read_csv('C:/Users/Mangol/Notebooks/DataScience-Practice/Profitable choosing car/Parsers/Save_all_bmw_auto_240820_2.txt', header = None, sep = ';')"
   ]
  },
  {
   "cell_type": "code",
   "execution_count": 9,
   "metadata": {},
   "outputs": [],
   "source": [
    "df_auto.columns = columns\n",
    "df_auto1.columns = columns\n",
    "df_auto2.columns = columns\n",
    "df_auto3.columns = columns\n",
    "df_auto4.columns = columns\n",
    "df_auto5.columns = columns\n",
    "# df_auto6.columns = columns\n",
    "df_auto = df_auto.append(df_auto1, ignore_index = True)\n",
    "df_auto = df_auto.append(df_auto2, ignore_index = True)\n",
    "df_auto = df_auto.append(df_auto3, ignore_index = True)\n",
    "df_auto = df_auto.append(df_auto4, ignore_index = True)\n",
    "df_auto = df_auto.append(df_auto5, ignore_index = True)\n",
    "# df_auto = df_auto.append(df_auto6, ignore_index = True)"
   ]
  },
  {
   "cell_type": "code",
   "execution_count": 10,
   "metadata": {},
   "outputs": [
    {
     "data": {
      "text/plain": [
       "(45639, 23)"
      ]
     },
     "execution_count": 10,
     "metadata": {},
     "output_type": "execute_result"
    }
   ],
   "source": [
    "df_auto.shape"
   ]
  },
  {
   "cell_type": "code",
   "execution_count": 11,
   "metadata": {},
   "outputs": [],
   "source": [
    "df_auto = df_auto.query(\"Цена not in ['None']\")"
   ]
  },
  {
   "cell_type": "code",
   "execution_count": 14,
   "metadata": {},
   "outputs": [
    {
     "data": {
      "text/plain": [
       "(16020, 23)"
      ]
     },
     "execution_count": 14,
     "metadata": {},
     "output_type": "execute_result"
    }
   ],
   "source": [
    "df_auto.shape"
   ]
  },
  {
   "cell_type": "code",
   "execution_count": 12,
   "metadata": {},
   "outputs": [],
   "source": [
    "df_auto = df_auto.drop_duplicates(keep = 'first')"
   ]
  },
  {
   "cell_type": "code",
   "execution_count": 14,
   "metadata": {},
   "outputs": [],
   "source": [
    "#Делаем обработку данных\n",
    "def convert_time_delta(item):\n",
    "    year = ''\n",
    "    month =''\n",
    "    if item == 'None':\n",
    "        return('None')\n",
    "    else:\n",
    "        item = pd.to_datetime(item, format='%Y.%m', errors='ignore')\n",
    "        now = datetime.datetime.now()\n",
    "        d1 = du_parse(str(item))\n",
    "        d2 = du_parse(str(now))\n",
    "        delta = relativedelta(d2, d1)\n",
    "\n",
    "\n",
    "        if delta.years == 1:\n",
    "            year = 'год'\n",
    "        elif delta.years in [2,3,4]:\n",
    "            year = 'года'\n",
    "        else:\n",
    "            year = 'лет'\n",
    "\n",
    "\n",
    "        if delta.months == 1:\n",
    "            month = 'месяц'\n",
    "        elif delta.months in [2,3,4]:\n",
    "            month = 'месяца'\n",
    "        else:\n",
    "            month = 'месяцев'\n",
    "        delta_string = str(delta.years) + ' ' +year +' и ' + str(delta.months) + ' ' +month\n",
    "        return(delta_string)\n",
    "\n",
    "def model_date_correction (item):\n",
    "    if item == 'None':\n",
    "        return('0')\n",
    "    else:\n",
    "        return(item)\n",
    "\n",
    "def number_doors_correction (item):\n",
    "    if item == 'None':\n",
    "        return('4')\n",
    "    else:\n",
    "        return(item)\n",
    "\n",
    "color_dict = {\n",
    "    '040001':'чёрный',\n",
    "    'CACECB':'серебристый',\n",
    "    'FAFBFB':'белый',\n",
    "    '97948F':'серый',\n",
    "    '0000CC':'синий',\n",
    "    'EE1D19':'красный',\n",
    "    '007F00':'зеленый',\n",
    "    '200204':'коричневый',\n",
    "    'C49648':'бежевый',\n",
    "    '22A0F8':'голубой',\n",
    "    'DEA522':'золотистый',\n",
    "    '660099':'пурпурный',\n",
    "    '4A2197':'фиолетовый',\n",
    "    'FFD600':'жёлтый',\n",
    "    'FF8649':'оранжевый',\n",
    "    'FFC0CB':'розовый'\n",
    "}\n",
    "\n",
    "fuel_dict = {\n",
    "    'GASOLINE':'бензин',\n",
    "    'DIESEL':'дизель',\n",
    "    'ELECTRO':'электро',\n",
    "    'HYBRID':'гибрид',\n",
    "    'LPG':'газ'\n",
    "}\n",
    "\n",
    "transmission_dict = {\n",
    "    'AUTOMATIC':'автоматическая',\n",
    "    'MECHANICAL':'механическая',\n",
    "    'ROBOT':'роботизированная',\n",
    "    'VARIATOR':'вариатор'\n",
    "}\n",
    "\n",
    "privod_dict = {\n",
    "    'FORWARD_CONTROL':'передний',\n",
    "    'REAR_DRIVE':'задний',\n",
    "    'ALL_WHEEL_DRIVE':'полный'\n",
    "}\n",
    "\n",
    "stearing_wheel_dict = {\n",
    "    'LEFT':'Левый',\n",
    "    'RIGHT':'Правый'\n",
    "}\n",
    "\n",
    "state_dict = {\n",
    "    'True':'Не требует ремонта',\n",
    "    'False':'Битая/Не на ходу'\n",
    "}\n",
    "\n",
    "pts_dict = {\n",
    "    'ORIGINAL':'Оригинал',\n",
    "    'DUPLICATE':'Дубликат'\n",
    "}\n",
    "\n",
    "legal_dict = {\n",
    "    'True':'Растаможен',\n",
    "    'False':'Не растаможен'\n",
    "}\n",
    "\n",
    "df_auto['color'] = df_auto['color'].replace(to_replace=color_dict)\n",
    "df_auto['modelDate'] = df_auto['modelDate'].apply(model_date_correction)  \n",
    "df_auto['modelDate'] = df_auto['modelDate'].astype(np.float64)\n",
    "df_auto['mileage'] = df_auto['mileage'].astype(np.float64)\n",
    "df_auto['numberOfDoors'] = df_auto['numberOfDoors'].apply(number_doors_correction)  \n",
    "df_auto['numberOfDoors'] = df_auto['numberOfDoors'].astype(np.float64)\n",
    "df_auto['fuelType'] = df_auto['fuelType'].replace(to_replace=fuel_dict)   \n",
    "df_auto['vehicleTransmission'] = df_auto['vehicleTransmission'].replace(to_replace=transmission_dict)\n",
    "df_auto['Привод'] = df_auto['Привод'].replace(to_replace=privod_dict)\n",
    "df_auto['Руль'] = df_auto['Руль'].replace(to_replace=stearing_wheel_dict)\n",
    "df_auto['Состояние'] = df_auto['Состояние'].astype(str)             \n",
    "df_auto['Состояние'] = df_auto['Состояние'].replace(to_replace=state_dict)\n",
    "df_auto['ПТС'] = df_auto['ПТС'].replace(to_replace=pts_dict)\n",
    "df_auto['Таможня'] = df_auto['Таможня'].astype(str)\n",
    "df_auto['Таможня'] = df_auto['Таможня'].replace(to_replace=legal_dict)\n",
    "df_auto['Владение'] = df_auto['Владение'].apply(convert_time_delta)\n",
    "df_auto['bodyType'] = df_auto['bodyType'].apply(lambda x: x.lower())"
   ]
  },
  {
   "cell_type": "code",
   "execution_count": 16,
   "metadata": {},
   "outputs": [
    {
     "data": {
      "text/plain": [
       "(16020, 23)"
      ]
     },
     "execution_count": 16,
     "metadata": {},
     "output_type": "execute_result"
    }
   ],
   "source": [
    "df_auto.shape"
   ]
  },
  {
   "cell_type": "code",
   "execution_count": 17,
   "metadata": {},
   "outputs": [
    {
     "data": {
      "text/plain": [
       "bodyType                12099\n",
       "brand                   12099\n",
       "color                   12099\n",
       "fuelType                12099\n",
       "modelDate               12099\n",
       "name                    12099\n",
       "numberOfDoors           12099\n",
       "productionDate          12099\n",
       "vehicleConfiguration    12099\n",
       "vehicleTransmission     12099\n",
       "engineDisplacement      12099\n",
       "enginePower             12099\n",
       "description             12099\n",
       "mileage                 12099\n",
       "Комплектация            12099\n",
       "Привод                  12099\n",
       "Руль                    12099\n",
       "Состояние               12099\n",
       "Владельцы               12099\n",
       "ПТС                     12099\n",
       "Таможня                 12099\n",
       "Владение                12099\n",
       "Цена                    12099\n",
       "dtype: int64"
      ]
     },
     "execution_count": 17,
     "metadata": {},
     "output_type": "execute_result"
    }
   ],
   "source": [
    "df_auto[df_auto['Комплектация'] == 'None'].count()"
   ]
  },
  {
   "cell_type": "code",
   "execution_count": 18,
   "metadata": {},
   "outputs": [],
   "source": [
    "df_auto_1 = df_auto.query(\"Комплектация not in ['None']\")"
   ]
  },
  {
   "cell_type": "code",
   "execution_count": 19,
   "metadata": {},
   "outputs": [
    {
     "data": {
      "text/plain": [
       "(3921, 23)"
      ]
     },
     "execution_count": 19,
     "metadata": {},
     "output_type": "execute_result"
    }
   ],
   "source": [
    "df_auto_1.shape"
   ]
  },
  {
   "cell_type": "code",
   "execution_count": 37,
   "metadata": {},
   "outputs": [],
   "source": [
    "# df_auto = df_auto.query(\"modelDate not in [0]\")\n",
    "# def number_doors_correction_1 (item):\n",
    "#     if item == 0:\n",
    "#         return(4)\n",
    "#     else:\n",
    "#         return(item)\n",
    "# df_auto['numberOfDoors'] = df_auto['numberOfDoors'].apply(number_doors_correction_1)  \n",
    "# df_auto['numberOfDoors'] = df_auto['numberOfDoors'].astype(np.float64)\n",
    "# df_auto = df_auto.query(\"brand not in ['Москвич']\")"
   ]
  },
  {
   "cell_type": "code",
   "execution_count": 20,
   "metadata": {},
   "outputs": [],
   "source": [
    "df_auto_ready = df_auto_ready.append(df_auto, ignore_index = True)"
   ]
  },
  {
   "cell_type": "code",
   "execution_count": 21,
   "metadata": {},
   "outputs": [
    {
     "data": {
      "text/plain": [
       "(89830, 23)"
      ]
     },
     "execution_count": 21,
     "metadata": {},
     "output_type": "execute_result"
    }
   ],
   "source": [
    "df_auto_ready.shape"
   ]
  },
  {
   "cell_type": "code",
   "execution_count": 22,
   "metadata": {},
   "outputs": [],
   "source": [
    "df_auto_ready = df_auto_ready.query(\"Цена not in ['None']\")"
   ]
  },
  {
   "cell_type": "code",
   "execution_count": 23,
   "metadata": {},
   "outputs": [],
   "source": [
    "df_auto_ready = df_auto_ready.drop_duplicates(keep = 'first')"
   ]
  },
  {
   "cell_type": "code",
   "execution_count": 24,
   "metadata": {},
   "outputs": [
    {
     "data": {
      "text/plain": [
       "(89830, 23)"
      ]
     },
     "execution_count": 24,
     "metadata": {},
     "output_type": "execute_result"
    }
   ],
   "source": [
    "df_auto_ready.shape"
   ]
  },
  {
   "cell_type": "code",
   "execution_count": 25,
   "metadata": {},
   "outputs": [],
   "source": [
    "df_auto_ready = df_auto_ready.reset_index()"
   ]
  },
  {
   "cell_type": "code",
   "execution_count": 26,
   "metadata": {},
   "outputs": [
    {
     "data": {
      "text/html": [
       "<div>\n",
       "<style scoped>\n",
       "    .dataframe tbody tr th:only-of-type {\n",
       "        vertical-align: middle;\n",
       "    }\n",
       "\n",
       "    .dataframe tbody tr th {\n",
       "        vertical-align: top;\n",
       "    }\n",
       "\n",
       "    .dataframe thead th {\n",
       "        text-align: right;\n",
       "    }\n",
       "</style>\n",
       "<table border=\"1\" class=\"dataframe\">\n",
       "  <thead>\n",
       "    <tr style=\"text-align: right;\">\n",
       "      <th></th>\n",
       "      <th>index</th>\n",
       "      <th>bodyType</th>\n",
       "      <th>brand</th>\n",
       "      <th>color</th>\n",
       "      <th>fuelType</th>\n",
       "      <th>modelDate</th>\n",
       "      <th>name</th>\n",
       "      <th>numberOfDoors</th>\n",
       "      <th>productionDate</th>\n",
       "      <th>vehicleConfiguration</th>\n",
       "      <th>vehicleTransmission</th>\n",
       "      <th>engineDisplacement</th>\n",
       "      <th>enginePower</th>\n",
       "      <th>description</th>\n",
       "      <th>mileage</th>\n",
       "      <th>Комплектация</th>\n",
       "      <th>Привод</th>\n",
       "      <th>Руль</th>\n",
       "      <th>Состояние</th>\n",
       "      <th>Владельцы</th>\n",
       "      <th>ПТС</th>\n",
       "      <th>Таможня</th>\n",
       "      <th>Владение</th>\n",
       "      <th>Цена</th>\n",
       "    </tr>\n",
       "  </thead>\n",
       "  <tbody>\n",
       "    <tr>\n",
       "      <th>0</th>\n",
       "      <td>0</td>\n",
       "      <td>Седан</td>\n",
       "      <td>BMW</td>\n",
       "      <td>серый</td>\n",
       "      <td>бензин</td>\n",
       "      <td>1968.0</td>\n",
       "      <td>2.5 MT (150 л.с.)</td>\n",
       "      <td>4.0</td>\n",
       "      <td>1969</td>\n",
       "      <td>SEDAN MECHANICAL 2.5</td>\n",
       "      <td>механическая</td>\n",
       "      <td>2.5 LTR</td>\n",
       "      <td>150 N12</td>\n",
       "      <td>В продаже оригинальная BMW 2500  Родной двигат...</td>\n",
       "      <td>200000.0</td>\n",
       "      <td>None</td>\n",
       "      <td>задний</td>\n",
       "      <td>Левый</td>\n",
       "      <td>Не требует ремонта</td>\n",
       "      <td>2</td>\n",
       "      <td>Оригинал</td>\n",
       "      <td>Растаможен</td>\n",
       "      <td>9 лет и 7 месяцев</td>\n",
       "      <td>460000</td>\n",
       "    </tr>\n",
       "  </tbody>\n",
       "</table>\n",
       "</div>"
      ],
      "text/plain": [
       "   index bodyType brand  color fuelType  modelDate               name  \\\n",
       "0      0    Седан   BMW  серый   бензин     1968.0  2.5 MT (150 л.с.)   \n",
       "\n",
       "   numberOfDoors  productionDate  vehicleConfiguration vehicleTransmission  \\\n",
       "0            4.0            1969  SEDAN MECHANICAL 2.5        механическая   \n",
       "\n",
       "  engineDisplacement enginePower  \\\n",
       "0            2.5 LTR     150 N12   \n",
       "\n",
       "                                         description   mileage Комплектация  \\\n",
       "0  В продаже оригинальная BMW 2500  Родной двигат...  200000.0         None   \n",
       "\n",
       "   Привод   Руль           Состояние Владельцы       ПТС     Таможня  \\\n",
       "0  задний  Левый  Не требует ремонта         2  Оригинал  Растаможен   \n",
       "\n",
       "            Владение    Цена  \n",
       "0  9 лет и 7 месяцев  460000  "
      ]
     },
     "execution_count": 26,
     "metadata": {},
     "output_type": "execute_result"
    }
   ],
   "source": [
    "df_auto_ready.head(1)"
   ]
  },
  {
   "cell_type": "code",
   "execution_count": 27,
   "metadata": {},
   "outputs": [],
   "source": [
    "df_auto_ready = df_auto_ready.drop(['index'], axis = 1)\n",
    "df_auto_ready['id'] = df_auto_ready.index "
   ]
  },
  {
   "cell_type": "code",
   "execution_count": 28,
   "metadata": {},
   "outputs": [],
   "source": [
    "df_auto_ready.to_csv('BMW_ready__10092020.csv', sep = ';')"
   ]
  },
  {
   "cell_type": "code",
   "execution_count": 29,
   "metadata": {},
   "outputs": [],
   "source": [
    "df_auto_today = pd.read_csv('C:/Users/Anton/Notebooks/DataScience-Practice/Profitable choosing car/train_data/BMW_ready__10092020.csv', sep = ';')"
   ]
  },
  {
   "cell_type": "code",
   "execution_count": 30,
   "metadata": {},
   "outputs": [
    {
     "data": {
      "text/html": [
       "<div>\n",
       "<style scoped>\n",
       "    .dataframe tbody tr th:only-of-type {\n",
       "        vertical-align: middle;\n",
       "    }\n",
       "\n",
       "    .dataframe tbody tr th {\n",
       "        vertical-align: top;\n",
       "    }\n",
       "\n",
       "    .dataframe thead th {\n",
       "        text-align: right;\n",
       "    }\n",
       "</style>\n",
       "<table border=\"1\" class=\"dataframe\">\n",
       "  <thead>\n",
       "    <tr style=\"text-align: right;\">\n",
       "      <th></th>\n",
       "      <th>Unnamed: 0</th>\n",
       "      <th>bodyType</th>\n",
       "      <th>brand</th>\n",
       "      <th>color</th>\n",
       "      <th>fuelType</th>\n",
       "      <th>modelDate</th>\n",
       "      <th>name</th>\n",
       "      <th>numberOfDoors</th>\n",
       "      <th>productionDate</th>\n",
       "      <th>vehicleConfiguration</th>\n",
       "      <th>vehicleTransmission</th>\n",
       "      <th>engineDisplacement</th>\n",
       "      <th>enginePower</th>\n",
       "      <th>description</th>\n",
       "      <th>mileage</th>\n",
       "      <th>Комплектация</th>\n",
       "      <th>Привод</th>\n",
       "      <th>Руль</th>\n",
       "      <th>Состояние</th>\n",
       "      <th>Владельцы</th>\n",
       "      <th>ПТС</th>\n",
       "      <th>Таможня</th>\n",
       "      <th>Владение</th>\n",
       "      <th>Цена</th>\n",
       "      <th>id</th>\n",
       "    </tr>\n",
       "  </thead>\n",
       "  <tbody>\n",
       "    <tr>\n",
       "      <th>0</th>\n",
       "      <td>0</td>\n",
       "      <td>Седан</td>\n",
       "      <td>BMW</td>\n",
       "      <td>серый</td>\n",
       "      <td>бензин</td>\n",
       "      <td>1968.0</td>\n",
       "      <td>2.5 MT (150 л.с.)</td>\n",
       "      <td>4.0</td>\n",
       "      <td>1969</td>\n",
       "      <td>SEDAN MECHANICAL 2.5</td>\n",
       "      <td>механическая</td>\n",
       "      <td>2.5 LTR</td>\n",
       "      <td>150 N12</td>\n",
       "      <td>В продаже оригинальная BMW 2500  Родной двигат...</td>\n",
       "      <td>200000.0</td>\n",
       "      <td>None</td>\n",
       "      <td>задний</td>\n",
       "      <td>Левый</td>\n",
       "      <td>Не требует ремонта</td>\n",
       "      <td>2</td>\n",
       "      <td>Оригинал</td>\n",
       "      <td>Растаможен</td>\n",
       "      <td>9 лет и 7 месяцев</td>\n",
       "      <td>460000</td>\n",
       "      <td>0</td>\n",
       "    </tr>\n",
       "  </tbody>\n",
       "</table>\n",
       "</div>"
      ],
      "text/plain": [
       "   Unnamed: 0 bodyType brand  color fuelType  modelDate               name  \\\n",
       "0           0    Седан   BMW  серый   бензин     1968.0  2.5 MT (150 л.с.)   \n",
       "\n",
       "   numberOfDoors  productionDate  vehicleConfiguration vehicleTransmission  \\\n",
       "0            4.0            1969  SEDAN MECHANICAL 2.5        механическая   \n",
       "\n",
       "  engineDisplacement enginePower  \\\n",
       "0            2.5 LTR     150 N12   \n",
       "\n",
       "                                         description   mileage Комплектация  \\\n",
       "0  В продаже оригинальная BMW 2500  Родной двигат...  200000.0         None   \n",
       "\n",
       "   Привод   Руль           Состояние Владельцы       ПТС     Таможня  \\\n",
       "0  задний  Левый  Не требует ремонта         2  Оригинал  Растаможен   \n",
       "\n",
       "            Владение    Цена  id  \n",
       "0  9 лет и 7 месяцев  460000   0  "
      ]
     },
     "execution_count": 30,
     "metadata": {},
     "output_type": "execute_result"
    }
   ],
   "source": [
    "df_auto_today.head(1)"
   ]
  },
  {
   "cell_type": "code",
   "execution_count": 31,
   "metadata": {},
   "outputs": [],
   "source": [
    "df_auto_today = df_auto_today.drop(['Unnamed: 0','id'], axis = 1)"
   ]
  },
  {
   "cell_type": "code",
   "execution_count": 32,
   "metadata": {},
   "outputs": [],
   "source": [
    "df_auto_today = df_auto_today.drop_duplicates(keep = 'first')"
   ]
  },
  {
   "cell_type": "code",
   "execution_count": 33,
   "metadata": {},
   "outputs": [
    {
     "data": {
      "text/plain": [
       "(78326, 23)"
      ]
     },
     "execution_count": 33,
     "metadata": {},
     "output_type": "execute_result"
    }
   ],
   "source": [
    "df_auto_today.shape"
   ]
  },
  {
   "cell_type": "code",
   "execution_count": 34,
   "metadata": {},
   "outputs": [],
   "source": [
    "df_auto_today = df_auto_today.reset_index()\n",
    "df_auto_today['id'] = df_auto_today.index "
   ]
  },
  {
   "cell_type": "code",
   "execution_count": 35,
   "metadata": {},
   "outputs": [],
   "source": [
    "df_auto_today.to_csv('BMW_ready_10092020.csv', sep = ';')"
   ]
  },
  {
   "cell_type": "markdown",
   "metadata": {},
   "source": [
    "## Данные для PowerBI"
   ]
  },
  {
   "cell_type": "code",
   "execution_count": 4,
   "metadata": {},
   "outputs": [],
   "source": [
    "bmw = pd.read_csv('C:/Users/Anton/Notebooks/DataScience-Practice/Profitable choosing car/train_data/BMW_ready_10092020.csv', sep=';')\n",
    "df_auto = pd.read_csv('C:/Users/Anton/Notebooks/DataScience-Practice/Profitable choosing car/Parsers/Save_Toyota_auto_170920.txt', header = None, sep=';')\n",
    "mercedes = pd.read_csv('C:/Users/Anton/Notebooks/DataScience-Practice/Profitable choosing car/Parsers/Save_MERCEDES_auto_170920_1.txt', header = None, sep=';')      \n",
    "hyundai = pd.read_csv('C:/Users/Anton/Notebooks/DataScience-Practice/Profitable choosing car/Parsers/Save_Hyundai_auto_170920_2.txt', header = None, sep=';')      \n",
    "ford = pd.read_csv('C:/Users/Anton/Notebooks/DataScience-Practice/Profitable choosing car/Parsers/Save_Ford_auto_170920_1.txt', header = None, sep=';')      \n",
    "renault = pd.read_csv('C:/Users/Anton/Notebooks/DataScience-Practice/Profitable choosing car/Parsers/Save_Renault_auto_170920.txt', header = None, sep=';')      \n",
    "chevrolet = pd.read_csv('C:/Users/Anton/Notebooks/DataScience-Practice/Profitable choosing car/Parsers/Save_CHEVROLET_auto_170920.txt', header = None, sep=';')           \n"
   ]
  },
  {
   "cell_type": "code",
   "execution_count": 6,
   "metadata": {},
   "outputs": [],
   "source": [
    "columns = ['bodyType','brand','color','fuelType','modelDate','name','numberOfDoors','productionDate','vehicleConfiguration','vehicleTransmission','engineDisplacement','enginePower','description','mileage','Комплектация','Привод','Руль','Состояние','Владельцы','ПТС','Таможня','Владение', 'Цена']\n",
    "# columns = [\n",
    "#         'body_type',\n",
    "#         'brand',\n",
    "#         'fuel_type',\n",
    "#         'model_date',\n",
    "#          'engine_description',\n",
    "#         'number_of_doors',\n",
    "#         'production_date',\n",
    "#         'vehicle_configuration',\n",
    "#         'vehicle_transmission',\n",
    "#         'engine_displacement',\n",
    "#         'engine_power',\n",
    "#         'complectation',\n",
    "#         'drive',\n",
    "#         'stear',\n",
    "#         'conditions',\n",
    "#         'owners',\n",
    "#         'pts',\n",
    "#         'customs',\n",
    "#         'ownership', \n",
    "#         'price'\n",
    "# ]"
   ]
  },
  {
   "cell_type": "code",
   "execution_count": 7,
   "metadata": {},
   "outputs": [],
   "source": [
    "df_auto.columns = columns\n",
    "mercedes.columns = columns\n",
    "hyundai.columns = columns\n",
    "ford.columns = columns\n",
    "renault.columns = columns\n",
    "renault.columns = columns"
   ]
  },
  {
   "cell_type": "code",
   "execution_count": 10,
   "metadata": {},
   "outputs": [],
   "source": [
    "df_auto = df_auto.append(mercedes, ignore_index = True)\n",
    "df_auto = df_auto.append(hyundai, ignore_index = True)\n",
    "df_auto = df_auto.append(ford, ignore_index = True)\n",
    "df_auto = df_auto.append(renault, ignore_index = True)\n",
    "df_auto = df_auto.append(renault, ignore_index = True)"
   ]
  },
  {
   "cell_type": "code",
   "execution_count": 13,
   "metadata": {},
   "outputs": [
    {
     "data": {
      "text/plain": [
       "(115089, 23)"
      ]
     },
     "execution_count": 13,
     "metadata": {},
     "output_type": "execute_result"
    }
   ],
   "source": [
    "df_auto.shape"
   ]
  },
  {
   "cell_type": "code",
   "execution_count": 16,
   "metadata": {},
   "outputs": [
    {
     "data": {
      "text/html": [
       "<div>\n",
       "<style scoped>\n",
       "    .dataframe tbody tr th:only-of-type {\n",
       "        vertical-align: middle;\n",
       "    }\n",
       "\n",
       "    .dataframe tbody tr th {\n",
       "        vertical-align: top;\n",
       "    }\n",
       "\n",
       "    .dataframe thead th {\n",
       "        text-align: right;\n",
       "    }\n",
       "</style>\n",
       "<table border=\"1\" class=\"dataframe\">\n",
       "  <thead>\n",
       "    <tr style=\"text-align: right;\">\n",
       "      <th></th>\n",
       "      <th>bodyType</th>\n",
       "      <th>brand</th>\n",
       "      <th>color</th>\n",
       "      <th>fuelType</th>\n",
       "      <th>modelDate</th>\n",
       "      <th>name</th>\n",
       "      <th>numberOfDoors</th>\n",
       "      <th>productionDate</th>\n",
       "      <th>vehicleConfiguration</th>\n",
       "      <th>vehicleTransmission</th>\n",
       "      <th>engineDisplacement</th>\n",
       "      <th>enginePower</th>\n",
       "      <th>description</th>\n",
       "      <th>mileage</th>\n",
       "      <th>Комплектация</th>\n",
       "      <th>Привод</th>\n",
       "      <th>Руль</th>\n",
       "      <th>Состояние</th>\n",
       "      <th>Владельцы</th>\n",
       "      <th>ПТС</th>\n",
       "      <th>Таможня</th>\n",
       "      <th>Владение</th>\n",
       "      <th>Цена</th>\n",
       "    </tr>\n",
       "  </thead>\n",
       "  <tbody>\n",
       "    <tr>\n",
       "      <th>0</th>\n",
       "      <td>седан</td>\n",
       "      <td>Toyota</td>\n",
       "      <td>зеленый</td>\n",
       "      <td>бензин</td>\n",
       "      <td>1971.0</td>\n",
       "      <td>2.0 MT (106 л.с.)</td>\n",
       "      <td>4.0</td>\n",
       "      <td>1974</td>\n",
       "      <td>SEDAN MECHANICAL 2.0</td>\n",
       "      <td>механическая</td>\n",
       "      <td>2.0 LTR</td>\n",
       "      <td>106 N12</td>\n",
       "      <td>Краун купе в хорошем состоянии  конструктор пр...</td>\n",
       "      <td>158000.0</td>\n",
       "      <td>None</td>\n",
       "      <td>задний</td>\n",
       "      <td>Правый</td>\n",
       "      <td>Не требует ремонта</td>\n",
       "      <td>1</td>\n",
       "      <td>Оригинал</td>\n",
       "      <td>Растаможен</td>\n",
       "      <td>12 лет и 4 месяца</td>\n",
       "      <td>700000</td>\n",
       "    </tr>\n",
       "  </tbody>\n",
       "</table>\n",
       "</div>"
      ],
      "text/plain": [
       "  bodyType   brand    color fuelType  modelDate               name  \\\n",
       "0    седан  Toyota  зеленый   бензин     1971.0  2.0 MT (106 л.с.)   \n",
       "\n",
       "   numberOfDoors  productionDate  vehicleConfiguration vehicleTransmission  \\\n",
       "0            4.0            1974  SEDAN MECHANICAL 2.0        механическая   \n",
       "\n",
       "  engineDisplacement enginePower  \\\n",
       "0            2.0 LTR     106 N12   \n",
       "\n",
       "                                         description   mileage Комплектация  \\\n",
       "0  Краун купе в хорошем состоянии  конструктор пр...  158000.0         None   \n",
       "\n",
       "   Привод    Руль           Состояние Владельцы       ПТС     Таможня  \\\n",
       "0  задний  Правый  Не требует ремонта         1  Оригинал  Растаможен   \n",
       "\n",
       "            Владение    Цена  \n",
       "0  12 лет и 4 месяца  700000  "
      ]
     },
     "execution_count": 16,
     "metadata": {},
     "output_type": "execute_result"
    }
   ],
   "source": [
    "df_auto.head(1)"
   ]
  },
  {
   "cell_type": "code",
   "execution_count": 20,
   "metadata": {},
   "outputs": [
    {
     "data": {
      "text/html": [
       "<div>\n",
       "<style scoped>\n",
       "    .dataframe tbody tr th:only-of-type {\n",
       "        vertical-align: middle;\n",
       "    }\n",
       "\n",
       "    .dataframe tbody tr th {\n",
       "        vertical-align: top;\n",
       "    }\n",
       "\n",
       "    .dataframe thead th {\n",
       "        text-align: right;\n",
       "    }\n",
       "</style>\n",
       "<table border=\"1\" class=\"dataframe\">\n",
       "  <thead>\n",
       "    <tr style=\"text-align: right;\">\n",
       "      <th></th>\n",
       "      <th>bodyType</th>\n",
       "      <th>brand</th>\n",
       "      <th>color</th>\n",
       "      <th>fuelType</th>\n",
       "      <th>modelDate</th>\n",
       "      <th>name</th>\n",
       "      <th>numberOfDoors</th>\n",
       "      <th>productionDate</th>\n",
       "      <th>vehicleConfiguration</th>\n",
       "      <th>vehicleTransmission</th>\n",
       "      <th>engineDisplacement</th>\n",
       "      <th>enginePower</th>\n",
       "      <th>description</th>\n",
       "      <th>mileage</th>\n",
       "      <th>Комплектация</th>\n",
       "      <th>Привод</th>\n",
       "      <th>Руль</th>\n",
       "      <th>Состояние</th>\n",
       "      <th>Владельцы</th>\n",
       "      <th>ПТС</th>\n",
       "      <th>Таможня</th>\n",
       "      <th>Владение</th>\n",
       "      <th>Цена</th>\n",
       "    </tr>\n",
       "  </thead>\n",
       "  <tbody>\n",
       "    <tr>\n",
       "      <th>0</th>\n",
       "      <td>Седан</td>\n",
       "      <td>BMW</td>\n",
       "      <td>серый</td>\n",
       "      <td>бензин</td>\n",
       "      <td>1968.0</td>\n",
       "      <td>2.5 MT (150 л.с.)</td>\n",
       "      <td>4.0</td>\n",
       "      <td>1969</td>\n",
       "      <td>SEDAN MECHANICAL 2.5</td>\n",
       "      <td>механическая</td>\n",
       "      <td>2.5 LTR</td>\n",
       "      <td>150 N12</td>\n",
       "      <td>В продаже оригинальная BMW 2500  Родной двигат...</td>\n",
       "      <td>200000.0</td>\n",
       "      <td>None</td>\n",
       "      <td>задний</td>\n",
       "      <td>Левый</td>\n",
       "      <td>Не требует ремонта</td>\n",
       "      <td>2</td>\n",
       "      <td>Оригинал</td>\n",
       "      <td>Растаможен</td>\n",
       "      <td>9 лет и 7 месяцев</td>\n",
       "      <td>460000</td>\n",
       "    </tr>\n",
       "  </tbody>\n",
       "</table>\n",
       "</div>"
      ],
      "text/plain": [
       "  bodyType brand  color fuelType  modelDate               name  numberOfDoors  \\\n",
       "0    Седан   BMW  серый   бензин     1968.0  2.5 MT (150 л.с.)            4.0   \n",
       "\n",
       "   productionDate  vehicleConfiguration vehicleTransmission  \\\n",
       "0            1969  SEDAN MECHANICAL 2.5        механическая   \n",
       "\n",
       "  engineDisplacement enginePower  \\\n",
       "0            2.5 LTR     150 N12   \n",
       "\n",
       "                                         description   mileage Комплектация  \\\n",
       "0  В продаже оригинальная BMW 2500  Родной двигат...  200000.0         None   \n",
       "\n",
       "   Привод   Руль           Состояние Владельцы       ПТС     Таможня  \\\n",
       "0  задний  Левый  Не требует ремонта         2  Оригинал  Растаможен   \n",
       "\n",
       "            Владение    Цена  \n",
       "0  9 лет и 7 месяцев  460000  "
      ]
     },
     "execution_count": 20,
     "metadata": {},
     "output_type": "execute_result"
    }
   ],
   "source": [
    "# bmw = bmw.drop(['Unnamed: 0','id'], axis = 1)\n",
    "bmw = bmw.drop(['index'], axis = 1)\n",
    "bmw.head(1)"
   ]
  },
  {
   "cell_type": "code",
   "execution_count": 23,
   "metadata": {},
   "outputs": [
    {
     "name": "stdout",
     "output_type": "stream",
     "text": [
      "(193415, 23)\n"
     ]
    },
    {
     "data": {
      "text/plain": [
       "(78326, 23)"
      ]
     },
     "execution_count": 23,
     "metadata": {},
     "output_type": "execute_result"
    }
   ],
   "source": [
    "print(df_auto.shape)\n",
    "bmw.shape"
   ]
  },
  {
   "cell_type": "code",
   "execution_count": 22,
   "metadata": {},
   "outputs": [],
   "source": [
    "df_auto = df_auto.append(bmw, ignore_index = True)"
   ]
  },
  {
   "cell_type": "code",
   "execution_count": 25,
   "metadata": {},
   "outputs": [],
   "source": [
    "columns_dict = {\n",
    "        'bodyType':'body_type',\n",
    "        'fuelType':'fuel_type',\n",
    "        'modelDate':'model_date',\n",
    "        'name':'engine_description',\n",
    "        'numberOfDoors':'number_of_doors',\n",
    "        'productionDate':'production_date',\n",
    "        'vehicleConfiguration':'vehicle_configuration',\n",
    "        'vehicleTransmission':'vehicle_transmission',\n",
    "        'engineDisplacement':'engine_displacement',\n",
    "        'enginePower':'engine_power',\n",
    "        'Комплектация':'complectation',\n",
    "        'Привод':'drive',\n",
    "        'Руль':'stear',\n",
    "        'Состояние': 'conditions',\n",
    "        'Владельцы':'owners',\n",
    "        'ПТС':'pts',\n",
    "        'Таможня':'customs',\n",
    "        'Владение':'ownership', \n",
    "        'Цена':'price'\n",
    "    }\n",
    "df_auto.rename(columns = columns_dict, inplace=True)\n",
    "df_auto.to_csv('auto_for_PoerBI.csv', sep = ';')"
   ]
  },
  {
   "cell_type": "code",
   "execution_count": null,
   "metadata": {},
   "outputs": [],
   "source": []
  }
 ],
 "metadata": {
  "kernelspec": {
   "display_name": "Python 3",
   "language": "python",
   "name": "python3"
  },
  "language_info": {
   "codemirror_mode": {
    "name": "ipython",
    "version": 3
   },
   "file_extension": ".py",
   "mimetype": "text/x-python",
   "name": "python",
   "nbconvert_exporter": "python",
   "pygments_lexer": "ipython3",
   "version": "3.8.5"
  },
  "pycharm": {
   "stem_cell": {
    "cell_type": "raw",
    "metadata": {
     "collapsed": false
    },
    "source": []
   }
  }
 },
 "nbformat": 4,
 "nbformat_minor": 4
}
